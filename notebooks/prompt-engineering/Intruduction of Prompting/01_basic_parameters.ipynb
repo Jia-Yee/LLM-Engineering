{
 "cells": [
  {
   "cell_type": "markdown",
   "id": "b290ed74",
   "metadata": {},
   "source": [
    "# Basic LLM Parameters for Recruitment Tasks\n",
    "\n",
    "This notebook covers the fundamental parameters for controlling LLM outputs in recruitment contexts:\n",
    "\n",
    "1. Temperature - Controls randomness and creativity\n",
    "2. Top-p (Nucleus Sampling) - Controls diversity of token selection\n",
    "3. Top-k - Limits the number of tokens considered\n",
    "4. Max Tokens - Controls response length\n",
    "\n",
    "We'll explore how these parameters affect different recruitment tasks including:\n",
    "- Job description generation and analysis\n",
    "- Resume parsing and evaluation\n",
    "- Company information processing"
   ]
  },
  {
   "cell_type": "code",
   "execution_count": 5,
   "id": "fc1a1576",
   "metadata": {},
   "outputs": [],
   "source": [
    "import json\n",
    "from subprocess import Popen, PIPE\n",
    "from IPython.display import display, Markdown\n",
    "\n",
    "def query_model(prompt, **params):\n",
    "    \"\"\"Query Ollama with a specific presence_penalty setting\"\"\"\n",
    "    cmd = [\n",
    "        \"curl\",\n",
    "        \"http://localhost:11434/api/generate\",\n",
    "        \"-d\",\n",
    "        json.dumps({\n",
    "            \"model\": \"llama3\",\n",
    "            \"prompt\": prompt,\n",
    "            **params\n",
    "        })\n",
    "    ]\n",
    "\n",
    "    process = Popen(cmd, stdout=PIPE, stderr=PIPE)\n",
    "    output, _ = process.communicate()\n",
    "\n",
    "    responses = [json.loads(line) for line in output.decode().strip().split(\"\\n\")]\n",
    "    return \"\".join(r.get(\"response\", \"\") for r in responses)"
   ]
  },
  {
   "cell_type": "markdown",
   "id": "58485ed1",
   "metadata": {},
   "source": [
    "## Temperature\n",
    "\n",
    "Understanding temperature in recruitment contexts:\n",
    "- How it affects output quality\n",
    "- Best practices for different tasks\n",
    "- Example scenarios and use cases"
   ]
  },
  {
   "cell_type": "markdown",
   "id": "9a49f0fa",
   "metadata": {},
   "source": [
    "### Job Description\n",
    "\n",
    "Testing temperature with this recruiting scenario:\n",
    "```\n",
    "Write a job description for a Senior Software Engineer position focusing on AI/ML development.\n",
    "```"
   ]
  },
  {
   "cell_type": "code",
   "execution_count": 6,
   "id": "4e86b544",
   "metadata": {},
   "outputs": [
    {
     "name": "stdout",
     "output_type": "stream",
     "text": [
      "\n",
      "temperature = 0.1\n"
     ]
    },
    {
     "data": {
      "text/markdown": [
       "**Response:**\n",
       "**Job Title:** Senior Software Engineer - Artificial Intelligence/Machine Learning (AI/ML)\n",
       "\n",
       "**Company Overview:**\n",
       "\n",
       "Our company is a leading provider of innovative solutions that leverage the power of artificial intelligence and machine learning to transform industries and improve lives. We are seeking an experienced and talented Senior Software Engineer with expertise in AI/ML development to join our team.\n",
       "\n",
       "**Job Summary:**\n",
       "\n",
       "We are looking for a highly skilled and motivated Senior Software Engineer to lead the design, development, and implementation of AI/ML models and algorithms that drive business value. As a key member of our engineering team, you will work closely with data scientists, product managers, and other stakeholders to develop cutting-edge AI/ML solutions that meet the needs of our customers.\n",
       "\n",
       "**Responsibilities:**\n",
       "\n",
       "* Design, develop, test, and deploy AI/ML models and algorithms using various programming languages such as Python, Java, or C++.\n",
       "* Collaborate with data scientists to integrate machine learning models into larger software systems.\n",
       "* Develop and maintain complex software systems that incorporate AI/ML components.\n",
       "* Work closely with cross-functional teams, including product management, design, and QA to ensure successful project delivery.\n",
       "* Provide technical leadership and mentorship to junior engineers and guide them in their AI/ML development efforts.\n",
       "* Stay up-to-date with the latest advancements in AI/ML research and apply this knowledge to improve our products and services.\n",
       "* Develop and maintain a deep understanding of AI/ML technologies, including computer vision, natural language processing, and reinforcement learning.\n",
       "* Troubleshoot complex software issues and develop creative solutions.\n",
       "* Collaborate with other teams to identify and prioritize technical debt and make improvements.\n",
       "\n",
       "**Requirements:**\n",
       "\n",
       "* Bachelor's or Master's degree in Computer Science, Electrical Engineering, or a related field.\n",
       "* 5+ years of experience in AI/ML development, preferably with a focus on deep learning and neural networks.\n",
       "* Strong programming skills in languages such as Python, Java, C++, or R.\n",
       "* Experience with popular AI/ML frameworks such as TensorFlow, PyTorch, Keras, or Scikit-Learn.\n",
       "* Proficiency in data structures, algorithms, and software design patterns.\n",
       "* Excellent problem-solving skills and attention to detail.\n",
       "* Strong communication and collaboration skills.\n",
       "* Experience working with large datasets and databases.\n",
       "* Familiarity with containerization (Docker) and orchestration (Kubernetes) is a plus.\n",
       "\n",
       "**Nice to Have:**\n",
       "\n",
       "* PhD in Computer Science or a related field.\n",
       "* Experience with cloud-based AI/ML platforms such as AWS SageMaker, Google Cloud AI Platform, or Azure Machine Learning.\n",
       "* Knowledge of computer vision, natural language processing, or reinforcement learning concepts.\n",
       "* Experience working with Agile development methodologies and version control systems like Git.\n",
       "\n",
       "**What We Offer:**\n",
       "\n",
       "* Competitive salary and benefits package.\n",
       "* Opportunities for professional growth and career advancement.\n",
       "* Collaborative and dynamic work environment.\n",
       "* Access to cutting-edge technologies and tools.\n",
       "* Flexible work arrangements, including remote work options.\n",
       "* Recognition and rewards for outstanding performance.\n",
       "\n",
       "If you are a highly motivated and experienced AI/ML developer looking for a challenging and rewarding role, we encourage you to apply!"
      ],
      "text/plain": [
       "<IPython.core.display.Markdown object>"
      ]
     },
     "metadata": {},
     "output_type": "display_data"
    },
    {
     "name": "stdout",
     "output_type": "stream",
     "text": [
      "\n",
      "temperature = 0.5\n"
     ]
    },
    {
     "data": {
      "text/markdown": [
       "**Response:**\n",
       "Here is a job description for a Senior Software Engineer position focusing on AI/ML development:\n",
       "\n",
       "**Job Title:** Senior Software Engineer - Artificial Intelligence/Machine Learning (AI/ML)\n",
       "\n",
       "**Company:** [Insert Company Name]\n",
       "\n",
       "**Location:** [Insert Location]\n",
       "\n",
       "**Job Type:** Full-time\n",
       "\n",
       "**About Us:**\n",
       "\n",
       "[Insert Company Name] is a cutting-edge technology company that specializes in developing innovative AI/ML solutions for various industries. We are seeking an experienced and talented Senior Software Engineer to join our team of experts in designing, building, and deploying AI/ML models that drive business value.\n",
       "\n",
       "**Job Summary:**\n",
       "\n",
       "We are looking for a highly skilled Senior Software Engineer with a passion for AI/ML development to lead the design and implementation of complex AI/ML systems. As a Senior Software Engineer, you will be responsible for developing, testing, and maintaining AI/ML models and algorithms using various programming languages (e.g., Python, Java), frameworks (e.g., TensorFlow, PyTorch), and tools (e.g., Keras, Scikit-Learn). You will work closely with cross-functional teams to integrate AI/ML solutions into our products and services.\n",
       "\n",
       "**Responsibilities:**\n",
       "\n",
       "* Design and develop AI/ML models and algorithms for various applications, including computer vision, natural language processing, and predictive analytics.\n",
       "* Collaborate with data scientists and engineers to develop and deploy AI/ML models that meet business requirements and performance metrics.\n",
       "* Implement and test AI/ML models using various programming languages, frameworks, and tools.\n",
       "* Optimize and refine AI/ML models for improved performance, scalability, and maintainability.\n",
       "* Work closely with QA engineers to ensure AI/ML models are thoroughly tested and validated.\n",
       "* Develop and maintain AI/ML pipelines and workflows to streamline the development process.\n",
       "* Collaborate with data engineers to design and implement large-scale data processing and storage architectures.\n",
       "* Stay up-to-date with emerging trends and advancements in AI/ML and apply this knowledge to improve our products and services.\n",
       "\n",
       "**Requirements:**\n",
       "\n",
       "* Bachelor's or Master's degree in Computer Science, Electrical Engineering, or a related field.\n",
       "* At least 5 years of experience in AI/ML development, with a strong focus on software engineering.\n",
       "* Proficiency in one or more programming languages, such as Python, Java, C++, or R.\n",
       "* Experience with popular AI/ML frameworks and tools, including TensorFlow, PyTorch, Keras, Scikit-Learn, or OpenCV.\n",
       "* Strong understanding of machine learning algorithms, including supervised and unsupervised learning methods.\n",
       "* Familiarity with cloud-based services, such as AWS, Azure, or Google Cloud.\n",
       "* Excellent problem-solving skills and attention to detail.\n",
       "* Strong communication and collaboration skills, with the ability to work effectively in a team environment.\n",
       "\n",
       "**Nice to Have:**\n",
       "\n",
       "* Master's or Ph.D. degree in AI/ML-related fields.\n",
       "* Experience working on large-scale AI/ML projects.\n",
       "* Familiarity with DevOps practices and CI/CD pipelines.\n",
       "* Knowledge of data governance and compliance regulations (e.g., GDPR, HIPAA).\n",
       "\n",
       "**What We Offer:**\n",
       "\n",
       "* Competitive salary and benefits package.\n",
       "* Opportunities to work on cutting-edge AI/ML projects that drive business value.\n",
       "* Collaborative and dynamic work environment.\n",
       "* Professional development opportunities, including training and mentorship programs.\n",
       "* Flexible working hours and remote work options.\n",
       "\n",
       "If you are a motivated and talented AI/ML engineer looking for a new challenge, please submit your application, including your resume, cover letter, and portfolio (if applicable). We look forward to hearing from you!"
      ],
      "text/plain": [
       "<IPython.core.display.Markdown object>"
      ]
     },
     "metadata": {},
     "output_type": "display_data"
    },
    {
     "name": "stdout",
     "output_type": "stream",
     "text": [
      "\n",
      "temperature = 0.9\n"
     ]
    },
    {
     "data": {
      "text/markdown": [
       "**Response:**\n",
       "**Job Title:** Senior Software Engineer - Artificial Intelligence/Machine Learning (AI/ML)\n",
       "\n",
       "**Company Overview:**\n",
       "Our company is a leading innovator in the field of artificial intelligence and machine learning, dedicated to developing cutting-edge solutions that transform industries. We are seeking a highly skilled Senior Software Engineer to join our AI/ML development team.\n",
       "\n",
       "**Job Summary:**\n",
       "\n",
       "We are looking for an experienced Senior Software Engineer with a strong background in AI/ML development to design, develop, test, and deploy innovative AI-powered applications. The successful candidate will work closely with cross-functional teams to deliver high-quality solutions that drive business value. This is a challenging and rewarding opportunity for a motivated individual who wants to leverage their skills to shape the future of AI.\n",
       "\n",
       "**Responsibilities:**\n",
       "\n",
       "* Design, develop, test, and maintain complex AI/ML models and applications using programming languages such as Python, R, or Julia\n",
       "* Work with data scientists to integrate machine learning algorithms into software systems, ensuring seamless integration with existing infrastructure\n",
       "* Collaborate with product managers to define requirements for AI-powered products and features, and ensure delivery of high-quality solutions that meet business needs\n",
       "* Develop and maintain a deep understanding of AI/ML technologies, including natural language processing (NLP), computer vision, reinforcement learning, and other relevant areas\n",
       "* Mentor junior engineers and provide guidance on best practices in AI/ML development\n",
       "* Participate in code reviews and ensure adherence to coding standards, design patterns, and testing best practices\n",
       "* Stay up-to-date with industry trends, advancements, and breakthroughs in AI/ML, and apply this knowledge to improve our products and services\n",
       "* Contribute to the development of new features, tools, and frameworks for AI-powered applications\n",
       "* Collaborate with other teams to integrate AI-powered solutions into existing systems and infrastructure\n",
       "\n",
       "**Requirements:**\n",
       "\n",
       "* Bachelor's or Master's degree in Computer Science, Engineering, or a related field\n",
       "* At least 5 years of experience in AI/ML development, with a focus on software engineering\n",
       "* Strong programming skills in languages such as Python, R, or Julia, with experience working with popular ML libraries (e.g., TensorFlow, PyTorch, Scikit-learn)\n",
       "* Experience with data structures, algorithms, and software design patterns\n",
       "* Excellent understanding of AI/ML concepts, including supervised and unsupervised learning, neural networks, deep learning, and reinforcement learning\n",
       "* Strong problem-solving skills, with the ability to analyze complex problems and develop effective solutions\n",
       "* Excellent communication and collaboration skills, with experience working in a team environment\n",
       "* Proficiency with version control systems (e.g., Git), Agile development methodologies, and continuous integration/continuous deployment (CI/CD) pipelines\n",
       "\n",
       "**Nice to Have:**\n",
       "\n",
       "* Experience with cloud-based AI platforms (e.g., AWS SageMaker, Google Cloud AI Platform)\n",
       "* Familiarity with big data technologies (e.g., Hadoop, Spark, NoSQL databases)\n",
       "* Knowledge of containerization (e.g., Docker) and orchestration (e.g., Kubernetes)\n",
       "* Certification in AI/ML (e.g., Certified Data Scientist, Certified Machine Learning Engineer)\n",
       "\n",
       "**What We Offer:**\n",
       "\n",
       "* Competitive salary and benefits package\n",
       "* Opportunity to work on cutting-edge AI/ML projects that drive business value\n",
       "* Collaborative and dynamic work environment with a team of experts\n",
       "* Professional development opportunities through training, mentorship, and conferences\n",
       "* Flexible working hours and remote work options\n",
       "\n",
       "If you are a motivated and talented software engineer looking for a challenging and rewarding opportunity in AI/ML development, we encourage you to apply!"
      ],
      "text/plain": [
       "<IPython.core.display.Markdown object>"
      ]
     },
     "metadata": {},
     "output_type": "display_data"
    }
   ],
   "source": [
    "# Try different temperature values\n",
    "for value in [0.1, 0.5, 0.9]:\n",
    "    print(f\"\\ntemperature = {value}\")\n",
    "    response = query_model('''Write a job description for a Senior Software Engineer position focusing on AI/ML development.''', temperature=value)\n",
    "    display(Markdown(f\"**Response:**\\n{response}\"))"
   ]
  },
  {
   "cell_type": "markdown",
   "id": "4ca3bc7b",
   "metadata": {},
   "source": [
    "### Resume Summary\n",
    "\n",
    "Testing temperature with this recruiting scenario:\n",
    "```\n",
    "Summarize a resume that highlights 5 years of Python development, ML model deployment, and team leadership.\n",
    "```"
   ]
  },
  {
   "cell_type": "code",
   "execution_count": 7,
   "id": "f22e1a96",
   "metadata": {},
   "outputs": [
    {
     "name": "stdout",
     "output_type": "stream",
     "text": [
      "\n",
      "temperature = 0.1\n"
     ]
    },
    {
     "data": {
      "text/markdown": [
       "**Response:**\n",
       "Here's a summary of a resume that highlights 5 years of Python development, ML model deployment, and team leadership:\n",
       "\n",
       "**Summary:**\n",
       "\n",
       "Highly skilled Python developer with 5+ years of experience in building scalable and efficient software solutions. Proven track record of successfully deploying machine learning (ML) models into production environments. Adept at leading cross-functional teams to deliver high-quality products on time. Proficient in a range of technologies, including Python, NumPy, Pandas, TensorFlow, Keras, and scikit-learn.\n",
       "\n",
       "**Technical Skills:**\n",
       "\n",
       "* Programming languages: Python\n",
       "* Data science frameworks: NumPy, Pandas, scikit-learn, TensorFlow, Keras\n",
       "* Operating Systems: Linux, Windows\n",
       "* Cloud platforms: AWS, Google Cloud\n",
       "\n",
       "**Professional Experience:**\n",
       "\n",
       "**Senior Software Engineer**, ABC Company (2020-Present)\n",
       "\n",
       "* Led a team of 3 engineers to develop and deploy multiple ML models for predictive maintenance and anomaly detection in industrial equipment.\n",
       "* Designed and implemented scalable data pipelines using Apache Beam and AWS Glue.\n",
       "* Collaborated with data scientists to integrate custom-built ML models into production environments.\n",
       "\n",
       "**Software Engineer**, DEF Company (2018-2020)\n",
       "\n",
       "* Developed a real-time sentiment analysis system for customer feedback using Python, TensorFlow, and Natural Language Processing (NLP) techniques.\n",
       "* Worked on a team of 5 engineers to build a recommendation engine for e-commerce platforms using collaborative filtering and matrix factorization.\n",
       "\n",
       "**Education:**\n",
       "\n",
       "* Bachelor's/Master's Degree in Computer Science or related field\n",
       "\n",
       "This summary highlights the candidate's:\n",
       "\n",
       "1. Technical skills in Python, data science frameworks, and cloud platforms.\n",
       "2. Professional experience in leading teams and deploying ML models into production environments.\n",
       "3. Achievements in building scalable software solutions and collaborating with cross-functional teams.\n",
       "\n",
       "Note that this is just a sample summary, and you should tailor your own resume to your specific experiences and qualifications."
      ],
      "text/plain": [
       "<IPython.core.display.Markdown object>"
      ]
     },
     "metadata": {},
     "output_type": "display_data"
    },
    {
     "name": "stdout",
     "output_type": "stream",
     "text": [
      "\n",
      "temperature = 0.5\n"
     ]
    },
    {
     "data": {
      "text/markdown": [
       "**Response:**\n",
       "Here's a summary of a resume that highlights 5 years of Python development, ML model deployment, and team leadership:\n",
       "\n",
       "**Summary:**\n",
       "\n",
       "Highly motivated and experienced Python developer with 5 years of hands-on experience in building machine learning models and deploying them to production environments. Proven track record of successfully leading teams and mentoring junior developers to achieve project goals. Skilled in full-stack development, data analysis, and model deployment using popular tools like TensorFlow, Keras, and Flask.\n",
       "\n",
       "**Technical Skills:**\n",
       "\n",
       "* Programming languages: Python (5+ years), JavaScript\n",
       "* Frameworks: TensorFlow, Keras, Flask, Django\n",
       "* Databases: MySQL, PostgreSQL, MongoDB\n",
       "* Operating Systems: Windows, Linux, macOS\n",
       "* Version control: Git\n",
       "\n",
       "**Professional Experience:**\n",
       "\n",
       "**Senior Python Developer**, ABC Company (2018-Present)\n",
       "\n",
       "* Led a team of 3 developers to build and deploy multiple machine learning models for client-facing applications, resulting in a 25% increase in customer engagement.\n",
       "* Designed and implemented a scalable data pipeline using Apache Beam and Google Cloud Storage, reducing data processing time by 30%.\n",
       "* Mentored junior developers on best practices for Python development, code review, and collaborative project management.\n",
       "\n",
       "**Python Developer**, DEF Startup (2015-2018)\n",
       "\n",
       "* Built multiple machine learning models using scikit-learn and TensorFlow to power a predictive analytics platform.\n",
       "* Collaborated with the data science team to integrate ML models into web applications using Flask and Django.\n",
       "* Developed and maintained a Python library for natural language processing, open-sourced on GitHub.\n",
       "\n",
       "**Education:**\n",
       "\n",
       "* Bachelor's/Master's degree in Computer Science or related field (2010-2015)\n",
       "\n",
       "**Certifications/Awards:**\n",
       "\n",
       "* Certified Machine Learning Engineer (CMLE), XYZ Institute\n",
       "* Winner of the ABC Hackathon (2016) for a Python-based project\n",
       "\n",
       "This summary showcases the candidate's technical skills, professional experience, and achievements in leading teams and deploying ML models. It also highlights their ability to mentor junior developers and work collaboratively with data scientists and other stakeholders."
      ],
      "text/plain": [
       "<IPython.core.display.Markdown object>"
      ]
     },
     "metadata": {},
     "output_type": "display_data"
    },
    {
     "name": "stdout",
     "output_type": "stream",
     "text": [
      "\n",
      "temperature = 0.9\n"
     ]
    },
    {
     "data": {
      "text/markdown": [
       "**Response:**\n",
       "Here's a summary of a resume that highlights 5 years of Python development, ML model deployment, and team leadership:\n",
       "\n",
       "**Summary:**\n",
       "\n",
       "Highly motivated and experienced Python developer with 5 years of expertise in building scalable and efficient machine learning models. Proven track record of successfully deploying models into production environments, leading cross-functional teams to achieve project goals, and driving business growth through data-driven insights.\n",
       "\n",
       "**Technical Skills:**\n",
       "\n",
       "* Programming languages: Python (expert-level)\n",
       "* Machine Learning frameworks: TensorFlow, Scikit-learn\n",
       "* Data Analysis tools: Pandas, NumPy, Matplotlib\n",
       "* Cloud platforms: AWS, Google Cloud\n",
       "* Agile methodologies: Scrum, Kanban\n",
       "\n",
       "**Work Experience:**\n",
       "\n",
       "**Senior Python Developer & Team Lead (2020-Present)**\n",
       "\n",
       "* Led a team of 3 developers to build and deploy multiple machine learning models for client-side applications\n",
       "* Developed and deployed 5+ ML models using TensorFlow and AWS SageMaker, resulting in a 25% increase in customer engagement\n",
       "* Collaborated with cross-functional teams to design and implement data pipelines, ensuring seamless data integration and analysis\n",
       "* Mentored junior developers, providing guidance on best practices, coding standards, and project management\n",
       "\n",
       "**Python Developer (2018-2020)**\n",
       "\n",
       "* Contributed to the development of multiple ML models for internal applications, achieving a 95% accuracy rate\n",
       "* Utilized Scikit-learn and Pandas to analyze large datasets and identify trends and patterns\n",
       "* Worked with data scientists to design and implement data visualizations using Matplotlib and Seaborn\n",
       "\n",
       "**Education:**\n",
       "\n",
       "* Bachelor's/Master's degree in Computer Science or related field (2015-2019)\n",
       "\n",
       "This summary highlights the candidate's technical skills, work experience, and achievements in Python development, ML model deployment, and team leadership. It also showcases their ability to work with cross-functional teams, drive business growth through data-driven insights, and mentor junior developers."
      ],
      "text/plain": [
       "<IPython.core.display.Markdown object>"
      ]
     },
     "metadata": {},
     "output_type": "display_data"
    }
   ],
   "source": [
    "# Try different temperature values\n",
    "for value in [0.1, 0.5, 0.9]:\n",
    "    print(f\"\\ntemperature = {value}\")\n",
    "    response = query_model('''Summarize a resume that highlights 5 years of Python development, ML model deployment, and team leadership.''', temperature=value)\n",
    "    display(Markdown(f\"**Response:**\\n{response}\"))"
   ]
  },
  {
   "cell_type": "markdown",
   "id": "89005d4b",
   "metadata": {},
   "source": [
    "### Company Culture\n",
    "\n",
    "Testing temperature with this recruiting scenario:\n",
    "```\n",
    "Describe the company culture of a fast-growing AI startup.\n",
    "```"
   ]
  },
  {
   "cell_type": "code",
   "execution_count": 8,
   "id": "d7a6cbb0",
   "metadata": {},
   "outputs": [
    {
     "name": "stdout",
     "output_type": "stream",
     "text": [
      "\n",
      "temperature = 0.1\n"
     ]
    },
    {
     "data": {
      "text/markdown": [
       "**Response:**\n",
       "The company culture of a fast-growing AI startup is often characterized by a unique blend of innovation, collaboration, and adaptability. Here are some key aspects that may define the culture:\n",
       "\n",
       "1. **Innovative and Experimentation-Friendly**: AI startups thrive on innovation, and this is reflected in their culture. The team is encouraged to think outside the box, take calculated risks, and explore new ideas. A culture of experimentation and learning from failures is essential.\n",
       "2. **Collaborative and Open**: With a focus on machine learning and data-driven decision-making, AI startups require seamless communication among teams. This leads to an open-door policy, regular feedback sessions, and a flat organizational structure that fosters collaboration and idea-sharing.\n",
       "3. **Fast-Paced and Adaptable**: The AI industry is constantly evolving, and the company must be able to adapt quickly to changing market conditions, new technologies, and shifting priorities. A fast-paced culture encourages agility, flexibility, and continuous learning.\n",
       "4. **Data-Driven Decision Making**: With AI at the core, data plays a crucial role in decision-making. The company culture should emphasize the importance of data analysis, experimentation, and validation in driving business decisions.\n",
       "5. **Emphasis on Lifelong Learning**: AI is a rapidly changing field, and the team must stay up-to-date with the latest advancements. A culture that values lifelong learning encourages employees to invest in their professional development through training, mentorship, and industry-relevant certifications.\n",
       "6. **Autonomy and Ownership**: With complex projects and tight deadlines, AI startup teams require autonomy and ownership over their work. This leads to a culture of accountability, where individuals are empowered to make decisions and take calculated risks.\n",
       "7. **Diversity, Equity, and Inclusion (DEI)**: A diverse team is essential for developing innovative AI solutions that cater to various customer needs. The company culture should prioritize DEI principles, ensuring an inclusive work environment and promoting equal opportunities for growth.\n",
       "8. **Wellness and Self-Care**: The fast-paced nature of AI startups can be demanding, both mentally and physically. A culture that prioritizes employee wellness, mental health, and self-care is essential to maintain a healthy and productive team.\n",
       "9. **Transparency and Trust**: As AI startups scale rapidly, transparency becomes crucial for maintaining trust among employees, customers, and investors. The company culture should prioritize open communication, regular updates, and clear expectations.\n",
       "10. **Fun and Celebrations**: Despite the intense focus on innovation, AI startups should not forget to have fun! Regular celebrations, team-building activities, and social events can help build camaraderie and foster a positive work environment.\n",
       "\n",
       "In summary, the company culture of a fast-growing AI startup is characterized by:\n",
       "\n",
       "* A willingness to take calculated risks and experiment with new ideas\n",
       "* Collaboration, open communication, and feedback loops\n",
       "* Emphasis on data-driven decision making and lifelong learning\n",
       "* Autonomy and ownership over projects and tasks\n",
       "* Prioritization of diversity, equity, and inclusion\n",
       "* Wellness and self-care initiatives\n",
       "* Transparency and trust among stakeholders\n",
       "* A focus on having fun and building a positive team culture\n",
       "\n",
       "These characteristics help drive innovation, creativity, and success in the competitive AI industry."
      ],
      "text/plain": [
       "<IPython.core.display.Markdown object>"
      ]
     },
     "metadata": {},
     "output_type": "display_data"
    },
    {
     "name": "stdout",
     "output_type": "stream",
     "text": [
      "\n",
      "temperature = 0.5\n"
     ]
    },
    {
     "data": {
      "text/markdown": [
       "**Response:**\n",
       "The thrill of working at a fast-growing AI startup! Here's a glimpse into their company culture:\n",
       "\n",
       "**Collaborative and Dynamic**\n",
       "\n",
       "* The team is flat, with open communication channels. Everyone shares ideas, and feedback is encouraged.\n",
       "* Cross-functional collaboration is the norm, with regular brainstorming sessions, hackathons, and ideation workshops.\n",
       "* The pace is fast, with tight deadlines and a constant sense of urgency to deliver innovative solutions.\n",
       "\n",
       "**Data-Driven Decision Making**\n",
       "\n",
       "* Data analysis and experimentation are integral to decision-making. The team relies on data-driven insights to inform product development, marketing strategies, and business growth.\n",
       "* Analytics tools and dashboards provide real-time visibility into key performance indicators (KPIs), helping the team track progress and adjust course as needed.\n",
       "\n",
       "**Experimentation and Learning**\n",
       "\n",
       "* Failure is not only tolerated but encouraged as a means of learning. The team celebrates \"failure\" as an opportunity to iterate, refine, and improve.\n",
       "* Continuous training and skill-building are essential for staying ahead of the AI curve. Regular workshops, webinars, and conferences keep the team up-to-date on the latest advancements.\n",
       "\n",
       "**Innovation-Focused**\n",
       "\n",
       "* R&D is a core part of the company culture. The team prioritizes innovation over incremental improvements, always looking for new ways to apply AI to solve real-world problems.\n",
       "* A dedicated innovation fund supports exploratory projects and encourages experimentation with new ideas.\n",
       "\n",
       "**Growth Mindset**\n",
       "\n",
       "* Embracing uncertainty and ambiguity is essential in a fast-growing startup environment. The team adapts quickly to changing circumstances and views challenges as opportunities for growth.\n",
       "* Mental wellness and self-care are prioritized, recognizing the high-pressure nature of working at a rapid-growth company.\n",
       "\n",
       "**Employee Development**\n",
       "\n",
       "* Professional development is crucial for employee retention and growth. Regular check-ins, mentorship programs, and training initiatives support career advancement.\n",
       "* A clear path for career progression encourages employees to take ownership of their roles and contribute to the company's overall success.\n",
       "\n",
       "**Fun and Camaraderie**\n",
       "\n",
       "* Despite the fast-paced environment, the team prioritizes work-life balance and social bonding. Regular team-building activities, outings, and celebrations bring everyone together.\n",
       "* Pranks, humor, and playful competition are common ways to blow off steam and maintain morale during intense periods.\n",
       "\n",
       "**Diversity, Equity, and Inclusion**\n",
       "\n",
       "* The company values diversity, equity, and inclusion (DEI) as essential components of its culture. The team actively promotes a welcoming environment for all employees, regardless of background, gender, race, or identity.\n",
       "* Regular workshops, training sessions, and community outreach initiatives ensure that DEI principles are integrated into daily operations.\n",
       "\n",
       "**Open Communication**\n",
       "\n",
       "* Transparency is key. Senior leaders regularly share updates on company performance, goals, and challenges with the entire team.\n",
       "* Open-door policies encourage employees to speak up, ask questions, or report concerns without fear of retribution.\n",
       "\n",
       "This fast-growing AI startup culture values collaboration, innovation, and employee development while prioritizing growth, learning, and well-being."
      ],
      "text/plain": [
       "<IPython.core.display.Markdown object>"
      ]
     },
     "metadata": {},
     "output_type": "display_data"
    },
    {
     "name": "stdout",
     "output_type": "stream",
     "text": [
      "\n",
      "temperature = 0.9\n"
     ]
    },
    {
     "data": {
      "text/markdown": [
       "**Response:**\n",
       "The thrill of working for a fast-growing AI startup! Here's a snapshot of what you might expect:\n",
       "\n",
       "**Collaborative and Adaptable**\n",
       "\n",
       "As a rapidly expanding team, everyone is encouraged to be flexible and willing to pivot when needed. Communication flows freely across departments, with an open-door policy that fosters collaboration and innovation. The atmosphere is dynamic, with a constant exchange of ideas and learning from each other's strengths.\n",
       "\n",
       "**Innovative and Curious**\n",
       "\n",
       "The company culture is deeply rooted in the pursuit of innovation. Team members are encouraged to explore new AI technologies, participate in hackathons, and contribute to open-source projects. This curiosity drives the development of groundbreaking solutions that push the boundaries of what's possible with AI.\n",
       "\n",
       "**Fast-Paced and Results-Oriented**\n",
       "\n",
       "With a strong focus on growth and execution, the company culture emphasizes setting ambitious goals and achieving them quickly. The pace is fast, and team members are expected to be proactive in identifying opportunities and taking calculated risks. This fast-paced environment rewards speed, agility, and adaptability.\n",
       "\n",
       "**Emphasis on Learning and Development**\n",
       "\n",
       "The startup recognizes that AI is a rapidly evolving field, and continuous learning is essential for staying ahead of the curve. The company invests heavily in employee development, providing access to top-notch training programs, conferences, and mentorship opportunities. Team members are encouraged to share their knowledge and expertise with others through blog posts, talks, or teaching.\n",
       "\n",
       "**Work-Life Balance**\n",
       "\n",
       "While the startup culture can be demanding, the company prioritizes work-life balance. Flexible working hours, remote work options, and generous parental leave policies help team members maintain a healthy equilibrium between their professional and personal lives.\n",
       "\n",
       "**Autonomy and Empowerment**\n",
       "\n",
       "As a fast-growing organization, the company trusts its employees to take ownership of their projects and make decisions that align with the company's vision. Autonomy is valued, and team members are empowered to drive their own initiatives, leading to increased motivation and job satisfaction.\n",
       "\n",
       "**Fun and Celebrations**\n",
       "\n",
       "Despite the intensity, the company culture is playful and celebratory. Team-building activities, social events, and recognition programs (like employee of the quarter or annual awards) help foster camaraderie and appreciation for each other's hard work.\n",
       "\n",
       "**Clear Values and Mission**\n",
       "\n",
       "The startup has a clear mission and set of values that guide its decisions and behaviors. These values prioritize innovation, customer satisfaction, teamwork, and integrity, providing a sense of purpose and direction for all team members.\n",
       "\n",
       "**Constant Feedback and Improvement**\n",
       "\n",
       "As the company grows rapidly, it's essential to adapt and improve processes, products, and services. The culture encourages constructive feedback, with regular check-ins, 360-degree reviews, and anonymous suggestion boxes to ensure that everyone's voice is heard and valued.\n",
       "\n",
       "In this fast-growing AI startup, you can expect a dynamic, collaborative environment where creativity, innovation, and learning thrive."
      ],
      "text/plain": [
       "<IPython.core.display.Markdown object>"
      ]
     },
     "metadata": {},
     "output_type": "display_data"
    }
   ],
   "source": [
    "# Try different temperature values\n",
    "for value in [0.1, 0.5, 0.9]:\n",
    "    print(f\"\\ntemperature = {value}\")\n",
    "    response = query_model('''Describe the company culture of a fast-growing AI startup.''', temperature=value)\n",
    "    display(Markdown(f\"**Response:**\\n{response}\"))"
   ]
  },
  {
   "cell_type": "markdown",
   "id": "f1e90784",
   "metadata": {},
   "source": [
    "## Top_P\n",
    "\n",
    "Understanding top_p in recruitment contexts:\n",
    "- How it affects output quality\n",
    "- Best practices for different tasks\n",
    "- Example scenarios and use cases"
   ]
  },
  {
   "cell_type": "markdown",
   "id": "8086ae27",
   "metadata": {},
   "source": [
    "### Skill Matching\n",
    "\n",
    "Testing top_p with this recruiting scenario:\n",
    "```\n",
    "Given a job requirement for 'Python, TensorFlow, and AWS experience', analyze if a candidate with 'extensive Python, PyTorch background, and GCP expertise' is a good match.\n",
    "```"
   ]
  },
  {
   "cell_type": "code",
   "execution_count": 9,
   "id": "e2be8466",
   "metadata": {},
   "outputs": [
    {
     "name": "stdout",
     "output_type": "stream",
     "text": [
      "\n",
      "top_p = 10\n"
     ]
    },
    {
     "data": {
      "text/markdown": [
       "**Response:**\n",
       "Based on the job requirement, let's analyze whether the candidate with \"extensive Python, PyTorch background, and GCP expertise\" is a good match.\n",
       "\n",
       "**Matched Requirements:**\n",
       "\n",
       "1. **Python**: The candidate has extensive experience in Python, which directly matches one of the required skills.\n",
       "2. **Background**: Although PyTorch is not exactly TensorFlow, it's still a deep learning framework that requires similar programming skills and understanding of neural networks. This background can be seen as indirectly relevant to the requirement.\n",
       "\n",
       "**Not Matched Requirements:**\n",
       "\n",
       "1. **TensorFlow**: The candidate has experience with PyTorch, but not specifically with TensorFlow. While both frameworks share similarities, this might require some additional learning or adaptation to work effectively with TensorFlow.\n",
       "2. **AWS**: The candidate has expertise in GCP (Google Cloud Platform), which is a different cloud provider compared to AWS (Amazon Web Services). Although the candidate may have learned about cloud computing concepts, they lack direct experience with AWS.\n",
       "\n",
       "**Conclusion:**\n",
       "\n",
       "The candidate has a strong foundation in Python and deep learning, but lacks specific experience with TensorFlow and AWS. To be a good match for this job requirement, the candidate would need to demonstrate:\n",
       "\n",
       "1. Ability to quickly learn and adapt to TensorFlow.\n",
       "2. Familiarity with AWS or willingness to learn about it.\n",
       "\n",
       "While the candidate's skills are not a perfect fit, they can still be considered as long as they are willing to bridge these gaps. The hiring manager may want to assess the candidate's ability to learn new technologies and their enthusiasm for working in an AWS environment."
      ],
      "text/plain": [
       "<IPython.core.display.Markdown object>"
      ]
     },
     "metadata": {},
     "output_type": "display_data"
    },
    {
     "name": "stdout",
     "output_type": "stream",
     "text": [
      "\n",
      "top_p = 40\n"
     ]
    },
    {
     "data": {
      "text/markdown": [
       "**Response:**\n",
       "What an intriguing question!\n",
       "\n",
       "Let's break down the job requirement and the candidate's qualifications:\n",
       "\n",
       "**Job Requirement:**\n",
       "\n",
       "* \"Python\" - This is a given skill required for the job.\n",
       "* \"TensorFlow\" - This is a specific deep learning framework, which requires experience with TensorFlow to be considered.\n",
       "* \"AWS\" (Amazon Web Services) - This indicates that the candidate should have experience working on AWS.\n",
       "\n",
       "**Candidate's Qualifications:**\n",
       "\n",
       "* \"Extensive Python\" - This means the candidate has significant hands-on experience with Python, which aligns with the job requirement.\n",
       "* \"PyTorch background\" - PyTorch is a different deep learning framework from TensorFlow. While this might seem like a mismatch at first glance, it doesn't necessarily disqualify the candidate. Experience with PyTorch can still translate to understanding of deep learning concepts and potential ability to learn TensorFlow.\n",
       "* \"GCP\" (Google Cloud Platform) - This indicates that the candidate has experience working on Google's cloud platform, which is different from AWS.\n",
       "\n",
       "Now, let's analyze the match:\n",
       "\n",
       "**Positive Match:**\n",
       "\n",
       "1. Python expertise: The candidate meets this requirement head-on with extensive experience in Python.\n",
       "2. Deep learning background: Although PyTorch is not TensorFlow, the candidate's understanding of deep learning concepts can still be valuable for a job requiring TensorFlow experience. A candidate with deep learning knowledge might be more easily trainable to learn TensorFlow.\n",
       "\n",
       "**Potential Discrepancy:**\n",
       "\n",
       "1. AWS vs. GCP: The candidate has experience working on Google Cloud Platform (GCP), which is different from the required Amazon Web Services (AWS). This might raise concerns about the candidate's ability to adapt to a new cloud platform or potentially slower learning curve with AWS.\n",
       "\n",
       "**Conclusion:**\n",
       "\n",
       "While the candidate doesn't have direct experience with TensorFlow, their extensive Python background and deep learning knowledge can still make them a strong contender for the job. However, the mismatch in cloud platforms (GCP vs. AWS) might require additional attention from the interviewer to assess the candidate's willingness to learn and adapt.\n",
       "\n",
       "To further evaluate the candidate, you could ask questions like:\n",
       "\n",
       "* How do you think your PyTorch experience will translate to learning TensorFlow?\n",
       "* Can you describe a project where you had to learn a new cloud platform or technology stack? How did you handle it?\n",
       "* What steps would you take to quickly get up to speed with AWS if selected for the position?\n",
       "\n",
       "By asking these questions, you can gauge the candidate's ability to adapt and learn, which will help determine whether they're a good fit for the job."
      ],
      "text/plain": [
       "<IPython.core.display.Markdown object>"
      ]
     },
     "metadata": {},
     "output_type": "display_data"
    },
    {
     "name": "stdout",
     "output_type": "stream",
     "text": [
      "\n",
      "top_p = 100\n"
     ]
    },
    {
     "data": {
      "text/markdown": [
       "**Response:**\n",
       "Based on the job requirement, we can evaluate how well the candidate's skills align with the requirements.\n",
       "\n",
       "**Matched Skills:**\n",
       "\n",
       "1. **Python**: The candidate has an \"extensive\" Python background, which matches the job requirement.\n",
       "2. **Deep Learning**: Although PyTorch is mentioned instead of TensorFlow, both are deep learning frameworks and share similar concepts. This skill transferability makes the candidate a good match in this regard.\n",
       "\n",
       "**Mismatched Skills:**\n",
       "\n",
       "1. **TensorFlow**: The job requires experience with TensorFlow, while the candidate has expertise in PyTorch. While PyTorch is a popular deep learning framework, it's not a direct substitute for TensorFlow. However, this mismatch might be mitigated if the candidate has some experience or knowledge of TensorFlow.\n",
       "2. **AWS**: The job requirement asks for AWS experience, but the candidate has GCP (Google Cloud Platform) expertise instead. This is a significant mismatch, as AWS and GCP are two different cloud platforms.\n",
       "\n",
       "**Overall Evaluation:**\n",
       "\n",
       "The candidate's Python skills and PyTorch background match the job requirements well. However, the lack of TensorFlow experience and GCP expertise (instead of AWS) means that there are some gaps in their qualifications.\n",
       "\n",
       "If you're hiring for this role, I would recommend:\n",
       "\n",
       "1. Weighing the importance of each requirement: If Python and deep learning skills are the primary focus, the candidate's strengths might outweigh their weaknesses.\n",
       "2. Assessing the candidate's willingness to learn: Can they demonstrate a good understanding of TensorFlow? Are they interested in exploring AWS?\n",
       "3. Conducting additional assessments or interviews: To gauge the candidate's potential for rapid adaptation to new technologies and platforms.\n",
       "\n",
       "In conclusion, while there are some mismatches between the job requirements and the candidate's skills, their Python and PyTorch expertise make them a strong contender."
      ],
      "text/plain": [
       "<IPython.core.display.Markdown object>"
      ]
     },
     "metadata": {},
     "output_type": "display_data"
    }
   ],
   "source": [
    "# Try different top_p values\n",
    "for value in [10, 40, 100]:\n",
    "    print(f\"\\ntop_p = {value}\")\n",
    "    response = query_model('''Given a job requirement for 'Python, TensorFlow, and AWS experience', analyze if a candidate with 'extensive Python, PyTorch background, and GCP expertise' is a good match.''', top_p=value)\n",
    "    display(Markdown(f\"**Response:**\\n{response}\"))"
   ]
  },
  {
   "cell_type": "markdown",
   "id": "4af62a93",
   "metadata": {},
   "source": [
    "### Candidate Evaluation\n",
    "\n",
    "Testing top_p with this recruiting scenario:\n",
    "```\n",
    "Evaluate a software engineer candidate based on: 5 years Python, 3 years ML deployment, team lead experience.\n",
    "```"
   ]
  },
  {
   "cell_type": "code",
   "execution_count": 10,
   "id": "00ea2b77",
   "metadata": {},
   "outputs": [
    {
     "name": "stdout",
     "output_type": "stream",
     "text": [
      "\n",
      "top_p = 10\n"
     ]
    },
    {
     "data": {
      "text/markdown": [
       "**Response:**\n",
       "What a great combination of skills and experiences! Here's an evaluation framework to assess this software engineer candidate:\n",
       "\n",
       "**Technical Skills (40 points)**\n",
       "\n",
       "1. **Python expertise**: (15 points)\n",
       "\t* Can the candidate demonstrate strong understanding of Python syntax, data structures, and best practices?\n",
       "\t* Are they familiar with popular Python libraries and frameworks (e.g., NumPy, pandas, scikit-learn)?\n",
       "2. **Machine Learning deployment experience**: (10 points)\n",
       "\t* Can the candidate describe their experiences deploying machine learning models in production environments?\n",
       "\t* Do they have knowledge of model serving platforms (e.g., TensorFlow Serving, AWS SageMaker)?\n",
       "3. **Additional technical skills**: (15 points)\n",
       "\t* Are they familiar with other relevant technologies, such as data storage solutions (e.g., MySQL, PostgreSQL), message queues (e.g., RabbitMQ), or cloud platforms (e.g., AWS, GCP)?\n",
       "\n",
       "**Leadership and Collaboration (30 points)**\n",
       "\n",
       "1. **Team lead experience**: (20 points)\n",
       "\t* Can the candidate demonstrate leadership skills, including experience managing teams, prioritizing tasks, and mentoring team members?\n",
       "\t* Are they familiar with Agile development methodologies and version control systems (e.g., Git)?\n",
       "2. **Communication and collaboration**: (10 points)\n",
       "\t* Can the candidate effectively communicate technical concepts to non-technical stakeholders or team members?\n",
       "\t* Do they have experience working with cross-functional teams, including data scientists, product managers, and other engineers?\n",
       "\n",
       "**Problem-Solving and Creativity (30 points)**\n",
       "\n",
       "1. **Technical problem-solving**: (15 points)\n",
       "\t* Can the candidate demonstrate strong analytical skills, breaking down complex problems into manageable parts?\n",
       "\t* Are they able to think creatively when approaching technical challenges?\n",
       "2. **Domain knowledge and adaptability**: (10 points)\n",
       "\t* Are they familiar with the candidate's specific domain or industry (e.g., healthcare, finance)?\n",
       "\t* Can they quickly learn new technologies or domains?\n",
       "\n",
       "**Interview Questions**\n",
       "\n",
       "1. What was your most significant technical challenge as a team lead, and how did you overcome it?\n",
       "2. How do you stay current with advancements in machine learning and Python?\n",
       "3. Describe a project where you had to deploy a machine learning model into production. What were some of the key considerations, and what did you learn from the experience?\n",
       "4. Can you walk me through your thought process when approaching a complex technical problem? How do you prioritize tasks and manage your time?\n",
       "5. How do you handle conflicts or disagreements within a team?\n",
       "\n",
       "**Evaluation**\n",
       "\n",
       "* Technical skills: 32/40 (80%)\n",
       "* Leadership and collaboration: 28/30 (93%)\n",
       "* Problem-solving and creativity: 29/30 (96%)\n",
       "\n",
       "Overall, the candidate demonstrates strong technical skills, leadership experience, and problem-solving abilities. They are well-suited for a role that requires a combination of machine learning expertise, team lead experience, and technical leadership."
      ],
      "text/plain": [
       "<IPython.core.display.Markdown object>"
      ]
     },
     "metadata": {},
     "output_type": "display_data"
    },
    {
     "name": "stdout",
     "output_type": "stream",
     "text": [
      "\n",
      "top_p = 40\n"
     ]
    },
    {
     "data": {
      "text/markdown": [
       "**Response:**\n",
       "Based on the candidate's background and experience, here's an evaluation of their skills and fit for a software engineering role:\n",
       "\n",
       "**Technical Skills:**\n",
       "\n",
       "* **Python:** With 5 years of experience in Python, the candidate has a solid foundation in programming languages and can likely tackle a wide range of tasks. They may have worked with popular libraries like NumPy, pandas, and scikit-learn.\n",
       "* **Machine Learning Deployment:** The candidate's 3 years of experience in ML deployment indicate they have hands-on experience with deploying machine learning models into production environments. This is an increasingly valuable skillset, as companies focus on leveraging AI/ML capabilities.\n",
       "\n",
       "**Soft Skills:**\n",
       "\n",
       "* **Team Lead Experience:** As a team lead, the candidate has likely developed strong leadership and communication skills. They may have mentored junior engineers, managed project workflows, and ensured teams stay organized and productive.\n",
       "\n",
       "**Fit for a Software Engineering Role:**\n",
       "\n",
       "Considering their experience, the candidate appears to be an excellent fit for a software engineering role that involves:\n",
       "\n",
       "1. **Machine Learning Engineering:** With their background in ML deployment, they can likely lead or contribute to projects involving model development, testing, and deployment.\n",
       "2. **Python Development:** Their 5 years of Python experience make them a strong candidate for developing scalable, maintainable, and efficient Python codebases.\n",
       "3. **Leadership Roles:** If the company is looking for someone to take on team lead or technical lead roles, this candidate's experience makes them an attractive choice.\n",
       "\n",
       "**Potential Areas for Growth:**\n",
       "\n",
       "While the candidate has a solid foundation in Python and ML deployment, they may benefit from:\n",
       "\n",
       "1. **Exploring other languages or frameworks:** While they have extensive experience with Python, it's essential to stay versatile and explore other programming languages, frameworks, or technologies.\n",
       "2. **Staying up-to-date with AI/ML advancements:** The field of machine learning is rapidly evolving, so the candidate should prioritize keeping their skills current by attending conferences, reading research papers, and participating in online communities.\n",
       "\n",
       "**Final Assessment:**\n",
       "\n",
       "This software engineer candidate appears to be an excellent fit for a role that leverages their strengths in Python, ML deployment, and leadership. They have a strong foundation in programming languages, experience with deploying machine learning models, and demonstrated soft skills as a team lead. With some focus on exploring other technologies and staying current with AI/ML advancements, this candidate has the potential to be an invaluable asset to any organization."
      ],
      "text/plain": [
       "<IPython.core.display.Markdown object>"
      ]
     },
     "metadata": {},
     "output_type": "display_data"
    },
    {
     "name": "stdout",
     "output_type": "stream",
     "text": [
      "\n",
      "top_p = 100\n"
     ]
    },
    {
     "data": {
      "text/markdown": [
       "**Response:**\n",
       "Based on the candidate's experience and skills in Python, Machine Learning (ML) deployment, and team lead experience, here is an evaluation of their strengths and areas for improvement:\n",
       "\n",
       "**Technical Strengths:**\n",
       "\n",
       "1. **Python**: With 5 years of experience in Python, the candidate has a solid foundation in programming languages, including syntax, data structures, and problem-solving.\n",
       "2. **Machine Learning Deployment**: The candidate's 3 years of experience in ML deployment demonstrate their ability to work with complex models, data preprocessing, and model evaluation. This expertise will be valuable in any organization that relies on ML-powered applications.\n",
       "3. **Team Lead Experience**: As a team lead, the candidate has likely developed strong communication, leadership, and problem-solving skills, which are essential for managing a team effectively.\n",
       "\n",
       "**Areas for Improvement:**\n",
       "\n",
       "1. **Depth of Knowledge**: While the candidate has a solid foundation in Python and ML deployment, it's unclear what specific areas they have focused on within these domains (e.g., natural language processing, computer vision). Further exploration may be necessary to determine their depth of knowledge.\n",
       "2. **Software Development Methodologies**: The candidate's experience as a team lead might not necessarily translate to proficiency in software development methodologies like Agile, Scrum, or Waterfall. It would be beneficial to assess their understanding of these frameworks and how they apply them in practice.\n",
       "3. **Cloud Computing**: With the increasing importance of cloud computing, it's essential for the candidate to demonstrate knowledge of cloud platforms (e.g., AWS, Azure, Google Cloud) and their ability to deploy ML models on these platforms.\n",
       "\n",
       "**Potential Questions to Ask:**\n",
       "\n",
       "1. Can you describe your experience with specific machine learning frameworks like TensorFlow, PyTorch, or Scikit-Learn? How do you decide which framework is best suited for a project?\n",
       "2. What do you consider the most significant challenge in deploying machine learning models, and how have you overcome it in the past?\n",
       "3. As a team lead, what software development methodologies have you used, and why did you choose them? Can you give an example of when you had to adapt your approach due to changing project requirements?\n",
       "4. How do you ensure that your machine learning models are secure and compliant with relevant regulations (e.g., GDPR, HIPAA)?\n",
       "5. Can you walk me through a recent ML deployment project you led or contributed to? What were some of the key challenges you faced, and how did you overcome them?\n",
       "\n",
       "**Evaluation Criteria:**\n",
       "\n",
       "1. Technical skills in Python, ML deployment, and software development methodologies\n",
       "2. Experience as a team lead, including leadership and communication skills\n",
       "3. Ability to think critically about complex problems and develop effective solutions\n",
       "4. Knowledge of cloud computing platforms and ability to deploy ML models on these platforms\n",
       "5. Adaptability and willingness to learn new technologies and approaches\n",
       "\n",
       "By asking the right questions and evaluating the candidate's technical skills, experience as a team lead, and potential for growth, you can gain a comprehensive understanding of their strengths and areas for improvement."
      ],
      "text/plain": [
       "<IPython.core.display.Markdown object>"
      ]
     },
     "metadata": {},
     "output_type": "display_data"
    }
   ],
   "source": [
    "# Try different top_p values\n",
    "for value in [10, 40, 100]:\n",
    "    print(f\"\\ntop_p = {value}\")\n",
    "    response = query_model('''Evaluate a software engineer candidate based on: 5 years Python, 3 years ML deployment, team lead experience.''', top_p=value)\n",
    "    display(Markdown(f\"**Response:**\\n{response}\"))"
   ]
  },
  {
   "cell_type": "markdown",
   "id": "c8114baa",
   "metadata": {},
   "source": [
    "### Role Requirements\n",
    "\n",
    "Testing top_p with this recruiting scenario:\n",
    "```\n",
    "List the key requirements for a Machine Learning Engineer position.\n",
    "```"
   ]
  },
  {
   "cell_type": "code",
   "execution_count": 11,
   "id": "6917f810",
   "metadata": {},
   "outputs": [
    {
     "name": "stdout",
     "output_type": "stream",
     "text": [
      "\n",
      "top_p = 10\n"
     ]
    },
    {
     "data": {
      "text/markdown": [
       "**Response:**\n",
       "Here are the key requirements for a Machine Learning Engineer (MLE) position:\n",
       "\n",
       "**Education and Training:**\n",
       "\n",
       "* Bachelor's or Master's degree in Computer Science, Electrical Engineering, Mathematics, Statistics, or a related field.\n",
       "* Strong foundation in programming languages such as Python, Java, C++, or MATLAB.\n",
       "* Experience with machine learning frameworks like TensorFlow, PyTorch, Keras, Scikit-learn, etc.\n",
       "\n",
       "**Technical Skills:**\n",
       "\n",
       "1. **Programming skills:** Proficiency in one or more programming languages, including Python, R, Julia, or SQL.\n",
       "2. **Machine learning algorithms:** Knowledge of popular machine learning algorithms, such as:\n",
       "\t* Supervised and unsupervised learning methods (e.g., decision trees, clustering, regression).\n",
       "\t* Neural networks (feedforward, convolutional, recurrent).\n",
       "\t* Deep learning techniques (e.g., CNNs, RNNs, Transformers).\n",
       "3. **Data preprocessing:** Understanding of data preprocessing techniques, including:\n",
       "\t* Data cleaning and normalization.\n",
       "\t* Feature engineering and selection.\n",
       "4. **Model evaluation:** Ability to evaluate model performance using metrics such as accuracy, precision, recall, F1-score, AUC-ROC, etc.\n",
       "5. **Deployment:** Familiarity with deploying machine learning models in production environments, including:\n",
       "\t* Containerization (e.g., Docker).\n",
       "\t* Cloud platforms (e.g., AWS, Google Cloud, Azure).\n",
       "6. **Big data processing:** Understanding of big data processing techniques, including:\n",
       "\t* Hadoop and MapReduce.\n",
       "\t* Spark and Spark SQL.\n",
       "7. **Data visualization:** Ability to create data visualizations using tools like Matplotlib, Seaborn, Plotly, or Tableau.\n",
       "\n",
       "**Soft Skills:**\n",
       "\n",
       "1. **Communication:** Strong communication skills for explaining complex technical concepts to non-technical stakeholders.\n",
       "2. **Collaboration:** Ability to work effectively in a team environment with data scientists, product managers, and other engineers.\n",
       "3. **Problem-solving:** Strong problem-solving skills and attention to detail when debugging models or identifying errors.\n",
       "4. **Adaptability:** Willingness to learn new technologies, frameworks, and methodologies as the field of machine learning evolves.\n",
       "\n",
       "**Additional Requirements:**\n",
       "\n",
       "1. **Experience with cloud platforms:** Familiarity with cloud platforms like AWS, Google Cloud, Azure, or Microsoft Azure.\n",
       "2. **Knowledge of databases:** Understanding of database management systems like MySQL, PostgreSQL, MongoDB, or Oracle.\n",
       "3. **Familiarity with DevOps tools:** Experience with DevOps tools like Jenkins, GitLab CI/CD, or CircleCI.\n",
       "4. **Certifications:** Certifications in machine learning, such as the Certified Data Scientist (CDS) or Certified Machine Learning Engineer (CMLE), can be beneficial but are not always required.\n",
       "\n",
       "Note that the specific requirements may vary depending on the company, industry, or specific job description."
      ],
      "text/plain": [
       "<IPython.core.display.Markdown object>"
      ]
     },
     "metadata": {},
     "output_type": "display_data"
    },
    {
     "name": "stdout",
     "output_type": "stream",
     "text": [
      "\n",
      "top_p = 40\n"
     ]
    },
    {
     "data": {
      "text/markdown": [
       "**Response:**\n",
       "Here are the key requirements for a Machine Learning Engineer position:\n",
       "\n",
       "**Education:**\n",
       "\n",
       "* Bachelor's or Master's degree in Computer Science, Electrical Engineering, Mathematics, Statistics, or a related field.\n",
       "* Strong foundation in machine learning, algorithms, and data structures.\n",
       "\n",
       "**Technical Skills:**\n",
       "\n",
       "1. **Programming skills:** Proficiency in one or more programming languages, such as:\n",
       "\t* Python (NumPy, Pandas, scikit-learn, TensorFlow, Keras)\n",
       "\t* R\n",
       "\t* Java\n",
       "\t* C++\n",
       "2. **Machine learning libraries and frameworks:** Familiarity with popular machine learning libraries and frameworks, including:\n",
       "\t* TensorFlow\n",
       "\t* PyTorch\n",
       "\t* Scikit-Learn\n",
       "\t* OpenCV\n",
       "3. **Data preprocessing and analysis:**\n",
       "\t* Experience working with large datasets\n",
       "\t* Knowledge of data preprocessing techniques (e.g., feature scaling, normalization)\n",
       "\t* Familiarity with data visualization tools (e.g., Matplotlib, Seaborn)\n",
       "4. **Model training and evaluation:**\n",
       "\t* Understanding of model selection and evaluation metrics (e.g., accuracy, precision, recall, F1 score)\n",
       "\t* Experience with cross-validation techniques\n",
       "5. **Deploying models:** Knowledge of:\n",
       "\t* Model deployment platforms (e.g., AWS SageMaker, Google Cloud AI Platform)\n",
       "\t* Containerization (e.g., Docker) and orchestration (e.g., Kubernetes)\n",
       "6. **Data storage and management:**\n",
       "\t* Familiarity with data storage solutions (e.g., relational databases, NoSQL databases, cloud storage)\n",
       "\t* Knowledge of data warehousing and ETL processes\n",
       "7. **Big data processing:** Experience with big data processing tools and technologies, such as:\n",
       "\t* Apache Spark\n",
       "\t* Hadoop\n",
       "\t* MapReduce\n",
       "\n",
       "**Soft Skills:**\n",
       "\n",
       "1. **Communication:** Ability to effectively communicate technical concepts and results to both technical and non-technical stakeholders.\n",
       "2. **Collaboration:** Willingness to work with cross-functional teams (e.g., data scientists, software engineers, product managers).\n",
       "3. **Problem-solving:** Strong analytical and problem-solving skills.\n",
       "4. **Adaptability:** Ability to adapt to new technologies, tools, and methodologies.\n",
       "\n",
       "**Additional Requirements:**\n",
       "\n",
       "1. **Experience:** Typically 2-5 years of experience in machine learning engineering or a related field.\n",
       "2. **Certifications:** Optional certifications, such as the Certified Machine Learning Engineer (CMLE) certification.\n",
       "3. **Domain expertise:** Familiarity with specific domains, such as computer vision, natural language processing, or healthcare.\n",
       "\n",
       "Note that the specific requirements may vary depending on the organization, industry, and job description."
      ],
      "text/plain": [
       "<IPython.core.display.Markdown object>"
      ]
     },
     "metadata": {},
     "output_type": "display_data"
    },
    {
     "name": "stdout",
     "output_type": "stream",
     "text": [
      "\n",
      "top_p = 100\n"
     ]
    },
    {
     "data": {
      "text/markdown": [
       "**Response:**\n",
       "Here are the key requirements for a Machine Learning Engineer (MLE) position:\n",
       "\n",
       "**Education:**\n",
       "\n",
       "* Bachelor's or Master's degree in Computer Science, Electrical Engineering, Mathematics, Statistics, or related field.\n",
       "* Strong foundation in computer science and mathematics, including data structures, algorithms, probability, statistics, linear algebra, and calculus.\n",
       "\n",
       "**Technical Skills:**\n",
       "\n",
       "1. **Programming:** Proficiency in one or more programming languages such as Python, Java, C++, R, or MATLAB.\n",
       "2. **Machine Learning Frameworks:** Experience with popular machine learning frameworks such as TensorFlow, PyTorch, Scikit-Learn, Keras, or Hugging Face Transformers.\n",
       "3. **Data Science:** Knowledge of data science concepts, including data preprocessing, feature engineering, data visualization, and statistical modeling.\n",
       "4. **Algorithms:** Understanding of various machine learning algorithms, including supervised and unsupervised learning, neural networks, decision trees, clustering, and dimensionality reduction.\n",
       "5. **Big Data Processing:** Familiarity with big data processing technologies such as Hadoop, Spark, or NoSQL databases like MongoDB or Cassandra.\n",
       "6. **Cloud Computing:** Experience with cloud-based machine learning platforms such as AWS SageMaker, Google Cloud AI Platform, or Azure Machine Learning.\n",
       "7. **DevOps:** Knowledge of DevOps practices, including version control (e.g., Git), continuous integration and deployment (CI/CD) pipelines, and containerization (e.g., Docker).\n",
       "\n",
       "**Soft Skills:**\n",
       "\n",
       "1. **Communication:** Ability to effectively communicate complex technical concepts to both technical and non-technical stakeholders.\n",
       "2. **Collaboration:** Experience working in a team environment, collaborating with data scientists, product managers, and other engineers.\n",
       "3. **Problem-Solving:** Strong problem-solving skills, including debugging, troubleshooting, and optimizing machine learning models.\n",
       "4. **Adaptability:** Ability to adapt to new technologies, tools, and methodologies as the field of machine learning continues to evolve.\n",
       "\n",
       "**Additional Requirements:**\n",
       "\n",
       "1. **Domain Expertise:** Familiarity with a specific domain or industry (e.g., healthcare, finance, retail) and understanding of its unique challenges and opportunities.\n",
       "2. **Research Experience:** Prior research experience in machine learning or related fields, including publications or presentations at conferences.\n",
       "3. **Certifications:** Industry-recognized certifications such as Certified Data Scientist (CDS) or Certified Machine Learning Engineer (CMLE).\n",
       "\n",
       "**Other Considerations:**\n",
       "\n",
       "1. **Mathematical Background:** A strong mathematical background is essential for success in this role.\n",
       "2. **Attention to Detail:** The ability to carefully evaluate and debug machine learning models is crucial.\n",
       "3. **Creative Problem-Solving:** The capacity to think creatively and develop innovative solutions to complex problems.\n",
       "\n",
       "Remember that the specific requirements may vary depending on the company, industry, or specific job opening."
      ],
      "text/plain": [
       "<IPython.core.display.Markdown object>"
      ]
     },
     "metadata": {},
     "output_type": "display_data"
    }
   ],
   "source": [
    "# Try different top_p values\n",
    "for value in [10, 40, 100]:\n",
    "    print(f\"\\ntop_p = {value}\")\n",
    "    response = query_model('''List the key requirements for a Machine Learning Engineer position.''', top_p=value)\n",
    "    display(Markdown(f\"**Response:**\\n{response}\"))"
   ]
  },
  {
   "cell_type": "markdown",
   "id": "aa024a94",
   "metadata": {},
   "source": [
    "## Top_K\n",
    "\n",
    "Understanding top_k in recruitment contexts:\n",
    "- How it affects output quality\n",
    "- Best practices for different tasks\n",
    "- Example scenarios and use cases"
   ]
  },
  {
   "cell_type": "markdown",
   "id": "9e8c64b4",
   "metadata": {},
   "source": [
    "### Technical Skills\n",
    "\n",
    "Testing top_k with this recruiting scenario:\n",
    "```\n",
    "Extract and categorize technical skills from this resume snippet: 'Developed ML models using TensorFlow, deployed on AWS, managed team of 5 engineers'.\n",
    "```"
   ]
  },
  {
   "cell_type": "code",
   "execution_count": 12,
   "id": "5073eaf0",
   "metadata": {},
   "outputs": [
    {
     "name": "stdout",
     "output_type": "stream",
     "text": [
      "\n",
      "top_k = 10\n"
     ]
    },
    {
     "data": {
      "text/markdown": [
       "**Response:**\n",
       "Here are the technical skills extracted from the resume snippet:\n",
       "\n",
       "**Machine Learning (ML) Skills**\n",
       "\n",
       "1. Model development: Developing machine learning models\n",
       "2. TensorFlow: Using the popular open-source software library for machine learning\n",
       "\n",
       "**Deployment Skills**\n",
       "\n",
       "1. Cloud deployment: Deploying ML models on cloud-based infrastructure (AWS)\n",
       "\n",
       "**Leadership/Management Skills**\n",
       "\n",
       "1. Team management: Managing a team of 5 engineers\n",
       "\n",
       "**Tools/Platforms**\n",
       "\n",
       "1. AWS (Amazon Web Services): Cloud platform for deploying and managing applications\n",
       "\n",
       "These technical skills can be categorized into three main areas:\n",
       "\n",
       "1. **Machine Learning**: Developing and working with machine learning models\n",
       "2. **Deployment & Management**: Deploying and managing ML models on cloud infrastructure, as well as team management experience\n",
       "3. **Tools/Platforms**: Familiarity with specific tools and platforms (TensorFlow, AWS)"
      ],
      "text/plain": [
       "<IPython.core.display.Markdown object>"
      ]
     },
     "metadata": {},
     "output_type": "display_data"
    },
    {
     "name": "stdout",
     "output_type": "stream",
     "text": [
      "\n",
      "top_k = 40\n"
     ]
    },
    {
     "data": {
      "text/markdown": [
       "**Response:**\n",
       "Here are the technical skills extracted from the resume snippet:\n",
       "\n",
       "**Machine Learning (ML) Skills**\n",
       "\n",
       "* Developed ML models\n",
       "* Used TensorFlow for ML model development\n",
       "\n",
       "**Deployment and Cloud Computing Skills**\n",
       "\n",
       "* Deployed ML models on Amazon Web Services (AWS)\n",
       "\n",
       "**Leadership and Team Management Skills**\n",
       "\n",
       "* Managed a team of 5 engineers\n",
       "\n",
       "Here's how I categorized these skills:\n",
       "\n",
       "1. **Machine Learning**: This category includes skills related to developing, training, and deploying machine learning models.\n",
       "2. **Deployment and Cloud Computing**: This category encompasses skills related to deploying software or applications on cloud computing platforms like AWS.\n",
       "3. **Leadership and Team Management**: This category covers skills related to leading a team, managing projects, and overseeing the work of others.\n",
       "\n",
       "These categories can help you quickly identify the candidate's technical expertise in machine learning, deployment, and leadership."
      ],
      "text/plain": [
       "<IPython.core.display.Markdown object>"
      ]
     },
     "metadata": {},
     "output_type": "display_data"
    },
    {
     "name": "stdout",
     "output_type": "stream",
     "text": [
      "\n",
      "top_k = 100\n"
     ]
    },
    {
     "data": {
      "text/markdown": [
       "**Response:**\n",
       "Here are the technical skills extracted from the resume snippet:\n",
       "\n",
       "**Machine Learning (ML) Skills**\n",
       "\n",
       "1. **Model development**: The candidate has experience in developing machine learning models.\n",
       "2. **TensorFlow**: They have proficiency in using TensorFlow to develop ML models.\n",
       "\n",
       "**Cloud Computing Skills**\n",
       "\n",
       "1. **AWS**: The candidate has experience deploying ML models on Amazon Web Services (AWS).\n",
       "\n",
       "**Leadership and Management Skills**\n",
       "\n",
       "1. **Team management**: They have managed a team of 5 engineers, demonstrating leadership skills.\n",
       "\n",
       "These technical skills can be categorized into three main areas:\n",
       "\n",
       "* Machine Learning (ML) Skills\n",
       "* Cloud Computing Skills\n",
       "* Leadership and Management Skills"
      ],
      "text/plain": [
       "<IPython.core.display.Markdown object>"
      ]
     },
     "metadata": {},
     "output_type": "display_data"
    }
   ],
   "source": [
    "# Try different top_k values\n",
    "for value in [10, 40, 100]:\n",
    "    print(f\"\\ntop_k = {value}\")\n",
    "    response = query_model('''Extract and categorize technical skills from this resume snippet: 'Developed ML models using TensorFlow, deployed on AWS, managed team of 5 engineers'.''', top_k=value)\n",
    "    display(Markdown(f\"**Response:**\\n{response}\"))"
   ]
  },
  {
   "cell_type": "markdown",
   "id": "4b30a97f",
   "metadata": {},
   "source": [
    "### Job Categories\n",
    "\n",
    "Testing top_k with this recruiting scenario:\n",
    "```\n",
    "Classify this job posting into relevant categories: 'Senior ML Engineer with focus on NLP and large language models'.\n",
    "```"
   ]
  },
  {
   "cell_type": "code",
   "execution_count": 13,
   "id": "9dc8b119",
   "metadata": {},
   "outputs": [
    {
     "name": "stdout",
     "output_type": "stream",
     "text": [
      "\n",
      "top_k = 10\n"
     ]
    },
    {
     "data": {
      "text/markdown": [
       "**Response:**\n",
       "Here are the relevant categories for the job posting:\n",
       "\n",
       "**Category:** Technology and Computing\n",
       "\n",
       "**Subcategory:** Data Science and Machine Learning\n",
       "\n",
       "**Specific Job Function:** Engineering\n",
       "\n",
       "**Technical Skills:**\n",
       "\n",
       "* Natural Language Processing (NLP)\n",
       "* Large Language Models\n",
       "* Machine Learning (ML)\n",
       "\n",
       "**Industry:** Not specified, but potentially applicable to industries such as:\n",
       "\n",
       "* Tech\n",
       "* Finance\n",
       "* Healthcare\n",
       "* Education\n",
       "* Research"
      ],
      "text/plain": [
       "<IPython.core.display.Markdown object>"
      ]
     },
     "metadata": {},
     "output_type": "display_data"
    },
    {
     "name": "stdout",
     "output_type": "stream",
     "text": [
      "\n",
      "top_k = 40\n"
     ]
    },
    {
     "data": {
      "text/markdown": [
       "**Response:**\n",
       "Here are the relevant categories for the job posting:\n",
       "\n",
       "1. **Job Title**: Senior ML Engineer\n",
       "2. **Industry/Sector**: Technology, AI/Machine Learning\n",
       "3. **Specialization**: Natural Language Processing (NLP), Large Language Models\n",
       "4. **Role**: Engineering, Development, Research and Development\n",
       "5. **Location**: Not specified (assuming a remote or global opportunity)\n",
       "6. **Level**: Senior/Advanced\n",
       "7. **Skills**: Machine Learning, NLP, Large Language Models\n",
       "\n",
       "These categories can help with searching for similar job postings, identifying relevant job boards, or understanding the qualifications required for this role."
      ],
      "text/plain": [
       "<IPython.core.display.Markdown object>"
      ]
     },
     "metadata": {},
     "output_type": "display_data"
    },
    {
     "name": "stdout",
     "output_type": "stream",
     "text": [
      "\n",
      "top_k = 100\n"
     ]
    },
    {
     "data": {
      "text/markdown": [
       "**Response:**\n",
       "I'd classify this job posting into the following categories:\n",
       "\n",
       "**Job Title:** Senior Machine Learning (ML) Engineer\n",
       "\n",
       "**Categories:**\n",
       "\n",
       "1. **Machine Learning/Artificial Intelligence (AI)**: This is a clear categorization, as the role involves working with machine learning algorithms and large language models.\n",
       "2. **Natural Language Processing (NLP)**: Since the job posting specifically mentions NLP, this category is also relevant.\n",
       "3. **Data Science**: Although not explicitly stated, data science skills are likely required for a Senior ML Engineer role, so I've included it as a relevant category.\n",
       "4. **Software Development**: The focus on large language models suggests that programming skills are necessary, making software development a related field.\n",
       "5. **Research and Development**: Large language models often require experimentation, testing, and refinement, which aligns with the R&D category.\n",
       "\n",
       "These categories can help recruiters or job seekers searching for similar roles to identify this posting as relevant to their interests and expertise."
      ],
      "text/plain": [
       "<IPython.core.display.Markdown object>"
      ]
     },
     "metadata": {},
     "output_type": "display_data"
    }
   ],
   "source": [
    "# Try different top_k values\n",
    "for value in [10, 40, 100]:\n",
    "    print(f\"\\ntop_k = {value}\")\n",
    "    response = query_model('''Classify this job posting into relevant categories: 'Senior ML Engineer with focus on NLP and large language models'.''', top_k=value)\n",
    "    display(Markdown(f\"**Response:**\\n{response}\"))"
   ]
  },
  {
   "cell_type": "markdown",
   "id": "c84dafdd",
   "metadata": {},
   "source": [
    "### Experience Level\n",
    "\n",
    "Testing top_k with this recruiting scenario:\n",
    "```\n",
    "Determine the experience level from: '7 years building production ML systems, leading teams of 3-8 engineers'.\n",
    "```"
   ]
  },
  {
   "cell_type": "code",
   "execution_count": 14,
   "id": "a326e0d1",
   "metadata": {},
   "outputs": [
    {
     "name": "stdout",
     "output_type": "stream",
     "text": [
      "\n",
      "top_k = 10\n"
     ]
    },
    {
     "data": {
      "text/markdown": [
       "**Response:**\n",
       "Based on the information provided, I would determine the experience level as:\n",
       "\n",
       "**Senior**\n",
       "\n",
       "Here's my reasoning:\n",
       "\n",
       "* \"Building production ML systems\" suggests that the person has hands-on experience in implementing machine learning (ML) models in real-world scenarios, which is a challenging and complex task. This implies a certain level of expertise.\n",
       "* \"Leading teams of 3-8 engineers\" indicates that the person has significant leadership experience, likely gained through managing multiple team members, prioritizing tasks, and making strategic decisions. This level of responsibility typically requires several years of experience in a senior or management role.\n",
       "\n",
       "Given these factors, I would classify this individual as Senior-level, with at least 7 years of relevant experience in ML system development and leadership."
      ],
      "text/plain": [
       "<IPython.core.display.Markdown object>"
      ]
     },
     "metadata": {},
     "output_type": "display_data"
    },
    {
     "name": "stdout",
     "output_type": "stream",
     "text": [
      "\n",
      "top_k = 40\n"
     ]
    },
    {
     "data": {
      "text/markdown": [
       "**Response:**\n",
       "Based on this information, I would determine the experience level as follows:\n",
       "\n",
       "* Number of years: 7\n",
       "\t+ This is a moderate to high number of years in the industry, indicating significant experience.\n",
       "* Role: Leading teams of 3-8 engineers\n",
       "\t+ This suggests that the individual has not only built ML systems but also managed and led teams, which implies strong leadership and organizational skills.\n",
       "\n",
       "Taking these factors into account, I would rate the experience level as:\n",
       "\n",
       "**Advanced/Expert**: The individual has a strong foundation in building production ML systems, combined with leadership experience, indicating a high level of expertise in their field."
      ],
      "text/plain": [
       "<IPython.core.display.Markdown object>"
      ]
     },
     "metadata": {},
     "output_type": "display_data"
    },
    {
     "name": "stdout",
     "output_type": "stream",
     "text": [
      "\n",
      "top_k = 100\n"
     ]
    },
    {
     "data": {
      "text/markdown": [
       "**Response:**\n",
       "Based on the provided information, I would estimate the experience level as follows:\n",
       "\n",
       "* \"Building production ML systems\" suggests a strong foundation in machine learning and software engineering, which is typically acquired through several years of hands-on experience.\n",
       "* \"Leading teams of 3-8 engineers\" indicates leadership experience, which often requires a significant amount of time to develop.\n",
       "\n",
       "Considering these factors, I would estimate the experience level as follows:\n",
       "\n",
       "* Technical expertise: Advanced (7+ years)\n",
       "* Leadership experience: Senior (leading teams of 3-8 engineers)\n",
       "\n",
       "Overall, I would categorize this individual's experience level as \"Senior-Advanced\"."
      ],
      "text/plain": [
       "<IPython.core.display.Markdown object>"
      ]
     },
     "metadata": {},
     "output_type": "display_data"
    }
   ],
   "source": [
    "# Try different top_k values\n",
    "for value in [10, 40, 100]:\n",
    "    print(f\"\\ntop_k = {value}\")\n",
    "    response = query_model('''Determine the experience level from: '7 years building production ML systems, leading teams of 3-8 engineers'.''', top_k=value)\n",
    "    display(Markdown(f\"**Response:**\\n{response}\"))"
   ]
  },
  {
   "cell_type": "markdown",
   "id": "a29e5e0c",
   "metadata": {},
   "source": [
    "## Max_Tokens\n",
    "\n",
    "Understanding max_tokens in recruitment contexts:\n",
    "- How it affects output quality\n",
    "- Best practices for different tasks\n",
    "- Example scenarios and use cases"
   ]
  },
  {
   "cell_type": "markdown",
   "id": "ef509928",
   "metadata": {},
   "source": [
    "### Short Summary\n",
    "\n",
    "Testing max_tokens with this recruiting scenario:\n",
    "```\n",
    "Create a one-sentence summary of this job posting: 'We're seeking a Senior ML Engineer to lead our NLP team, focusing on large language model development and deployment. The ideal candidate has 5+ years of experience in Python, deep learning frameworks, and production ML systems.'\n",
    "```"
   ]
  },
  {
   "cell_type": "code",
   "execution_count": 15,
   "id": "80f97358",
   "metadata": {},
   "outputs": [
    {
     "ename": "SyntaxError",
     "evalue": "EOL while scanning string literal (2571854454.py, line 4)",
     "output_type": "error",
     "traceback": [
      "\u001b[0;36m  Cell \u001b[0;32mIn[15], line 4\u001b[0;36m\u001b[0m\n\u001b[0;31m    response = query_model('''Create a one-sentence summary of this job posting: 'We're seeking a Senior ML Engineer to lead our NLP team, focusing on large language model development and deployment. The ideal candidate has 5+ years of experience in Python, deep learning frameworks, and production ML systems.'''', max_tokens=value)\u001b[0m\n\u001b[0m                                                                                                                                                                                                                                                                                                                                             ^\u001b[0m\n\u001b[0;31mSyntaxError\u001b[0m\u001b[0;31m:\u001b[0m EOL while scanning string literal\n"
     ]
    }
   ],
   "source": [
    "# Try different max_tokens values\n",
    "for value in [50, 150, 300]:\n",
    "    print(f\"\\nmax_tokens = {value}\")\n",
    "    response = query_model('''Create a one-sentence summary of this job posting: 'We're seeking a Senior ML Engineer to lead our NLP team, focusing on large language model development and deployment. The ideal candidate has 5+ years of experience in Python, deep learning frameworks, and production ML systems.''', max_tokens=value)\n",
    "    display(Markdown(f\"**Response:**\\n{response}\"))"
   ]
  },
  {
   "cell_type": "markdown",
   "id": "f22ff62c",
   "metadata": {},
   "source": [
    "### Detailed Analysis\n",
    "\n",
    "Testing max_tokens with this recruiting scenario:\n",
    "```\n",
    "Provide a detailed analysis of this candidate's qualifications: 'ML Engineer with 6 years experience in Python, TensorFlow, and AWS. Led team of 5 engineers, deployed 10+ ML models to production. PhD in Computer Science with focus on NLP.'\n",
    "```"
   ]
  },
  {
   "cell_type": "code",
   "execution_count": null,
   "id": "e92358b5",
   "metadata": {},
   "outputs": [],
   "source": [
    "# Try different max_tokens values\n",
    "for value in [50, 150, 300]:\n",
    "    print(f\"\\nmax_tokens = {value}\")\n",
    "    response = query_model('''Provide a detailed analysis of this candidate's qualifications: 'ML Engineer with 6 years experience in Python, TensorFlow, and AWS. Led team of 5 engineers, deployed 10+ ML models to production. PhD in Computer Science with focus on NLP.'''', max_tokens=value)\n",
    "    display(Markdown(f\"**Response:**\\n{response}\"))"
   ]
  },
  {
   "cell_type": "markdown",
   "id": "c59b0cd4",
   "metadata": {},
   "source": [
    "### Company Overview\n",
    "\n",
    "Testing max_tokens with this recruiting scenario:\n",
    "```\n",
    "Generate a company overview of varying lengths for an AI startup specializing in recruitment technology.\n",
    "```"
   ]
  },
  {
   "cell_type": "code",
   "execution_count": null,
   "id": "27de7788",
   "metadata": {},
   "outputs": [],
   "source": [
    "# Try different max_tokens values\n",
    "for value in [50, 150, 300]:\n",
    "    print(f\"\\nmax_tokens = {value}\")\n",
    "    response = query_model('''Generate a company overview of varying lengths for an AI startup specializing in recruitment technology.''', max_tokens=value)\n",
    "    display(Markdown(f\"**Response:**\\n{response}\"))"
   ]
  },
  {
   "cell_type": "markdown",
   "id": "c9822717",
   "metadata": {},
   "source": [
    "## Best Practices Summary\n",
    "\n",
    "When working with basic parameters in recruitment:\n",
    "\n",
    "1. Temperature (Creativity vs. Consistency)\n",
    "   - Lower (0.1-0.3): Job requirement lists, skill matching\n",
    "   - Medium (0.4-0.6): Job descriptions, company overviews\n",
    "   - Higher (0.7-0.9): Creative job titles, culture descriptions\n",
    "\n",
    "2. Top-p (Nucleus Sampling)\n",
    "   - Lower (0.1-0.3): Strict skill matching, technical requirements\n",
    "   - Medium (0.4-0.6): General job descriptions\n",
    "   - Higher (0.7-0.9): Diverse candidate suggestions\n",
    "\n",
    "3. Top-k\n",
    "   - Lower (10-20): Specific technical skills\n",
    "   - Medium (30-50): General job requirements\n",
    "   - Higher (50-100): Broad role descriptions\n",
    "\n",
    "4. Max Tokens\n",
    "   - Short (50-100): Job titles, quick summaries\n",
    "   - Medium (150-300): Job descriptions, candidate profiles\n",
    "   - Long (300+): Detailed analysis, full job postings"
   ]
  }
 ],
 "metadata": {
  "kernelspec": {
   "display_name": "base",
   "language": "python",
   "name": "python3"
  },
  "language_info": {
   "codemirror_mode": {
    "name": "ipython",
    "version": 3
   },
   "file_extension": ".py",
   "mimetype": "text/x-python",
   "name": "python",
   "nbconvert_exporter": "python",
   "pygments_lexer": "ipython3",
   "version": "3.9.12"
  }
 },
 "nbformat": 4,
 "nbformat_minor": 5
}
