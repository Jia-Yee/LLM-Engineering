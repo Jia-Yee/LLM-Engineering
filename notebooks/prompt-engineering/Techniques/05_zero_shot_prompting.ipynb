{
 "cells": [
  {
   "cell_type": "code",
   "execution_count": null,
   "id": "2f93d39f",
   "metadata": {},
   "outputs": [],
   "source": [
    "# Import required libraries\n",
    "import requests\n",
    "from IPython.display import display, Markdown\n",
    "from utils import query_model, display_example"
   ]
  },
  {
   "cell_type": "markdown",
   "id": "4f195f0a",
   "metadata": {},
   "source": [
    "# Zero-Shot Prompting in Recruiting\n",
    "\n",
    "## Introduction\n",
    "Zero-shot prompting is a technique where we ask an LLM to perform a task without providing any examples in the prompt. Unlike few-shot prompting, which includes examples to guide the model's behavior, zero-shot prompting relies on clear instructions and the model's pre-trained knowledge to generate appropriate responses.\n",
    "\n",
    "### Key Concepts\n",
    "1. **No Examples Required**: The model performs tasks based solely on instructions\n",
    "2. **Clear Task Description**: Detailed instructions are crucial for success\n",
    "3. **Leveraging Pre-trained Knowledge**: Utilizing the model's existing understanding\n",
    "4. **Structured Output Format**: Specifying desired response format\n",
    "\n",
    "### Advantages in Recruiting\n",
    "- **Flexibility**: Quickly adapt to different recruiting tasks without example preparation\n",
    "- **Efficiency**: Shorter prompts, faster implementation\n",
    "- **Scalability**: Easy to apply across various recruiting scenarios\n"
   ]
  },
  {
   "cell_type": "markdown",
   "id": "1347e4a0",
   "metadata": {},
   "source": [
    "## Example 1: Resume Skill Analysis\n",
    "In this example, we'll use zero-shot prompting to analyze a resume and extract relevant skills."
   ]
  },
  {
   "cell_type": "code",
   "execution_count": null,
   "id": "6ccc5861",
   "metadata": {},
   "outputs": [],
   "source": [
    "\n",
    "resume_text = \"\"\"\n",
    "PROFESSIONAL EXPERIENCE\n",
    "Senior Software Engineer, TechCorp (2019-Present)\n",
    "- Led development of cloud-native applications using Python and AWS\n",
    "- Implemented CI/CD pipelines reducing deployment time by 40%\n",
    "- Mentored junior developers and conducted code reviews\n",
    "- Developed RESTful APIs serving 1M+ daily requests\n",
    "\n",
    "Software Developer, StartupX (2017-2019)\n",
    "- Built responsive web applications using React and Node.js\n",
    "- Optimized database queries improving performance by 30%\n",
    "- Collaborated with UX team to implement design systems\n",
    "\"\"\"\n",
    "\n",
    "prompt = \"\"\"Analyze this resume excerpt and:\n",
    "1. List all technical skills\n",
    "2. List all soft skills\n",
    "3. Rate expertise level (Beginner/Intermediate/Expert) for each technical skill\n",
    "Format the output as a structured list.\"\"\"\n",
    "\n",
    "display_example(\"Resume Skill Analysis\", prompt)"
   ]
  },
  {
   "cell_type": "markdown",
   "id": "8eb94f01",
   "metadata": {},
   "source": [
    "## Example 2: Job Description Classification\n",
    "This example demonstrates zero-shot classification of job seniority level."
   ]
  },
  {
   "cell_type": "code",
   "execution_count": null,
   "id": "372d87b1",
   "metadata": {},
   "outputs": [],
   "source": [
    "\n",
    "job_description = \"\"\"\n",
    "Position: Lead Data Scientist\n",
    "\n",
    "We're seeking a Lead Data Scientist to join our AI Innovation team. The ideal candidate will:\n",
    "- Drive the development of ML models and AI solutions\n",
    "- Lead a team of 5-7 data scientists and ML engineers\n",
    "- Define technical strategy and roadmap for AI initiatives\n",
    "- 8+ years of experience in machine learning and AI\n",
    "- PhD in Computer Science, Mathematics, or related field preferred\n",
    "- Track record of publishing research papers is a plus\n",
    "\n",
    "Compensation: $180,000 - $220,000\"\"\"\n",
    "\n",
    "prompt = \"\"\"Classify this job position's seniority level as one of: Junior, Mid-level, Senior, or Executive.\n",
    "Explain your reasoning in 2-3 sentences.\"\"\"\n",
    "\n",
    "display_example(\"Job Seniority Classification\", prompt)"
   ]
  },
  {
   "cell_type": "markdown",
   "id": "6ce32e45",
   "metadata": {},
   "source": [
    "## Example 3: Cultural Fit Assessment\n",
    "Using zero-shot prompting to evaluate cultural fit from interview responses."
   ]
  },
  {
   "cell_type": "code",
   "execution_count": null,
   "id": "6876783f",
   "metadata": {},
   "outputs": [],
   "source": [
    "\n",
    "interview_response = \"\"\"\n",
    "Q: How do you handle disagreements with team members?\n",
    "A: I believe in addressing conflicts directly but respectfully. In my last role, when I disagreed with a colleague's approach to a project, I scheduled a private meeting to discuss our different viewpoints. We walked through both perspectives, found common ground, and ultimately combined elements from both approaches. I always focus on the shared goal of delivering the best possible solution rather than proving who's right.\"\"\"\n",
    "\n",
    "prompt = \"\"\"Evaluate this interview response for cultural fit based on:\n",
    "1. Communication style\n",
    "2. Conflict resolution approach\n",
    "3. Collaboration mindset\n",
    "4. Problem-solving attitude\n",
    "\n",
    "Rate each aspect as Strong Fit, Moderate Fit, or Needs Improvement. Provide a brief explanation for each rating.\"\"\"\n",
    "\n",
    "display_example(\"Cultural Fit Evaluation\", prompt)"
   ]
  },
  {
   "cell_type": "markdown",
   "id": "a52cbaf4",
   "metadata": {},
   "source": [
    "## Example 4: Candidate Requirements Matching\n",
    "Zero-shot evaluation of candidate qualifications against job requirements."
   ]
  },
  {
   "cell_type": "code",
   "execution_count": null,
   "id": "2b64273f",
   "metadata": {},
   "outputs": [],
   "source": [
    "\n",
    "job_requirements = \"\"\"\n",
    "Required Qualifications:\n",
    "- 5+ years of full-stack development experience\n",
    "- Expertise in Python and JavaScript\n",
    "- Experience with cloud platforms (AWS/Azure)\n",
    "- Strong system design and architecture skills\n",
    "- Track record of leading technical projects\n",
    "\n",
    "Nice to Have:\n",
    "- Experience with Kubernetes\n",
    "- Machine learning background\n",
    "- Open source contributions\"\"\"\n",
    "\n",
    "candidate_profile = \"\"\"\n",
    "Professional Summary:\n",
    "- 6 years of software development experience\n",
    "- Full-stack developer at Fortune 500 company\n",
    "- Led team of 4 developers on cloud migration project\n",
    "- Created ML-powered recommendation engine\n",
    "- Active contributor to React and Django communities\n",
    "- Proficient in Python, JavaScript, React, Django\n",
    "- AWS Certified Solutions Architect\"\"\"\n",
    "\n",
    "prompt = \"\"\"Compare the candidate's profile against the job requirements and:\n",
    "1. List which required qualifications are met/unmet\n",
    "2. List which nice-to-have qualifications are met/unmet\n",
    "3. Calculate an overall match percentage\n",
    "4. Provide a recommendation (Strongly Consider/Consider/Do Not Consider)\"\"\"\n",
    "\n",
    "display_example(\"Requirements Matching\", prompt)"
   ]
  },
  {
   "cell_type": "markdown",
   "id": "19fa17fd",
   "metadata": {},
   "source": [
    "## Best Practices for Zero-Shot Prompting in Recruiting\n",
    "\n",
    "1. **Be Specific and Clear**\n",
    "   - Use precise language in instructions\n",
    "   - Specify desired output format\n",
    "   - Break down complex tasks into steps\n",
    "\n",
    "2. **Structure Your Prompts**\n",
    "   - Start with clear task description\n",
    "   - Include evaluation criteria\n",
    "   - Request specific output format\n",
    "\n",
    "3. **Maintain Consistency**\n",
    "   - Use consistent terminology\n",
    "   - Keep evaluation criteria standardized\n",
    "   - Maintain uniform output formats\n",
    "\n",
    "4. **Handle Edge Cases**\n",
    "   - Consider various response types\n",
    "   - Include validation criteria\n",
    "   - Specify how to handle missing information\n",
    "\n",
    "5. **Optimize for Objectivity**\n",
    "   - Use measurable criteria\n",
    "   - Request specific examples\n",
    "   - Ask for justification of assessments\n",
    "\n",
    "6. **Common Pitfalls to Avoid**\n",
    "   - Avoid vague instructions\n",
    "   - Don't assume model context\n",
    "   - Prevent bias in evaluations"
   ]
  }
 ],
 "metadata": {},
 "nbformat": 4,
 "nbformat_minor": 5
}
