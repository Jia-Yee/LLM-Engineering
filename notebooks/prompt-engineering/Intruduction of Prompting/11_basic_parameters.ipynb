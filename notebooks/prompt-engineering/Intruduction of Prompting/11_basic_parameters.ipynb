{
 "cells": [
  {
   "cell_type": "markdown",
   "id": "b290ed74",
   "metadata": {},
   "source": [
    "# Basic LLM Parameters for Recruitment Tasks\n",
    "\n",
    "This notebook covers the fundamental parameters for controlling LLM outputs in recruitment contexts:\n",
    "\n",
    "1. Temperature - Controls randomness and creativity\n",
    "2. Top-p (Nucleus Sampling) - Controls diversity of token selection\n",
    "3. Top-k - Limits the number of tokens considered\n",
    "4. Max Tokens - Controls response length\n",
    "\n",
    "We'll explore how these parameters affect different recruitment tasks including:\n",
    "- Job description generation and analysis\n",
    "- Resume parsing and evaluation\n",
    "- Company information processing"
   ]
  },
  {
   "cell_type": "code",
   "execution_count": 1,
   "id": "fc1a1576",
   "metadata": {},
   "outputs": [],
   "source": [
    "import json\n",
    "from subprocess import Popen, PIPE\n",
    "from IPython.display import display, Markdown\n",
    "\n",
    "def query_model(prompt, **params):\n",
    "    \"\"\"Query Ollama with a specific presence_penalty setting\"\"\"\n",
    "    cmd = [\n",
    "        \"curl\",\n",
    "        \"http://localhost:11434/api/generate\",\n",
    "        \"-d\",\n",
    "        json.dumps({\n",
    "            \"model\": \"llama3\",\n",
    "            \"prompt\": prompt,\n",
    "            \"options\": { **params }\n",
    "        })\n",
    "    ]\n",
    "\n",
    "    process = Popen(cmd, stdout=PIPE, stderr=PIPE)\n",
    "    output, _ = process.communicate()\n",
    "\n",
    "    responses = [json.loads(line) for line in output.decode().strip().split(\"\\n\")]\n",
    "    return \"\".join(r.get(\"response\", \"\") for r in responses)"
   ]
  },
  {
   "cell_type": "markdown",
   "id": "58485ed1",
   "metadata": {},
   "source": [
    "## Temperature\n",
    "\n",
    "Understanding temperature in recruitment contexts:\n",
    "- How it affects output quality\n",
    "- Best practices for different tasks\n",
    "- Example scenarios and use cases"
   ]
  },
  {
   "cell_type": "markdown",
   "id": "9a49f0fa",
   "metadata": {},
   "source": [
    "### Job Description\n",
    "\n",
    "Testing temperature with this recruiting scenario:\n",
    "```\n",
    "Write a job description for a Senior Software Engineer position focusing on AI/ML development.\n",
    "```"
   ]
  },
  {
   "cell_type": "code",
   "execution_count": 2,
   "id": "4e86b544",
   "metadata": {},
   "outputs": [
    {
     "name": "stdout",
     "output_type": "stream",
     "text": [
      "\n",
      "temperature = 0.1\n"
     ]
    },
    {
     "data": {
      "text/markdown": [
       "**Response:**\n",
       "**Job Title:** Senior Software Engineer - Artificial Intelligence/Machine Learning (AI/ML)\n",
       "\n",
       "**Company:** [Insert Company Name], a leading innovator in the field of AI and machine learning.\n",
       "\n",
       "**Location:** [Insert Location]\n",
       "\n",
       "**Job Type:** Full-time\n",
       "\n",
       "**About Us:**\n",
       "\n",
       "We are seeking an experienced and talented Senior Software Engineer to join our AI/ML team. As a pioneer in the development of AI-powered solutions, we are committed to pushing the boundaries of what is possible with machine learning. Our team is responsible for designing, developing, and deploying cutting-edge AI/ML models that drive business value and improve customer experiences.\n",
       "\n",
       "**Job Summary:**\n",
       "\n",
       "We are looking for a highly skilled Senior Software Engineer with expertise in AI/ML development to lead the design, implementation, and deployment of AI-powered solutions. The successful candidate will be responsible for:\n",
       "\n",
       "* Designing and developing AI/ML models using various frameworks (e.g., TensorFlow, PyTorch) and programming languages (e.g., Python, Java)\n",
       "* Collaborating with cross-functional teams to integrate AI/ML models into larger software systems\n",
       "* Developing and maintaining large-scale data pipelines to feed AI/ML models\n",
       "* Conducting experiments and analyzing results to optimize model performance\n",
       "* Staying up-to-date with the latest advancements in AI/ML research and applying this knowledge to drive innovation\n",
       "\n",
       "**Responsibilities:**\n",
       "\n",
       "* Design, develop, test, and deploy AI/ML models for various applications (e.g., computer vision, natural language processing, predictive analytics)\n",
       "* Collaborate with data scientists and engineers to integrate AI/ML models into larger software systems\n",
       "* Develop and maintain large-scale data pipelines using tools like Apache Beam, AWS Glue, or Azure Data Factory\n",
       "* Conduct experiments and analyze results to optimize model performance and improve accuracy\n",
       "* Stay current with the latest advancements in AI/ML research and apply this knowledge to drive innovation\n",
       "* Mentor junior engineers and provide guidance on AI/ML development best practices\n",
       "* Participate in code reviews and ensure high-quality, maintainable code\n",
       "\n",
       "**Requirements:**\n",
       "\n",
       "* Bachelor's or Master's degree in Computer Science, Electrical Engineering, or a related field\n",
       "* 5+ years of experience in AI/ML development using various frameworks (e.g., TensorFlow, PyTorch) and programming languages (e.g., Python, Java)\n",
       "* Strong understanding of machine learning concepts (e.g., supervised and unsupervised learning, neural networks, deep learning)\n",
       "* Experience with large-scale data processing and analytics\n",
       "* Proficiency in at least one programming language (e.g., Python, Java, C++)\n",
       "* Familiarity with cloud-based platforms (e.g., AWS, Azure, Google Cloud) and containerization (e.g., Docker)\n",
       "* Strong problem-solving skills and attention to detail\n",
       "* Excellent communication and collaboration skills\n",
       "\n",
       "**Nice to Have:**\n",
       "\n",
       "* Experience with data visualization tools (e.g., Tableau, Power BI)\n",
       "* Familiarity with DevOps practices (e.g., CI/CD, testing, deployment)\n",
       "* Knowledge of Agile development methodologies\n",
       "* Certification in AI/ML or a related field (e.g., Certified Data Scientist)\n",
       "\n",
       "**What We Offer:**\n",
       "\n",
       "* Competitive salary and benefits package\n",
       "* Opportunities for professional growth and development in the field of AI/ML\n",
       "* Collaborative and dynamic work environment\n",
       "* Flexible working hours and remote work options\n",
       "* Access to cutting-edge technologies and tools\n",
       "* Recognition and rewards for outstanding performance\n",
       "\n",
       "If you are a motivated and talented Senior Software Engineer looking to make a meaningful impact in the field of AI/ML, we encourage you to apply!"
      ],
      "text/plain": [
       "<IPython.core.display.Markdown object>"
      ]
     },
     "metadata": {},
     "output_type": "display_data"
    },
    {
     "name": "stdout",
     "output_type": "stream",
     "text": [
      "\n",
      "temperature = 0.5\n"
     ]
    },
    {
     "data": {
      "text/markdown": [
       "**Response:**\n",
       "Here is a job description for a Senior Software Engineer position focusing on AI/ML development:\n",
       "\n",
       "**Job Title:** Senior Software Engineer - AI/ML Development\n",
       "\n",
       "**Company:** [Insert Company Name], a leading innovator in the field of artificial intelligence and machine learning.\n",
       "\n",
       "**Location:** [Insert Location]\n",
       "\n",
       "**Job Summary:**\n",
       "\n",
       "We are seeking an experienced and talented Senior Software Engineer to join our AI/ML development team. As a senior member of our engineering team, you will be responsible for designing, developing, and deploying cutting-edge AI/ML solutions that drive business value and innovation. If you have a passion for machine learning, a strong track record of delivering high-quality software products, and a desire to work with a talented team of engineers, we want to hear from you.\n",
       "\n",
       "**Responsibilities:**\n",
       "\n",
       "* Design, develop, test, and deploy AI/ML models and algorithms that meet business requirements and technical specifications\n",
       "* Collaborate with cross-functional teams, including data scientists, product managers, and other engineers to integrate AI/ML solutions into our products and services\n",
       "* Develop and maintain a deep understanding of AI/ML technologies, including computer vision, natural language processing, and reinforcement learning\n",
       "* Work with the team to identify and prioritize technical debt, and develop plans to address it\n",
       "* Mentor junior engineers and provide guidance on best practices for AI/ML development\n",
       "* Stay up-to-date with industry trends and advancements in AI/ML, and apply this knowledge to improve our products and services\n",
       "\n",
       "**Requirements:**\n",
       "\n",
       "* Bachelor's or Master's degree in Computer Science, Electrical Engineering, or a related field\n",
       "* 7+ years of experience developing software applications, with at least 3 years focused on AI/ML development\n",
       "* Strong programming skills in Python, Java, C++, or other languages relevant to AI/ML development\n",
       "* Experience with popular AI/ML frameworks and libraries, such as TensorFlow, PyTorch, Keras, scikit-learn, etc.\n",
       "* Familiarity with big data technologies, including Hadoop, Spark, and NoSQL databases\n",
       "* Strong understanding of software design patterns, testing methodologies, and version control systems (e.g. Git)\n",
       "* Excellent problem-solving skills, with the ability to debug complex AI/ML models and algorithms\n",
       "* Strong communication and collaboration skills, with the ability to work effectively in a team environment\n",
       "\n",
       "**Preferred Qualifications:**\n",
       "\n",
       "* Ph.D. in Computer Science or related field\n",
       "* 5+ years of experience working on AI/ML projects for industries such as healthcare, finance, or e-commerce\n",
       "* Experience with cloud-based AI/ML platforms, such as AWS SageMaker, Google Cloud AI Platform, or Azure Machine Learning\n",
       "* Knowledge of domain-specific AI/ML applications, such as computer vision, natural language processing, or recommender systems\n",
       "\n",
       "**What We Offer:**\n",
       "\n",
       "* Competitive salary and benefits package\n",
       "* Opportunity to work on cutting-edge AI/ML projects that drive business value and innovation\n",
       "* Collaborative and dynamic work environment with a talented team of engineers\n",
       "* Professional development opportunities, including training and mentorship programs\n",
       "* Flexible working arrangements, including remote work options\n",
       "\n",
       "**How to Apply:**\n",
       "\n",
       "If you are a motivated and experienced software engineer with a passion for AI/ML development, please submit your resume and a cover letter explaining why you would be a great fit for this role."
      ],
      "text/plain": [
       "<IPython.core.display.Markdown object>"
      ]
     },
     "metadata": {},
     "output_type": "display_data"
    },
    {
     "name": "stdout",
     "output_type": "stream",
     "text": [
      "\n",
      "temperature = 0.9\n"
     ]
    },
    {
     "data": {
      "text/markdown": [
       "**Response:**\n",
       "**Job Title: Senior Software Engineer - Artificial Intelligence/Machine Learning**\n",
       "\n",
       "**Job Summary:**\n",
       "\n",
       "We are seeking an experienced and skilled Senior Software Engineer to join our team, specializing in the development of cutting-edge Artificial Intelligence (AI) and Machine Learning (ML) solutions. As a key member of our engineering team, you will be responsible for designing, developing, testing, and maintaining AI/ML models and applications that drive business growth and innovation.\n",
       "\n",
       "**Responsibilities:**\n",
       "\n",
       "* Design, develop, test, and deploy AI/ML models and applications using Python, TensorFlow, PyTorch, or other relevant frameworks\n",
       "* Collaborate with data scientists to integrate ML algorithms into software products\n",
       "* Develop and maintain complex software systems, including APIs, microservices, and data pipelines\n",
       "* Work closely with cross-functional teams to identify business needs and develop AI/ML solutions that meet those needs\n",
       "* Conduct code reviews and mentor junior engineers on best practices in AI/ML development\n",
       "* Stay up-to-date with the latest advancements in AI/ML research and technology, applying this knowledge to drive innovation and improve products\n",
       "* Participate in architectural design decisions, ensuring alignment with company goals and technical standards\n",
       "* Troubleshoot complex software issues and optimize system performance\n",
       "* Collaborate with QA engineers to develop test plans and ensure thorough testing of AI/ML models\n",
       "\n",
       "**Requirements:**\n",
       "\n",
       "* Bachelor's degree in Computer Science, Electrical Engineering, or a related field; Master's degree preferred\n",
       "* 8+ years of experience in software development, with at least 3 years focused on AI/ML development\n",
       "* Strong programming skills in Python and one or more ML frameworks (e.g., TensorFlow, PyTorch)\n",
       "* Experience with cloud-based platforms (AWS, GCP, Azure) and containerization (Docker)\n",
       "* Understanding of data structures, algorithms, and software design patterns\n",
       "* Excellent problem-solving skills and ability to work independently\n",
       "* Strong communication and collaboration skills; experience working in Agile environments a plus\n",
       "* Familiarity with DevOps practices and tools (e.g., Jenkins, GitLab CI/CD)\n",
       "\n",
       "**Nice-to-Have:**\n",
       "\n",
       "* Experience with deep learning frameworks (Keras, Caffe), computer vision, or natural language processing\n",
       "* Knowledge of reinforcement learning, Generative Adversarial Networks (GANs), or other emerging AI/ML topics\n",
       "* Familiarity with data visualization tools (e.g., Tableau, Power BI) and business intelligence platforms\n",
       "* Experience working with large datasets and database management systems (e.g., MySQL, PostgreSQL)\n",
       "* Certification in ML/AI (e.g., Certified Data Scientist by Data Science Council of America)\n",
       "\n",
       "**What We Offer:**\n",
       "\n",
       "* Competitive salary and benefits package\n",
       "* Opportunities for professional growth and development in a cutting-edge field\n",
       "* Collaborative and dynamic work environment with a talented team of engineers\n",
       "* Flexible working hours and remote work options\n",
       "* Access to state-of-the-art tools and technologies\n",
       "* Recognition and rewards for outstanding performance\n",
       "\n",
       "If you are a highly motivated and experienced AI/ML engineer looking for a new challenge, please submit your application, including your resume and a cover letter explaining why you're the ideal candidate for this role."
      ],
      "text/plain": [
       "<IPython.core.display.Markdown object>"
      ]
     },
     "metadata": {},
     "output_type": "display_data"
    }
   ],
   "source": [
    "# Try different temperature values\n",
    "for value in [0.1, 0.5, 0.9]:\n",
    "    print(f\"\\ntemperature = {value}\")\n",
    "    response = query_model('''Write a job description for a Senior Software Engineer position focusing on AI/ML development.''', temperature=value)\n",
    "    display(Markdown(f\"**Response:**\\n{response}\"))"
   ]
  },
  {
   "cell_type": "markdown",
   "id": "4ca3bc7b",
   "metadata": {},
   "source": [
    "### Resume Summary\n",
    "\n",
    "Testing temperature with this recruiting scenario:\n",
    "```\n",
    "Summarize a resume that highlights 5 years of Python development, ML model deployment, and team leadership.\n",
    "```"
   ]
  },
  {
   "cell_type": "code",
   "execution_count": 3,
   "id": "f22e1a96",
   "metadata": {},
   "outputs": [
    {
     "name": "stdout",
     "output_type": "stream",
     "text": [
      "\n",
      "temperature = 0.1\n"
     ]
    },
    {
     "data": {
      "text/markdown": [
       "**Response:**\n",
       "Here's a summary of a resume that highlights 5 years of Python development, ML model deployment, and team leadership:\n",
       "\n",
       "**Summary:**\n",
       "\n",
       "Highly motivated and experienced Python developer with 5 years of experience in building scalable and efficient machine learning models, deploying them to production environments, and leading teams to achieve project goals. Proficient in a range of technologies including Python, TensorFlow, Keras, scikit-learn, and PyTorch. Proven track record of successfully deploying multiple ML models to production, with a focus on accuracy, speed, and reliability.\n",
       "\n",
       "**Technical Skills:**\n",
       "\n",
       "* Programming languages: Python\n",
       "* Machine learning frameworks: TensorFlow, Keras, scikit-learn, PyTorch\n",
       "* Data manipulation and analysis: Pandas, NumPy, Matplotlib\n",
       "* Operating Systems: Linux, Windows\n",
       "* Cloud platforms: AWS, Google Cloud\n",
       "\n",
       "**Professional Experience:**\n",
       "\n",
       "**Senior Python Developer**, XYZ Corporation (2018-Present)\n",
       "\n",
       "* Led a team of 3 developers to build and deploy multiple machine learning models for customer segmentation and churn prediction\n",
       "* Designed and implemented data pipelines using Apache Beam and AWS Glue to process large datasets\n",
       "* Collaborated with cross-functional teams, including data scientists and product managers, to develop ML models that met business requirements\n",
       "* Deployed models to production environments using TensorFlow Serving and Kubernetes\n",
       "\n",
       "**Python Developer**, ABC Startups (2015-2018)\n",
       "\n",
       "* Built and deployed multiple machine learning models for image classification and object detection using Keras and PyTorch\n",
       "* Worked with data scientists to preprocess and analyze large datasets, including feature engineering and hyperparameter tuning\n",
       "* Collaborated with the DevOps team to deploy models to production environments using Docker and Kubernetes\n",
       "\n",
       "**Education:**\n",
       "\n",
       "* Bachelor's/Master's degree in Computer Science or related field (2010-2014)\n",
       "\n",
       "This summary highlights the candidate's experience in Python development, machine learning model deployment, and team leadership. It also showcases their technical skills and proficiency in a range of technologies."
      ],
      "text/plain": [
       "<IPython.core.display.Markdown object>"
      ]
     },
     "metadata": {},
     "output_type": "display_data"
    },
    {
     "name": "stdout",
     "output_type": "stream",
     "text": [
      "\n",
      "temperature = 0.5\n"
     ]
    },
    {
     "data": {
      "text/markdown": [
       "**Response:**\n",
       "Here's a summary of a resume that highlights 5 years of Python development, ML model deployment, and team leadership:\n",
       "\n",
       "**Summary:**\n",
       "\n",
       "Highly motivated and experienced Python developer with 5+ years of experience in building machine learning models, deploying them to production environments, and leading teams to achieve project goals. Proficient in a range of technologies including Python, TensorFlow, scikit-learn, and PyTorch. Proven track record of successfully delivering projects on time and exceeding expectations.\n",
       "\n",
       "**Technical Skills:**\n",
       "\n",
       "* Programming languages: Python\n",
       "* Machine learning frameworks: TensorFlow, scikit-learn, PyTorch\n",
       "* Data science tools: Pandas, NumPy, Matplotlib, Scipy\n",
       "* Operating Systems: Windows, Linux, macOS\n",
       "* Agile methodologies: Scrum, Kanban\n",
       "\n",
       "**Professional Experience:**\n",
       "\n",
       "**Senior Python Developer**, XYZ Corporation (2018-Present)\n",
       "\n",
       "* Led a team of 3-5 developers to design and deploy multiple machine learning models for customer segmentation, predictive maintenance, and demand forecasting.\n",
       "* Collaborated with data scientists to develop and integrate ML models into production environments using TensorFlow and scikit-learn.\n",
       "* Implemented automated testing frameworks using Pytest and Unittest to ensure model quality and reliability.\n",
       "* Worked closely with stakeholders to understand business requirements and deliver solutions that met their needs.\n",
       "\n",
       "**Python Developer**, ABC Startups (2015-2018)\n",
       "\n",
       "* Developed multiple ML models for natural language processing, image classification, and recommender systems using Python, TensorFlow, and PyTorch.\n",
       "* Deployed models to production environments using Flask and Django frameworks.\n",
       "* Collaborated with data scientists to integrate ML models into larger data pipelines using Apache Beam and AWS Glue.\n",
       "* Implemented data quality control measures to ensure high-quality datasets.\n",
       "\n",
       "**Education:**\n",
       "\n",
       "* Bachelor's/Master's degree in Computer Science or related field\n",
       "\n",
       "**Certifications/Awards:**\n",
       "\n",
       "* Certified Scrum Master (CSM)\n",
       "* Winner of the XYZ Corporation Hackathon (2019)\n",
       "\n",
       "This summary highlights the candidate's expertise in Python development, machine learning model deployment, and team leadership. It also showcases their technical skills, professional experience, and education."
      ],
      "text/plain": [
       "<IPython.core.display.Markdown object>"
      ]
     },
     "metadata": {},
     "output_type": "display_data"
    },
    {
     "name": "stdout",
     "output_type": "stream",
     "text": [
      "\n",
      "temperature = 0.9\n"
     ]
    },
    {
     "data": {
      "text/markdown": [
       "**Response:**\n",
       "Here's a summary of a resume that highlights 5 years of Python development, ML model deployment, and team leadership:\n",
       "\n",
       "**Summary:**\n",
       "\n",
       "Highly motivated and experienced software engineer with 5+ years of experience in developing scalable and efficient solutions using Python. Proven track record of successfully deploying machine learning models to production environments and leading high-performing teams to deliver innovative projects on time.\n",
       "\n",
       "**Technical Skills:**\n",
       "\n",
       "* Programming languages: Python, Java\n",
       "* Machine Learning frameworks: scikit-learn, TensorFlow, PyTorch\n",
       "* Data Science tools: Pandas, NumPy, Matplotlib, Scipy\n",
       "* Cloud platforms: AWS, Google Cloud, Azure\n",
       "* Operating Systems: Linux, Windows\n",
       "\n",
       "**Professional Experience:**\n",
       "\n",
       "**Senior Software Engineer (2020-Present)**\n",
       "\n",
       "* Led a team of 3 developers to design and develop a real-time sentiment analysis platform using Python, TensorFlow, and AWS SageMaker.\n",
       "* Deployed multiple machine learning models to production environments, resulting in a 30% increase in customer engagement.\n",
       "* Collaborated with data scientists to integrate custom ML models into the platform, improving model accuracy by 25%.\n",
       "* Mentored junior engineers, providing guidance on best practices, code reviews, and technical debt management.\n",
       "\n",
       "**Software Engineer (2018-2020)**\n",
       "\n",
       "* Contributed to the development of a Python-based recommender system using scikit-learn and Apache Spark.\n",
       "* Worked closely with data analysts to integrate data pipelines into the system, improving model performance by 15%.\n",
       "* Assisted in the deployment of multiple ML models to production environments using AWS Sagemaker and TensorFlow Serving.\n",
       "\n",
       "**Education:**\n",
       "\n",
       "* Bachelor's/Master's degree in Computer Science or related field\n",
       "\n",
       "**Certifications/Awards:**\n",
       "\n",
       "* Certified Data Scientist (CDS) certification\n",
       "* Winner of a company-wide hackathon competition for developing an innovative ML-based solution\n",
       "\n",
       "This summary highlights the candidate's experience in:\n",
       "\n",
       "1. Python development (5+ years)\n",
       "2. Machine learning model deployment to production environments\n",
       "3. Team leadership and management\n",
       "4. Collaboration with data scientists, analysts, and other stakeholders\n",
       "5. Technical skills in machine learning frameworks, data science tools, and cloud platforms\n",
       "\n",
       "Feel free to modify it according to your specific experience and style!"
      ],
      "text/plain": [
       "<IPython.core.display.Markdown object>"
      ]
     },
     "metadata": {},
     "output_type": "display_data"
    }
   ],
   "source": [
    "# Try different temperature values\n",
    "for value in [0.1, 0.5, 0.9]:\n",
    "    print(f\"\\ntemperature = {value}\")\n",
    "    response = query_model('''Summarize a resume that highlights 5 years of Python development, ML model deployment, and team leadership.''', temperature=value)\n",
    "    display(Markdown(f\"**Response:**\\n{response}\"))"
   ]
  },
  {
   "cell_type": "markdown",
   "id": "89005d4b",
   "metadata": {},
   "source": [
    "### Company Culture\n",
    "\n",
    "Testing temperature with this recruiting scenario:\n",
    "```\n",
    "Describe the company culture of a fast-growing AI startup.\n",
    "```"
   ]
  },
  {
   "cell_type": "code",
   "execution_count": 4,
   "id": "d7a6cbb0",
   "metadata": {},
   "outputs": [
    {
     "name": "stdout",
     "output_type": "stream",
     "text": [
      "\n",
      "temperature = 0.1\n"
     ]
    },
    {
     "data": {
      "text/markdown": [
       "**Response:**\n",
       "The thrill of working at a fast-growing AI startup! Here's a snapshot of what you might expect:\n",
       "\n",
       "**Collaborative and Innovative**\n",
       "\n",
       "* The company culture is built around collaboration, experimentation, and innovation. Team members are encouraged to share ideas, learn from each other, and work together to solve complex problems.\n",
       "* With a flat organizational structure, everyone has a voice and can contribute to the development of new AI-powered products or services.\n",
       "\n",
       "**Fast-Paced and Adaptable**\n",
       "\n",
       "* The pace is fast, with tight deadlines and an ever-changing landscape in the AI industry. Team members must be adaptable, resilient, and able to pivot quickly when needed.\n",
       "* This fast-paced environment fosters a sense of urgency, driving innovation and creativity as team members strive to stay ahead of the curve.\n",
       "\n",
       "**Data-Driven Decision Making**\n",
       "\n",
       "* Data is king at this startup! Every decision is informed by data analysis, whether it's evaluating the effectiveness of AI models or optimizing business processes.\n",
       "* Team members are encouraged to ask questions, challenge assumptions, and use data to drive insights that inform product development and strategic decisions.\n",
       "\n",
       "**Autonomy and Ownership**\n",
       "\n",
       "* With a focus on innovation, team members are given significant autonomy to design, develop, and implement their own projects. This ownership mentality encourages accountability, motivation, and a sense of pride in one's work.\n",
       "* Leaders empower team members to take calculated risks, make informed decisions, and learn from failures.\n",
       "\n",
       "**Continuous Learning**\n",
       "\n",
       "* The AI industry is constantly evolving, and this startup recognizes the importance of staying up-to-date with the latest advancements. Team members are encouraged to attend conferences, workshops, and online courses to expand their skill sets.\n",
       "* Mentorship programs and peer-to-peer learning opportunities help team members develop new skills and stay current in the field.\n",
       "\n",
       "**Wellness and Work-Life Balance**\n",
       "\n",
       "* With a fast-paced environment comes the risk of burnout. The company prioritizes wellness by offering flexible work arrangements, mental health resources, and regular team-building activities to promote relaxation and socialization.\n",
       "* Leaders emphasize the importance of self-care, recognizing that happy, healthy team members are more productive and innovative in the long run.\n",
       "\n",
       "**Diversity, Equity, and Inclusion**\n",
       "\n",
       "* This startup values diversity, equity, and inclusion (DEI) as essential components of its culture. Team members from diverse backgrounds bring unique perspectives, ideas, and experiences to the table.\n",
       "* The company actively works to create an inclusive environment by promoting open communication, addressing biases, and fostering a sense of belonging among all team members.\n",
       "\n",
       "**Recognition and Rewards**\n",
       "\n",
       "* Hard work and innovation are recognized and rewarded through various channels, such as employee recognition programs, bonuses, or stock options.\n",
       "* Team members are celebrated for their achievements, whether it's a successful project launch or a significant milestone reached in AI model development.\n",
       "\n",
       "In summary, the company culture of this fast-growing AI startup is characterized by collaboration, innovation, adaptability, data-driven decision making, autonomy, continuous learning, wellness, diversity, and recognition. It's an exciting place to work, with opportunities for growth, learning, and impact!"
      ],
      "text/plain": [
       "<IPython.core.display.Markdown object>"
      ]
     },
     "metadata": {},
     "output_type": "display_data"
    },
    {
     "name": "stdout",
     "output_type": "stream",
     "text": [
      "\n",
      "temperature = 0.5\n"
     ]
    },
    {
     "data": {
      "text/markdown": [
       "**Response:**\n",
       "The company culture of a fast-growing AI startup is likely to be dynamic, innovative, and highly collaborative. Here are some key characteristics that might define the culture:\n",
       "\n",
       "1. **Innovation-driven**: The company's focus on AI and machine learning means that innovation is at the heart of everything they do. Employees are encouraged to think outside the box, experiment with new ideas, and continuously improve processes.\n",
       "2. **Fast-paced and adaptable**: With rapid growth comes a sense of urgency. The team must be able to pivot quickly in response to changing market conditions, customer needs, or technological advancements.\n",
       "3. **Collaborative and inclusive**: AI is often seen as a solitary pursuit, but this startup values teamwork and open communication. Employees from diverse backgrounds and disciplines work together seamlessly to develop groundbreaking solutions.\n",
       "4. **Data-driven decision-making**: With AI at the core of their business, data analysis plays a crucial role in informing decisions. The company encourages data-informed discussions and uses analytics to drive product development, marketing strategies, and operational improvements.\n",
       "5. **Autonomy and ownership**: As a startup, there's often a sense of ownership among team members. They're empowered to take calculated risks, make decisions, and drive projects forward with minimal bureaucracy.\n",
       "6. **Continuous learning**: The AI landscape is constantly evolving, and the company recognizes the importance of staying up-to-date with the latest developments. Employees are encouraged to attend conferences, workshops, and online courses to expand their skill sets.\n",
       "7. **Diverse and inclusive work environment**: A diverse workforce is essential for developing innovative AI solutions that cater to a broad range of users. The company strives to create an inclusive culture where everyone feels valued, respected, and supported.\n",
       "8. **Recognition and rewards**: Fast-growing startups often rely on employee motivation to drive success. The company recognizes and rewards outstanding performance, innovation, and teamwork with opportunities for growth, bonuses, or special perks.\n",
       "9. **Flexible work arrangements**: With the rise of remote work, this startup offers flexible schedules, telecommuting options, or co-working spaces to accommodate different work styles and needs.\n",
       "10. **Social responsibility**: As AI has significant social implications, the company prioritizes responsible AI development, ensuring that their solutions benefit society as a whole while minimizing potential negative consequences.\n",
       "11. **Open communication and feedback**: Regular check-ins, 360-degree feedback, and transparent goal-setting help foster a culture of open communication, trust, and continuous improvement.\n",
       "12. **Celebration of milestones and achievements**: The company celebrates its employees' individual and team achievements, recognizing the hard work and dedication that drives their success.\n",
       "\n",
       "In this fast-growing AI startup, you might find:\n",
       "\n",
       "* A vibrant, open-concept office with collaborative spaces and state-of-the-art equipment\n",
       "* Frequent hackathons, innovation days, or ideation sessions to encourage creativity and experimentation\n",
       "* Regular team-building activities, such as escape rooms, volunteer events, or social gatherings\n",
       "* A strong emphasis on mentorship, coaching, and professional development opportunities\n",
       "* A dynamic, fast-paced environment with a sense of urgency and excitement\n",
       "\n",
       "Overall, the company culture is characterized by a relentless pursuit of innovation, collaboration, and continuous learning, all while prioritizing social responsibility and employee well-being."
      ],
      "text/plain": [
       "<IPython.core.display.Markdown object>"
      ]
     },
     "metadata": {},
     "output_type": "display_data"
    },
    {
     "name": "stdout",
     "output_type": "stream",
     "text": [
      "\n",
      "temperature = 0.9\n"
     ]
    },
    {
     "data": {
      "text/markdown": [
       "**Response:**\n",
       "The company culture of a fast-growing AI startup is likely to be characterized by several key elements that drive innovation, collaboration, and growth. Here are some aspects that might define this type of culture:\n",
       "\n",
       "1. **Innovation-driven**: The company's DNA is centered around AI and its potential to disrupt industries. Employees are encouraged to think outside the box, experiment with new ideas, and push the boundaries of what's possible.\n",
       "2. **Collaborative atmosphere**: With a focus on teamwork, colleagues from different departments regularly collaborate on projects, share knowledge, and learn from each other's strengths. This fosters a sense of camaraderie and mutual respect.\n",
       "3. **Fast-paced environment**: As a fast-growing startup, the pace is quick, and employees are expected to adapt quickly to changing circumstances. This requires flexibility, resilience, and a willingness to pivot when necessary.\n",
       "4. **Emphasis on learning and development**: The company invests heavily in employee growth and skill-building, recognizing that AI is an ever-evolving field. Employees have access to training programs, mentorship opportunities, and conferences to stay up-to-date with the latest advancements.\n",
       "5. **Data-driven decision making**: With AI at the core, data analysis is crucial for informing business decisions. The company culture encourages employees to be data-driven, using facts and figures to back up their ideas and hypotheses.\n",
       "6. **Agile methodologies**: To accommodate rapid innovation and change, the startup employs agile development methodologies (e.g., Scrum, Kanban) to facilitate iterative development, continuous improvement, and effective communication among teams.\n",
       "7. **Autonomy and empowerment**: As a fast-growing company, employees are given the freedom to make decisions, take calculated risks, and drive their own projects. This autonomy fosters a sense of ownership and motivates individuals to strive for excellence.\n",
       "8. **Open communication and transparency**: The startup values open, honest, and transparent communication throughout all levels of the organization. Regular town hall meetings, team feedback sessions, and anonymous suggestion boxes help keep employees informed and engaged.\n",
       "9. **Employee wellness and work-life balance**: Recognizing that innovation requires energy and creativity, the company prioritizes employee well-being by offering flexible working hours, wellness programs, and opportunities for relaxation and rejuvenation.\n",
       "10. **Diverse and inclusive culture**: The AI startup strives to create an environment where everyone feels welcome, respected, and valued. This includes a focus on diversity, equity, and inclusion (DEI) initiatives, such as unconscious bias training and employee resource groups.\n",
       "11. **Recognition and reward**: To motivate employees and acknowledge their contributions, the company offers competitive compensation packages, bonuses for milestones achieved, and opportunities to showcase innovative work.\n",
       "\n",
       "By fostering this unique culture, a fast-growing AI startup can attract top talent, drive innovation, and maintain its competitive edge in a rapidly evolving market."
      ],
      "text/plain": [
       "<IPython.core.display.Markdown object>"
      ]
     },
     "metadata": {},
     "output_type": "display_data"
    }
   ],
   "source": [
    "# Try different temperature values\n",
    "for value in [0.1, 0.5, 0.9]:\n",
    "    print(f\"\\ntemperature = {value}\")\n",
    "    response = query_model('''Describe the company culture of a fast-growing AI startup.''', temperature=value)\n",
    "    display(Markdown(f\"**Response:**\\n{response}\"))"
   ]
  },
  {
   "cell_type": "markdown",
   "id": "f1e90784",
   "metadata": {},
   "source": [
    "## Top_P\n",
    "\n",
    "Understanding top_p in recruitment contexts:\n",
    "- How it affects output quality\n",
    "- Best practices for different tasks\n",
    "- Example scenarios and use cases"
   ]
  },
  {
   "cell_type": "markdown",
   "id": "8086ae27",
   "metadata": {},
   "source": [
    "### Skill Matching\n",
    "\n",
    "Testing top_p with this recruiting scenario:\n",
    "```\n",
    "Given a job requirement for 'Python, TensorFlow, and AWS experience', analyze if a candidate with 'extensive Python, PyTorch background, and GCP expertise' is a good match.\n",
    "```"
   ]
  },
  {
   "cell_type": "code",
   "execution_count": 5,
   "id": "e2be8466",
   "metadata": {},
   "outputs": [
    {
     "name": "stdout",
     "output_type": "stream",
     "text": [
      "\n",
      "top_p = 10\n"
     ]
    },
    {
     "data": {
      "text/markdown": [
       "**Response:**\n",
       "Based on the job requirements and the candidate's profile, here's an analysis of whether the candidate is a good match:\n",
       "\n",
       "**Matching points:**\n",
       "\n",
       "1. **Python experience**: The candidate has extensive Python experience, which aligns perfectly with the job requirement.\n",
       "2. **Deep learning background**: Although PyTorch is not TensorFlow, both are deep learning frameworks, and having experience in one can translate to understanding of the other.\n",
       "\n",
       "**Non-matching points:**\n",
       "\n",
       "1. **TensorFlow requirement**: The job specifically asks for TensorFlow experience, which the candidate does not have (they have PyTorch experience instead). This might be a concern, as the candidate may need to learn TensorFlow or adapt their knowledge from PyTorch to TensorFlow.\n",
       "2. **AWS experience required, GCP expertise given**: Although the candidate has expertise in Google Cloud Platform (GCP), they do not have experience with Amazon Web Services (AWS), which is specifically mentioned in the job requirement. This might be a significant mismatch.\n",
       "\n",
       "**Overall assessment:**\n",
       "\n",
       "While the candidate has some matching points (Python and deep learning background), the non-matching points (TensorFlow and AWS) are concerning. To determine if the candidate is still a good match, I would ask additional questions to clarify:\n",
       "\n",
       "1. Are they willing and able to learn TensorFlow? If so, how quickly can they adapt?\n",
       "2. Can their GCP expertise be applied to AWS or other cloud platforms, making them a versatile candidate?\n",
       "\n",
       "If the candidate demonstrates a strong willingness to learn TensorFlow and an understanding of how their GCP skills can be applied to other cloud platforms, including AWS, then they could still be a viable candidate. However, if they are not willing or able to adapt to these requirements, it may be better to consider candidates with more direct experience in both areas.\n",
       "\n",
       "In conclusion, while the candidate has some matching points, their non-matching points and lack of TensorFlow and AWS experience make them a potentially good match but not an ideal one."
      ],
      "text/plain": [
       "<IPython.core.display.Markdown object>"
      ]
     },
     "metadata": {},
     "output_type": "display_data"
    },
    {
     "name": "stdout",
     "output_type": "stream",
     "text": [
      "\n",
      "top_p = 40\n"
     ]
    },
    {
     "data": {
      "text/markdown": [
       "**Response:**\n",
       "Based on the job requirement and the candidate's background, here's an analysis:\n",
       "\n",
       "**Good matches:**\n",
       "\n",
       "1. **Python**: The candidate has \"extensive\" Python experience, which aligns perfectly with one of the required skills.\n",
       "2. **AI/ML background**: Although PyTorch is not TensorFlow (the specific framework mentioned in the job requirement), it's a popular deep learning framework that shares many similarities with TensorFlow. This suggests that the candidate has a strong foundation in AI/ML concepts, which can be valuable in an environment where TensorFlow is used.\n",
       "\n",
       "**Somewhat decent match:**\n",
       "\n",
       "1. **AWS experience**: While the candidate does not have AWS expertise, they do have Google Cloud Platform (GCP) experience. While GCP and AWS are different cloud platforms, both require a similar set of skills, such as understanding of cloud computing concepts, infrastructure management, and services like machine learning and data analytics. The candidate's GCP expertise can be adapted to learn AWS, which is not an uncommon requirement in the industry.\n",
       "\n",
       "**Potential gaps:**\n",
       "\n",
       "1. **TensorFlow**: Although the candidate has AI/ML experience with PyTorch, they lack specific knowledge of TensorFlow, which is a required skill for the job.\n",
       "2. **AWS vs GCP**: While both cloud platforms share some similarities, there are differences in services, pricing models, and best practices that require adaptation to switch between them.\n",
       "\n",
       "**Recommendation:**\n",
       "\n",
       "Based on this analysis, it's reasonable to consider the candidate a good match, but not a perfect fit. The candidate's strong Python skills, AI/ML background, and GCP experience can be valuable assets. However, they will need to demonstrate their willingness to learn and adapt to TensorFlow and AWS (if necessary) during an interview or on-the-job.\n",
       "\n",
       "To further assess the candidate's fit for the role, you might want to ask questions like:\n",
       "\n",
       "* How do you stay up-to-date with advancements in AI/ML and deep learning frameworks?\n",
       "* Can you explain how your PyTorch experience can be applied to a TensorFlow-based project?\n",
       "* How do you plan to learn and adapt to AWS (if necessary)?\n",
       "* What specific skills or knowledge do you bring from your GCP experience that can be transferred to an AWS environment?"
      ],
      "text/plain": [
       "<IPython.core.display.Markdown object>"
      ]
     },
     "metadata": {},
     "output_type": "display_data"
    },
    {
     "name": "stdout",
     "output_type": "stream",
     "text": [
      "\n",
      "top_p = 100\n"
     ]
    }
   ],
   "source": [
    "# Try different top_p values\n",
    "for value in [10, 40, 100]:\n",
    "    print(f\"\\ntop_p = {value}\")\n",
    "    response = query_model('''Given a job requirement for 'Python, TensorFlow, and AWS experience', analyze if a candidate with 'extensive Python, PyTorch background, and GCP expertise' is a good match.''', top_p=value)\n",
    "    display(Markdown(f\"**Response:**\\n{response}\"))"
   ]
  },
  {
   "cell_type": "markdown",
   "id": "4af62a93",
   "metadata": {},
   "source": [
    "### Candidate Evaluation\n",
    "\n",
    "Testing top_p with this recruiting scenario:\n",
    "```\n",
    "Evaluate a software engineer candidate based on: 5 years Python, 3 years ML deployment, team lead experience.\n",
    "```"
   ]
  },
  {
   "cell_type": "code",
   "execution_count": 6,
   "id": "00ea2b77",
   "metadata": {},
   "outputs": [
    {
     "name": "stdout",
     "output_type": "stream",
     "text": [
      "\n",
      "top_p = 10\n"
     ]
    },
    {
     "data": {
      "text/markdown": [
       "**Response:**\n",
       "Based on the candidate's background and experience, here's an evaluation of their strengths and weaknesses as a software engineer:\n",
       "\n",
       "**Technical Skills:**\n",
       "\n",
       "* **Python:** With 5 years of experience in Python, the candidate has a strong foundation in programming language fundamentals. They likely have hands-on experience with popular libraries like NumPy, pandas, scikit-learn, and TensorFlow.\n",
       "* **ML Deployment:** The candidate's 3-year experience in ML deployment suggests they have a solid understanding of machine learning concepts and their application to real-world problems. They may be familiar with frameworks like Scikit-Learn, TensorFlow, or PyTorch.\n",
       "\n",
       "**Leadership Experience:**\n",
       "\n",
       "* **Team Lead:** As a team lead, the candidate has likely developed skills in:\n",
       "\t+ Mentoring and guiding junior engineers\n",
       "\t+ Prioritizing tasks and managing multiple projects simultaneously\n",
       "\t+ Effective communication and collaboration with cross-functional teams\n",
       "\n",
       "**Strengths:**\n",
       "\n",
       "1. **Technical expertise**: The candidate's 5 years of Python experience and 3 years of ML deployment demonstrate a strong foundation in both programming language and machine learning.\n",
       "2. **Leadership potential**: Having been a team lead, the candidate has likely developed leadership skills that can be valuable in a software engineering role.\n",
       "3. **Real-world experience**: The candidate's experience in deploying machine learning models suggests they have hands-on experience with real-world problems and have worked on projects that required collaboration with non-technical stakeholders.\n",
       "\n",
       "**Weaknesses:**\n",
       "\n",
       "1. **Limited breadth of expertise**: While the candidate has strong technical skills, their focus on ML deployment and Python might mean they don't have as much experience in other areas like front-end development, database management, or cloud computing.\n",
       "2. **Possibly too specialized**: The candidate's deep dive into ML deployment might make them less versatile than engineers with a broader range of experiences.\n",
       "\n",
       "**Interview Questions:**\n",
       "\n",
       "1. Can you walk me through your experience with machine learning deployments? How have you approached this task in the past?\n",
       "2. How do you prioritize tasks and manage multiple projects simultaneously as a team lead?\n",
       "3. Tell me about a particularly challenging ML deployment project you worked on. How did you overcome any obstacles that arose during development?\n",
       "\n",
       "**Assessment:**\n",
       "\n",
       "The candidate is likely a strong technical professional with a deep understanding of Python, machine learning, and deployment. Their leadership experience suggests they are capable of mentoring others and managing projects effectively.\n",
       "\n",
       "To further evaluate the candidate's fit for the role, consider asking follow-up questions to drill down on their specific experiences and skill sets. You may also want to ask behavioral questions to assess their problem-solving skills, ability to work under pressure, and capacity to learn from failures."
      ],
      "text/plain": [
       "<IPython.core.display.Markdown object>"
      ]
     },
     "metadata": {},
     "output_type": "display_data"
    },
    {
     "name": "stdout",
     "output_type": "stream",
     "text": [
      "\n",
      "top_p = 40\n"
     ]
    },
    {
     "data": {
      "text/markdown": [
       "**Response:**\n",
       "Based on the candidate's experience and qualifications, here's an evaluation of their strengths and areas for improvement:\n",
       "\n",
       "**Strengths:**\n",
       "\n",
       "1. **Python expertise**: With 5 years of experience in Python, the candidate has a strong foundation in programming languages, data structures, and algorithms. This is essential for any software engineer role.\n",
       "2. **Machine Learning (ML) deployment experience**: The candidate's 3-year experience in ML deployment is impressive, considering most ML models require significant expertise to deploy successfully. This demonstrates their ability to apply ML concepts to real-world problems and collaborate with stakeholders on model implementation.\n",
       "3. **Team lead experience**: As a team lead, the candidate has likely developed strong leadership, communication, and project management skills. These are valuable assets for any software engineer role, particularly in an Agile environment.\n",
       "\n",
       "**Areas for Improvement:**\n",
       "\n",
       "1. **Depth of knowledge in ML**: While 3 years of ML deployment experience is impressive, it's essential to understand the underlying concepts and algorithms involved. The candidate may benefit from exploring advanced topics like Bayesian methods, reinforcement learning, or transfer learning.\n",
       "2. **Data engineering skills**: As a software engineer, data engineering is an crucial aspect of working with ML models. The candidate should demonstrate proficiency in handling large datasets, data processing pipelines, and data warehousing concepts.\n",
       "3. **Cloud computing experience**: Many modern applications involve cloud-based infrastructure. If the candidate doesn't have hands-on experience with cloud services like AWS, Azure, or Google Cloud, they should be willing to learn and adapt.\n",
       "\n",
       "**Interview Questions:**\n",
       "\n",
       "1. Can you walk us through your experience in deploying ML models? How did you ensure model accuracy and handle potential biases?\n",
       "2. How do you approach data preprocessing and feature engineering when working with large datasets?\n",
       "3. Describe a project where you led a team to develop an ML-based solution. What were some of the challenges, and how did you overcome them?\n",
       "4. Can you explain your understanding of [specific ML algorithm or concept]? How have you applied it in previous projects?\n",
       "5. How do you stay up-to-date with advancements in the field? Can you give us an example of a recent paper or article that caught your attention?\n",
       "\n",
       "**Next Steps:**\n",
       "\n",
       "1. Conduct a technical interview to assess their problem-solving skills, coding abilities, and understanding of ML concepts.\n",
       "2. Ask for specific examples of projects they've worked on, including challenges overcome and lessons learned.\n",
       "3. Evaluate their teamwork and leadership experiences by asking about collaboration methods, conflict resolution strategies, and mentorship approaches.\n",
       "4. Provide a take-home assignment or case study to test their skills in Python, data engineering, and ML deployment.\n",
       "\n",
       "**Hiring Decision:**\n",
       "\n",
       "If the candidate demonstrates strong technical skills, excellent problem-solving abilities, and effective communication, they would be a top contender for the software engineer role. Their team lead experience and ML deployment expertise will also serve them well in this position."
      ],
      "text/plain": [
       "<IPython.core.display.Markdown object>"
      ]
     },
     "metadata": {},
     "output_type": "display_data"
    },
    {
     "name": "stdout",
     "output_type": "stream",
     "text": [
      "\n",
      "top_p = 100\n"
     ]
    },
    {
     "data": {
      "text/markdown": [
       "**Response:**\n",
       "Here's an evaluation of the software engineer candidate based on their 5 years of Python experience, 3 years of machine learning (ML) deployment experience, and team lead experience:\n",
       "\n",
       "**Python Experience (5 years)**\n",
       "\n",
       "* Strong foundation in Python programming language\n",
       "* Understands best practices for coding style, testing, and debugging\n",
       "* Familiar with popular Python libraries and frameworks (e.g., NumPy, pandas, scikit-learn, Flask/Django)\n",
       "* Has a good grasp of data structures, algorithms, and software design principles\n",
       "\n",
       "**Machine Learning Deployment Experience (3 years)**\n",
       "\n",
       "* Hands-on experience in deploying ML models in production environments\n",
       "* Understands the importance of data preprocessing, feature engineering, model training, and evaluation\n",
       "* Familiar with popular ML deployment platforms and tools (e.g., TensorFlow, PyTorch, scikit-learn, AWS SageMaker)\n",
       "* Can design and implement model serving architectures, including API design and containerization\n",
       "\n",
       "**Team Lead Experience**\n",
       "\n",
       "* Has managed a team or contributed to collaborative projects in the past\n",
       "* Understands the importance of effective communication, delegation, and leadership\n",
       "* Can prioritize tasks, manage competing demands, and meet project deadlines\n",
       "* Familiar with agile development methodologies (e.g., Scrum, Kanban)\n",
       "\n",
       "**Overall Evaluation**\n",
       "\n",
       "Based on this candidate's experience, they demonstrate a strong foundation in Python programming and machine learning. Their 3 years of ML deployment experience shows they can successfully deploy models in production environments.\n",
       "\n",
       "As a team lead, the candidate has demonstrated leadership skills, which is crucial for managing complex projects and teams. Their ability to prioritize tasks, manage competing demands, and meet project deadlines suggests they are well-organized and proactive.\n",
       "\n",
       "**Potential Strengths**\n",
       "\n",
       "* Strong technical foundation in Python and ML\n",
       "* Proven experience in deploying ML models in production environments\n",
       "* Leadership skills and ability to manage teams\n",
       "\n",
       "**Potential Weaknesses**\n",
       "\n",
       "* Limited breadth of experience: While the candidate has significant experience in ML deployment, their experience is concentrated in this area. It's unclear how well they would adapt to other areas of software engineering.\n",
       "* No explicit evidence of learning new technologies or adapting to changing project requirements.\n",
       "\n",
       "**Recommendations**\n",
       "\n",
       "1. **Technical Interview**: Conduct a technical interview to assess the candidate's problem-solving skills, coding abilities, and understanding of ML concepts.\n",
       "2. **Behavioral Questions**: Ask behavioral questions to gauge their leadership experience, teamwork skills, and adaptability in the face of change.\n",
       "3. **Project Evaluation**: Evaluate the candidate's previous projects or contributions to understand their ability to design, develop, and deploy software systems.\n",
       "\n",
       "**Conclusion**\n",
       "\n",
       "This candidate demonstrates a strong technical foundation and significant experience in ML deployment. Their team lead experience suggests they have the leadership skills necessary to manage complex projects. While there are no explicit weaknesses, it's essential to assess their adaptability to new technologies and project requirements during the interview process."
      ],
      "text/plain": [
       "<IPython.core.display.Markdown object>"
      ]
     },
     "metadata": {},
     "output_type": "display_data"
    }
   ],
   "source": [
    "# Try different top_p values\n",
    "for value in [10, 40, 100]:\n",
    "    print(f\"\\ntop_p = {value}\")\n",
    "    response = query_model('''Evaluate a software engineer candidate based on: 5 years Python, 3 years ML deployment, team lead experience.''', top_p=value)\n",
    "    display(Markdown(f\"**Response:**\\n{response}\"))"
   ]
  },
  {
   "cell_type": "markdown",
   "id": "c8114baa",
   "metadata": {},
   "source": [
    "### Role Requirements\n",
    "\n",
    "Testing top_p with this recruiting scenario:\n",
    "```\n",
    "List the key requirements for a Machine Learning Engineer position.\n",
    "```"
   ]
  },
  {
   "cell_type": "code",
   "execution_count": 7,
   "id": "6917f810",
   "metadata": {},
   "outputs": [
    {
     "name": "stdout",
     "output_type": "stream",
     "text": [
      "\n",
      "top_p = 10\n"
     ]
    },
    {
     "data": {
      "text/markdown": [
       "**Response:**\n",
       "Here are the key requirements for a Machine Learning Engineer (MLE) position:\n",
       "\n",
       "**Technical Skills:**\n",
       "\n",
       "1. **Programming skills:** Proficiency in one or more programming languages, such as Python, R, Java, C++, or MATLAB.\n",
       "2. **Machine learning frameworks:** Familiarity with popular machine learning frameworks like TensorFlow, PyTorch, Scikit-learn, Keras, or OpenCV.\n",
       "3. **Deep learning:** Knowledge of deep learning techniques, including neural networks, convolutional neural networks (CNNs), recurrent neural networks (RNNs), and long short-term memory (LSTM) networks.\n",
       "4. **Data preprocessing:** Ability to clean, preprocess, and visualize data for machine learning models.\n",
       "5. **Model evaluation:** Understanding of metrics used to evaluate machine learning model performance, such as accuracy, precision, recall, F1-score, and loss functions.\n",
       "6. **Cloud computing:** Familiarity with cloud-based platforms like AWS, Google Cloud, or Azure, including their machine learning services (e.g., SageMaker, AutoML).\n",
       "7. **Data visualization:** Ability to create meaningful visualizations of data and models using tools like Matplotlib, Seaborn, Plotly, or Tableau.\n",
       "8. **SQL:** Knowledge of SQL and ability to interact with relational databases.\n",
       "\n",
       "**Mathematical Skills:**\n",
       "\n",
       "1. **Linear algebra:** Understanding of linear algebra concepts, such as vector spaces, matrix operations, and eigendecomposition.\n",
       "2. **Calculus:** Familiarity with differential calculus, including optimization techniques like gradient descent.\n",
       "3. **Statistics:** Knowledge of statistical inference, hypothesis testing, and confidence intervals.\n",
       "\n",
       "**Software Development Skills:**\n",
       "\n",
       "1. **Version control:** Proficiency with version control systems like Git or SVN.\n",
       "2. **Development frameworks:** Understanding of software development frameworks, such as Flask or Django (for Python) or Spring Boot (for Java).\n",
       "3. **Testing:** Familiarity with testing frameworks and methodologies, including unit testing, integration testing, and continuous integration.\n",
       "\n",
       "**Soft Skills:**\n",
       "\n",
       "1. **Communication:** Ability to effectively communicate complex technical concepts to both technical and non-technical stakeholders.\n",
       "2. **Collaboration:** Willingness to work collaboratively with cross-functional teams, including data scientists, product managers, and software engineers.\n",
       "3. **Problem-solving:** Strong problem-solving skills and ability to debug and troubleshoot machine learning models.\n",
       "4. **Adaptability:** Ability to adapt to new technologies, frameworks, and tools quickly.\n",
       "\n",
       "**Education:**\n",
       "\n",
       "1. **Bachelor's or Master's degree:** A bachelor's or master's degree in Computer Science, Mathematics, Statistics, Engineering, or a related field.\n",
       "2. **Research experience:** Research experience in machine learning or a related field is often preferred.\n",
       "\n",
       "Keep in mind that specific requirements may vary depending on the company, industry, and specific job description."
      ],
      "text/plain": [
       "<IPython.core.display.Markdown object>"
      ]
     },
     "metadata": {},
     "output_type": "display_data"
    },
    {
     "name": "stdout",
     "output_type": "stream",
     "text": [
      "\n",
      "top_p = 40\n"
     ]
    },
    {
     "data": {
      "text/markdown": [
       "**Response:**\n",
       "Here are the common key requirements for a Machine Learning Engineer (MLE) position:\n",
       "\n",
       "**Education:**\n",
       "\n",
       "1. Bachelor's or Master's degree in Computer Science, Electrical Engineering, Mathematics, Statistics, or a related field.\n",
       "2. Strong foundations in computer science, mathematics, and statistics.\n",
       "\n",
       "**Technical Skills:**\n",
       "\n",
       "1. Programming skills in languages such as Python, Java, C++, or R.\n",
       "2. Experience with machine learning frameworks such as TensorFlow, PyTorch, Scikit-learn, or Keras.\n",
       "3. Familiarity with deep learning concepts, including neural networks, convolutional networks, and recurrent networks.\n",
       "4. Knowledge of linear algebra, calculus, probability, and statistics.\n",
       "5. Understanding of data structures, algorithms, and software design patterns.\n",
       "6. Experience with big data technologies such as Hadoop, Spark, or NoSQL databases.\n",
       "\n",
       "**Machine Learning Skills:**\n",
       "\n",
       "1. Hands-on experience with supervised and unsupervised machine learning techniques (e.g., regression, classification, clustering, dimensionality reduction).\n",
       "2. Familiarity with popular ML libraries and tools (e.g., scikit-learn, TensorFlow, PyTorch).\n",
       "3. Understanding of model evaluation metrics (e.g., accuracy, precision, recall, F1-score, AUC-ROC).\n",
       "4. Ability to design, train, and deploy machine learning models using a variety of algorithms.\n",
       "\n",
       "**Data Analysis and Visualization:**\n",
       "\n",
       "1. Experience with data preprocessing, feature engineering, and visualization techniques.\n",
       "2. Familiarity with data analysis tools such as pandas, NumPy, or Matplotlib.\n",
       "3. Understanding of data quality control and normalization processes.\n",
       "\n",
       "**Software Engineering Skills:**\n",
       "\n",
       "1. Proficiency in software development life cycles (e.g., Agile, Waterfall).\n",
       "2. Experience with version control systems such as Git.\n",
       "3. Knowledge of DevOps practices and cloud computing platforms (e.g., AWS, Azure, Google Cloud).\n",
       "\n",
       "**Collaboration and Communication:**\n",
       "\n",
       "1. Strong written and verbal communication skills to effectively collaborate with cross-functional teams.\n",
       "2. Ability to explain complex technical concepts to non-technical stakeholders.\n",
       "\n",
       "**Other Requirements:**\n",
       "\n",
       "1. Strong problem-solving skills and ability to debug issues.\n",
       "2. Experience working with large datasets and high-performance computing environments.\n",
       "3. Familiarity with data governance and compliance regulations (e.g., GDPR, HIPAA).\n",
       "4. Willingness to continuously learn and stay up-to-date with the latest advancements in machine learning.\n",
       "\n",
       "Keep in mind that specific requirements may vary depending on the company, industry, or job description."
      ],
      "text/plain": [
       "<IPython.core.display.Markdown object>"
      ]
     },
     "metadata": {},
     "output_type": "display_data"
    },
    {
     "name": "stdout",
     "output_type": "stream",
     "text": [
      "\n",
      "top_p = 100\n"
     ]
    },
    {
     "data": {
      "text/markdown": [
       "**Response:**\n",
       "Here are the key requirements for a Machine Learning Engineer position:\n",
       "\n",
       "**Education**\n",
       "\n",
       "* Bachelor's or Master's degree in Computer Science, Electrical Engineering, Mathematics, Statistics, or related fields.\n",
       "* Strong foundation in machine learning algorithms and statistical modeling.\n",
       "\n",
       "**Technical Skills**\n",
       "\n",
       "1. **Programming skills**: Proficiency in one or more programming languages such as Python, Java, C++, R, or MATLAB.\n",
       "2. **Machine Learning frameworks**: Familiarity with popular machine learning frameworks such as TensorFlow, PyTorch, Scikit-learn, Keras, etc.\n",
       "3. **Data structures and algorithms**: Knowledge of data structures (e.g., arrays, linked lists, trees) and algorithms (e.g., sorting, searching, clustering).\n",
       "4. **Mathematics**: Strong understanding of linear algebra, calculus, probability, and statistics.\n",
       "5. **Deep learning**: Familiarity with deep learning concepts such as neural networks, convolutional networks, recurrent networks, and autoencoders.\n",
       "6. ** Big Data processing**: Knowledge of big data processing frameworks such as Apache Spark, Hadoop, or AWS Glue.\n",
       "\n",
       "**Soft Skills**\n",
       "\n",
       "1. **Communication skills**: Ability to clearly explain complex technical concepts to both technical and non-technical stakeholders.\n",
       "2. **Collaboration skills**: Experience working in teams and collaborating with other engineers, data scientists, and stakeholders.\n",
       "3. **Problem-solving skills**: Strong analytical and problem-solving skills to design and develop effective machine learning solutions.\n",
       "4. **Adaptability**: Willingness to learn new technologies, frameworks, and tools as needed.\n",
       "\n",
       "**Experience**\n",
       "\n",
       "* Typically 2-5 years of experience in machine learning or a related field (e.g., data science, artificial intelligence).\n",
       "* Experience with specific industry domains such as computer vision, natural language processing, recommender systems, etc.\n",
       "* Familiarity with cloud platforms such as AWS, Azure, Google Cloud, or IBM Cloud.\n",
       "\n",
       "**Certifications**\n",
       "\n",
       "While not always required, certifications in machine learning or related fields (e.g., Certified Data Scientist by Data Science Council of America) can be beneficial for career advancement.\n",
       "\n",
       "Please note that these requirements may vary depending on the company, role, and industry."
      ],
      "text/plain": [
       "<IPython.core.display.Markdown object>"
      ]
     },
     "metadata": {},
     "output_type": "display_data"
    }
   ],
   "source": [
    "# Try different top_p values\n",
    "for value in [10, 40, 100]:\n",
    "    print(f\"\\ntop_p = {value}\")\n",
    "    response = query_model('''List the key requirements for a Machine Learning Engineer position.''', top_p=value)\n",
    "    display(Markdown(f\"**Response:**\\n{response}\"))"
   ]
  },
  {
   "cell_type": "markdown",
   "id": "aa024a94",
   "metadata": {},
   "source": [
    "## Top_K\n",
    "\n",
    "Understanding top_k in recruitment contexts:\n",
    "- How it affects output quality\n",
    "- Best practices for different tasks\n",
    "- Example scenarios and use cases"
   ]
  },
  {
   "cell_type": "markdown",
   "id": "9e8c64b4",
   "metadata": {},
   "source": [
    "### Technical Skills\n",
    "\n",
    "Testing top_k with this recruiting scenario:\n",
    "```\n",
    "Extract and categorize technical skills from this resume snippet: 'Developed ML models using TensorFlow, deployed on AWS, managed team of 5 engineers'.\n",
    "```"
   ]
  },
  {
   "cell_type": "code",
   "execution_count": 8,
   "id": "5073eaf0",
   "metadata": {},
   "outputs": [
    {
     "name": "stdout",
     "output_type": "stream",
     "text": [
      "\n",
      "top_k = 10\n"
     ]
    },
    {
     "data": {
      "text/markdown": [
       "**Response:**\n",
       "Here are the technical skills extracted from the resume snippet:\n",
       "\n",
       "**Machine Learning (ML)**\n",
       "\n",
       "* Model development\n",
       "* Framework: TensorFlow\n",
       "\n",
       "**Cloud Computing**\n",
       "\n",
       "* Platform: Amazon Web Services (AWS)\n",
       "* Deployment of ML models\n",
       "\n",
       "**Team Management**\n",
       "\n",
       "* Leadership: Managed a team of 5 engineers\n",
       "* Engineering team management experience\n",
       "\n",
       "These technical skills can be categorized into three groups:\n",
       "\n",
       "1. **Machine Learning**: This skill is related to the development and deployment of machine learning models.\n",
       "2. **Cloud Computing**: This skill is related to the use of cloud platforms, specifically AWS, for deploying ML models.\n",
       "3. **Team Management**: This skill is related to leading and managing a team of engineers.\n",
       "\n",
       "These categories can help highlight the candidate's expertise in specific areas and demonstrate their ability to lead projects and teams."
      ],
      "text/plain": [
       "<IPython.core.display.Markdown object>"
      ]
     },
     "metadata": {},
     "output_type": "display_data"
    },
    {
     "name": "stdout",
     "output_type": "stream",
     "text": [
      "\n",
      "top_k = 40\n"
     ]
    },
    {
     "data": {
      "text/markdown": [
       "**Response:**\n",
       "Here are the technical skills extracted from the resume snippet:\n",
       "\n",
       "**Machine Learning (ML) Skills**\n",
       "\n",
       "* Developed ML models\n",
       "* Used TensorFlow for ML model development\n",
       "\n",
       "**Cloud Computing Skills**\n",
       "\n",
       "* Deployed ML models on Amazon Web Services (AWS)\n",
       "\n",
       "**Team Management Skills**\n",
       "\n",
       "* Managed a team of 5 engineers\n",
       "\n",
       "**Other Technical Skills**\n",
       "\n",
       "* None explicitly mentioned, but it's implied that the candidate has experience working with software engineering teams and deploying models to production environments.\n",
       "\n",
       "Let me know if you'd like me to categorize these skills further or extract any other technical skills from the snippet!"
      ],
      "text/plain": [
       "<IPython.core.display.Markdown object>"
      ]
     },
     "metadata": {},
     "output_type": "display_data"
    },
    {
     "name": "stdout",
     "output_type": "stream",
     "text": [
      "\n",
      "top_k = 100\n"
     ]
    },
    {
     "data": {
      "text/markdown": [
       "**Response:**\n",
       "Here are the technical skills extracted from the resume snippet:\n",
       "\n",
       "**Machine Learning (ML) Skills**\n",
       "\n",
       "1. Model development\n",
       "2. TensorFlow (specifically mentioned)\n",
       "\n",
       "**Cloud Computing Skills**\n",
       "\n",
       "1. Deployment on Amazon Web Services (AWS)\n",
       "\n",
       "**Leadership and Management Skills**\n",
       "\n",
       "1. Team management\n",
       "2. Leadership\n",
       "\n",
       "**Software Development Skills**\n",
       "\n",
       "1. Engineering (not specific to a particular programming language or technology, but implies proficiency in writing code)\n",
       "\n",
       "These technical skills can be categorized into three main areas:\n",
       "\n",
       "1. **Machine Learning and Data Science**: TensorFlow model development\n",
       "2. **Cloud Computing**: Deployment on AWS\n",
       "3. **Leadership and Software Development**: Team management, engineering (writing code)"
      ],
      "text/plain": [
       "<IPython.core.display.Markdown object>"
      ]
     },
     "metadata": {},
     "output_type": "display_data"
    }
   ],
   "source": [
    "# Try different top_k values\n",
    "for value in [10, 40, 100]:\n",
    "    print(f\"\\ntop_k = {value}\")\n",
    "    response = query_model('''Extract and categorize technical skills from this resume snippet: 'Developed ML models using TensorFlow, deployed on AWS, managed team of 5 engineers'.''', top_k=value)\n",
    "    display(Markdown(f\"**Response:**\\n{response}\"))"
   ]
  },
  {
   "cell_type": "markdown",
   "id": "4b30a97f",
   "metadata": {},
   "source": [
    "### Job Categories\n",
    "\n",
    "Testing top_k with this recruiting scenario:\n",
    "```\n",
    "Classify this job posting into relevant categories: 'Senior ML Engineer with focus on NLP and large language models'.\n",
    "```"
   ]
  },
  {
   "cell_type": "code",
   "execution_count": 9,
   "id": "9dc8b119",
   "metadata": {},
   "outputs": [
    {
     "name": "stdout",
     "output_type": "stream",
     "text": [
      "\n",
      "top_k = 10\n"
     ]
    },
    {
     "data": {
      "text/markdown": [
       "**Response:**\n",
       "Here are the relevant categories for this job posting:\n",
       "\n",
       "1. **Job Title:** Senior Machine Learning (ML) Engineer\n",
       "2. **Industry:** Technology, AI/Artificial Intelligence\n",
       "3. **Specialization:** Natural Language Processing (NLP), Large Language Models\n",
       "4. **Level:** Senior (experience and expertise expected)\n",
       "5. **Skills:**\n",
       "\t* Machine Learning (ML)\n",
       "\t* Natural Language Processing (NLP)\n",
       "\t* Large Language Models\n",
       "6. **Function:** Engineering, Research and Development\n",
       "\n",
       "These categories should help recruiters, job boards, or anyone searching for relevant job postings to quickly identify the type of position being advertised."
      ],
      "text/plain": [
       "<IPython.core.display.Markdown object>"
      ]
     },
     "metadata": {},
     "output_type": "display_data"
    },
    {
     "name": "stdout",
     "output_type": "stream",
     "text": [
      "\n",
      "top_k = 40\n"
     ]
    },
    {
     "data": {
      "text/markdown": [
       "**Response:**\n",
       "Here are the relevant categories for this job posting:\n",
       "\n",
       "**Job Title:** Senior ML Engineer\n",
       "**Focus Areas:**\n",
       "\t+ Natural Language Processing (NLP)\n",
       "\t+ Large Language Models\n",
       "\n",
       "**Categories:**\n",
       "\n",
       "1. **Job Function:** Engineering, Technical\n",
       "2. **Industry/Domain:** Technology, Data Science, Artificial Intelligence\n",
       "3. **Specialization:** Machine Learning, NLP, Language Modeling\n",
       "4. **Level:** Senior, Experienced\n",
       "\n",
       "These categories help to quickly identify the job posting's relevance to certain fields or areas of expertise."
      ],
      "text/plain": [
       "<IPython.core.display.Markdown object>"
      ]
     },
     "metadata": {},
     "output_type": "display_data"
    },
    {
     "name": "stdout",
     "output_type": "stream",
     "text": [
      "\n",
      "top_k = 100\n"
     ]
    },
    {
     "data": {
      "text/markdown": [
       "**Response:**\n",
       "Here are the relevant categories for this job posting:\n",
       "\n",
       "1. **Job Title**: Senior Machine Learning Engineer\n",
       "2. **Industry/Field**: Artificial Intelligence (AI), Natural Language Processing (NLP)\n",
       "3. **Technology**: Machine Learning, Large Language Models\n",
       "4. **Skills Required**:\n",
       "\t* NLP\n",
       "\t* Large language models\n",
       "\t* Machine learning engineering\n",
       "5. **Level**: Senior (experienced professional with a high level of expertise)\n",
       "6. **Function**: Engineering/Development\n",
       "\n",
       "These categories help identify the job posting as a senior-level position in AI/NLP, requiring expertise in machine learning and large language models, with a focus on NLP applications."
      ],
      "text/plain": [
       "<IPython.core.display.Markdown object>"
      ]
     },
     "metadata": {},
     "output_type": "display_data"
    }
   ],
   "source": [
    "# Try different top_k values\n",
    "for value in [10, 40, 100]:\n",
    "    print(f\"\\ntop_k = {value}\")\n",
    "    response = query_model('''Classify this job posting into relevant categories: 'Senior ML Engineer with focus on NLP and large language models'.''', top_k=value)\n",
    "    display(Markdown(f\"**Response:**\\n{response}\"))"
   ]
  },
  {
   "cell_type": "markdown",
   "id": "c84dafdd",
   "metadata": {},
   "source": [
    "### Experience Level\n",
    "\n",
    "Testing top_k with this recruiting scenario:\n",
    "```\n",
    "Determine the experience level from: '7 years building production ML systems, leading teams of 3-8 engineers'.\n",
    "```"
   ]
  },
  {
   "cell_type": "code",
   "execution_count": 10,
   "id": "a326e0d1",
   "metadata": {},
   "outputs": [
    {
     "name": "stdout",
     "output_type": "stream",
     "text": [
      "\n",
      "top_k = 10\n"
     ]
    },
    {
     "data": {
      "text/markdown": [
       "**Response:**\n",
       "Based on the information provided, I would estimate the experience level as follows:\n",
       "\n",
       "* Years of experience: 7\n",
       "* Type of experience: Building production ML systems and leading teams of 3-8 engineers\n",
       "* Level of expertise: Senior or Principal-level (depending on the industry and company)\n",
       "\n",
       "Here's a breakdown of my reasoning:\n",
       "\n",
       "* \"Building production ML systems\" suggests that the individual has hands-on experience with designing, developing, testing, and deploying machine learning models in real-world scenarios. This implies a high level of technical expertise.\n",
       "* \"Leading teams of 3-8 engineers\" indicates that the individual has management or leadership responsibilities, which typically requires strong communication, organizational, and decision-making skills. This suggests a higher level of experience and maturity.\n",
       "\n",
       "In general, someone with this level of experience would likely be considered a Senior ML Engineer or a Principal Engineer in most companies. However, it's worth noting that experience levels can vary depending on the company, industry, and specific job roles."
      ],
      "text/plain": [
       "<IPython.core.display.Markdown object>"
      ]
     },
     "metadata": {},
     "output_type": "display_data"
    },
    {
     "name": "stdout",
     "output_type": "stream",
     "text": [
      "\n",
      "top_k = 40\n"
     ]
    },
    {
     "data": {
      "text/markdown": [
       "**Response:**\n",
       "Based on the information provided, I would determine the experience level to be:\n",
       "\n",
       "**Senior**\n",
       "\n",
       "Here's why:\n",
       "\n",
       "* The person has been building production ML systems for 7 years, which suggests a significant amount of hands-on experience with designing, developing, and deploying machine learning models.\n",
       "* They have led teams of 3-8 engineers, which implies that they have strong leadership skills and the ability to manage and guide other engineers. This level of team management is typically associated with more senior roles.\n",
       "* The fact that they have been leading teams for several years suggests a high level of technical maturity and expertise, as well as an understanding of how to effectively manage and motivate others.\n",
       "\n",
       "Overall, while the person may not have decades of experience in the field, their combination of hands-on experience building production ML systems and leadership responsibilities suggest a senior-level individual with a strong background in machine learning."
      ],
      "text/plain": [
       "<IPython.core.display.Markdown object>"
      ]
     },
     "metadata": {},
     "output_type": "display_data"
    },
    {
     "name": "stdout",
     "output_type": "stream",
     "text": [
      "\n",
      "top_k = 100\n"
     ]
    },
    {
     "data": {
      "text/markdown": [
       "**Response:**\n",
       "Based on the text, I would determine the experience level as:\n",
       "\n",
       "**Senior/Mature Professional**\n",
       "\n",
       "Reasoning:\n",
       "\n",
       "* The phrase \"leading teams\" implies that the person has significant leadership experience and is likely responsible for managing others.\n",
       "* The fact that they're leading teams of 3-8 engineers suggests that they have managed larger teams in the past, which indicates a higher level of seniority.\n",
       "* The mention of building production ML systems implies a high level of technical expertise and proficiency in applying machine learning techniques to real-world problems.\n",
       "* The duration of \"7 years\" building these systems is also significant, as it shows a long-term commitment to developing their skills and experience.\n",
       "\n",
       "Overall, I would categorize this individual as a senior/mature professional with extensive leadership and technical experience."
      ],
      "text/plain": [
       "<IPython.core.display.Markdown object>"
      ]
     },
     "metadata": {},
     "output_type": "display_data"
    }
   ],
   "source": [
    "# Try different top_k values\n",
    "for value in [10, 40, 100]:\n",
    "    print(f\"\\ntop_k = {value}\")\n",
    "    response = query_model('''Determine the experience level from: '7 years building production ML systems, leading teams of 3-8 engineers'.''', top_k=value)\n",
    "    display(Markdown(f\"**Response:**\\n{response}\"))"
   ]
  },
  {
   "cell_type": "markdown",
   "id": "a29e5e0c",
   "metadata": {},
   "source": [
    "## Max_Tokens\n",
    "\n",
    "Understanding max_tokens in recruitment contexts:\n",
    "- How it affects output quality\n",
    "- Best practices for different tasks\n",
    "- Example scenarios and use cases"
   ]
  },
  {
   "cell_type": "markdown",
   "id": "ef509928",
   "metadata": {},
   "source": [
    "### Short Summary\n",
    "\n",
    "Testing max_tokens with this recruiting scenario:\n",
    "```\n",
    "Create a one-sentence summary of this job posting: 'We're seeking a Senior ML Engineer to lead our NLP team, focusing on large language model development and deployment. The ideal candidate has 5+ years of experience in Python, deep learning frameworks, and production ML systems.'\n",
    "```"
   ]
  },
  {
   "cell_type": "code",
   "execution_count": 11,
   "id": "80f97358",
   "metadata": {},
   "outputs": [
    {
     "name": "stdout",
     "output_type": "stream",
     "text": [
      "\n",
      "max_tokens = 50\n"
     ]
    },
    {
     "data": {
      "text/markdown": [
       "**Response:**\n",
       "Here is a one-sentence summary of the job posting:\n",
       "\n",
       "The company is looking for a Senior Machine Learning Engineer with at least 5 years of experience to lead their NLP team and develop and deploy large language models using Python and deep learning frameworks."
      ],
      "text/plain": [
       "<IPython.core.display.Markdown object>"
      ]
     },
     "metadata": {},
     "output_type": "display_data"
    },
    {
     "name": "stdout",
     "output_type": "stream",
     "text": [
      "\n",
      "max_tokens = 150\n"
     ]
    },
    {
     "data": {
      "text/markdown": [
       "**Response:**\n",
       "Here is a one-sentence summary of the job posting:\n",
       "\n",
       "The company is looking for a Senior Machine Learning Engineer with 5+ years of experience to lead their NLP team and develop large language models for deployment."
      ],
      "text/plain": [
       "<IPython.core.display.Markdown object>"
      ]
     },
     "metadata": {},
     "output_type": "display_data"
    },
    {
     "name": "stdout",
     "output_type": "stream",
     "text": [
      "\n",
      "max_tokens = 300\n"
     ]
    },
    {
     "data": {
      "text/markdown": [
       "**Response:**\n",
       "Here is a one-sentence summary of the job posting:\n",
       "\n",
       "The company seeks a Senior Machine Learning (ML) Engineer to lead their NLP team and develop and deploy large language models using Python, deep learning frameworks, and production ML systems."
      ],
      "text/plain": [
       "<IPython.core.display.Markdown object>"
      ]
     },
     "metadata": {},
     "output_type": "display_data"
    }
   ],
   "source": [
    "# Try different max_tokens values\n",
    "for value in [50, 150, 300]:\n",
    "    print(f\"\\nmax_tokens = {value}\")\n",
    "    response = query_model('''Create a one-sentence summary of this job posting: 'We're seeking a Senior ML Engineer to lead our NLP team, focusing on large language model development and deployment. The ideal candidate has 5+ years of experience in Python, deep learning frameworks, and production ML systems.''', max_tokens=value)\n",
    "    display(Markdown(f\"**Response:**\\n{response}\"))"
   ]
  },
  {
   "cell_type": "markdown",
   "id": "f22ff62c",
   "metadata": {},
   "source": [
    "### Detailed Analysis\n",
    "\n",
    "Testing max_tokens with this recruiting scenario:\n",
    "```\n",
    "Provide a detailed analysis of this candidate's qualifications: 'ML Engineer with 6 years experience in Python, TensorFlow, and AWS. Led team of 5 engineers, deployed 10+ ML models to production. PhD in Computer Science with focus on NLP.'\n",
    "```"
   ]
  },
  {
   "cell_type": "code",
   "execution_count": 13,
   "id": "e92358b5",
   "metadata": {},
   "outputs": [
    {
     "name": "stdout",
     "output_type": "stream",
     "text": [
      "\n",
      "max_tokens = 50\n"
     ]
    },
    {
     "data": {
      "text/markdown": [
       "**Response:**\n",
       "Here is a detailed analysis of the candidate's qualifications:\n",
       "\n",
       "**Education**\n",
       "\n",
       "* **PhD in Computer Science**: This is an impressive academic credential that demonstrates the candidate's depth of knowledge in computer science and machine learning. The fact that their PhD focused on"
      ],
      "text/plain": [
       "<IPython.core.display.Markdown object>"
      ]
     },
     "metadata": {},
     "output_type": "display_data"
    },
    {
     "name": "stdout",
     "output_type": "stream",
     "text": [
      "\n",
      "max_tokens = 150\n"
     ]
    },
    {
     "data": {
      "text/markdown": [
       "**Response:**\n",
       "What a stellar candidate! Let's dive into the details:\n",
       "\n",
       "**Experience (6 years)**:\n",
       "A significant amount of time spent honing skills in Python, TensorFlow, and AWS is impressive. This indicates a deep understanding of these technologies and the ability to adapt to new tools and frameworks.\n",
       "\n",
       "**Team Leadership (5 engineers)**:\n",
       "The candidate has demonstrated leadership skills by leading a team of 5 engineers. This experience will be valuable in managing a team, prioritizing tasks, and ensuring project success.\n",
       "\n",
       "**Deployments (10+ ML models to production)**:\n",
       "This is an impressive statistic! It shows that the candidate has successfully deployed multiple machine learning models into production environments, likely with varying levels of complexity. This expertise will be essential for developing and maintaining large"
      ],
      "text/plain": [
       "<IPython.core.display.Markdown object>"
      ]
     },
     "metadata": {},
     "output_type": "display_data"
    },
    {
     "name": "stdout",
     "output_type": "stream",
     "text": [
      "\n",
      "max_tokens = 300\n"
     ]
    },
    {
     "data": {
      "text/markdown": [
       "**Response:**\n",
       "What a impressive set of qualifications! Let's dive into the details:\n",
       "\n",
       "**Education:**\n",
       "\n",
       "* **PhD in Computer Science with focus on NLP**: This is an outstanding foundation for any machine learning (ML) role. The fact that it's focused on Natural Language Processing (NLP) suggests that this candidate has a deep understanding of the theoretical aspects of ML, particularly when it comes to processing and analyzing text data.\n",
       "\n",
       "**Professional Experience:**\n",
       "\n",
       "* **6 years experience in Python, TensorFlow, and AWS**: This candidate has substantial hands-on experience with some of the most popular tools in the ML community. The fact that they've spent 6 years honing their skills in these areas speaks volumes about their ability to learn, adapt, and apply what they know.\n",
       "\n",
       "**Leadership Experience:**\n",
       "\n",
       "* **Led team of 5 engineers**: This is an impressive achievement, especially considering the candidate's relatively young age (assuming they completed their PhD in their mid-to-late 20s). Leading a team implies strong organizational, communication, and project management skills. The fact that this candidate was able to lead a team of experienced engineers suggests they have excellent leadership abilities.\n",
       "\n",
       "**Technical Achievements:**\n",
       "\n",
       "* **Deployed 10+ ML models to production**: This is an impressive technical achievement, demonstrating the candidate's ability to design, develop, test, and deploy complex ML models in a production environment. The fact that they've deployed over 10 models suggests a high level of efficiency and effectiveness in"
      ],
      "text/plain": [
       "<IPython.core.display.Markdown object>"
      ]
     },
     "metadata": {},
     "output_type": "display_data"
    }
   ],
   "source": [
    "# Try different max_tokens values\n",
    "for value in [50, 150, 300]:\n",
    "    print(f\"\\nmax_tokens = {value}\")\n",
    "    response = query_model('''Provide a detailed analysis of this candidate's qualifications: 'ML Engineer with 6 years experience in Python, TensorFlow, and AWS. Led team of 5 engineers, deployed 10+ ML models to production. PhD in Computer Science with focus on NLP.''', num_predict=value)\n",
    "    display(Markdown(f\"**Response:**\\n{response}\"))"
   ]
  },
  {
   "cell_type": "markdown",
   "id": "c59b0cd4",
   "metadata": {},
   "source": [
    "### Company Overview\n",
    "\n",
    "Testing max_tokens with this recruiting scenario:\n",
    "```\n",
    "Generate a company overview of varying lengths for an AI startup specializing in recruitment technology.\n",
    "```"
   ]
  },
  {
   "cell_type": "code",
   "execution_count": 14,
   "id": "27de7788",
   "metadata": {},
   "outputs": [
    {
     "name": "stdout",
     "output_type": "stream",
     "text": [
      "\n",
      "max_tokens = 50\n"
     ]
    },
    {
     "data": {
      "text/markdown": [
       "**Response:**\n",
       "Here are three different company overviews for an AI-powered recruitment technology startup:\n",
       "\n",
       "**Short and Sweet (approx. 50 words)**\n",
       "\n",
       "Introducing [Company Name], the AI-driven recruitment platform revolutionizing the way companies find top talent. Our cutting-edge"
      ],
      "text/plain": [
       "<IPython.core.display.Markdown object>"
      ]
     },
     "metadata": {},
     "output_type": "display_data"
    },
    {
     "name": "stdout",
     "output_type": "stream",
     "text": [
      "\n",
      "max_tokens = 150\n"
     ]
    },
    {
     "data": {
      "text/markdown": [
       "**Response:**\n",
       "Here are three company overviews of varying lengths for an AI-powered recruitment technology startup:\n",
       "\n",
       "**Short Version (150 words)**\n",
       "\n",
       "Introducing [Company Name], the innovative recruitment technology firm revolutionizing the way companies find and hire top talent. Our cutting-edge AI-powered platform uses machine learning algorithms to analyze vast amounts of job market data, candidate profiles, and company requirements. This enables us to provide highly accurate matches between job openings and ideal candidates, streamlining the recruitment process for our clients.\n",
       "\n",
       "With [Company Name], you can say goodbye to tedious job boards and hello to a more efficient, data-driven approach to hiring. Our platform not only reduces time-to-hire but also helps companies make better-informed decisions about their recruitment strategies. Join the future of"
      ],
      "text/plain": [
       "<IPython.core.display.Markdown object>"
      ]
     },
     "metadata": {},
     "output_type": "display_data"
    },
    {
     "name": "stdout",
     "output_type": "stream",
     "text": [
      "\n",
      "max_tokens = 300\n"
     ]
    },
    {
     "data": {
      "text/markdown": [
       "**Response:**\n",
       "Here are three different company overviews for an AI startup specializing in recruitment technology:\n",
       "\n",
       "**Short Version (100-150 words)**\n",
       "\n",
       "Introducing RecruitAI, the innovative recruitment technology startup revolutionizing the way companies find and hire top talent. Our AI-powered platform uses machine learning algorithms to analyze job requirements, candidate profiles, and market trends to identify the best fit for any role. With RecruitAI, recruiters can streamline their process, reduce costs, and make more informed hiring decisions. Our solution is designed to integrate seamlessly with existing HR systems and provides real-time analytics to optimize recruitment strategies. Join us in shaping the future of talent acquisition!\n",
       "\n",
       "**Medium Version (250-350 words)**\n",
       "\n",
       "At RecruitAI, we're passionate about using artificial intelligence to transform the recruitment industry. Our cutting-edge platform leverages machine learning to analyze vast amounts of job posting data, candidate profiles, and market trends, providing unparalleled insights for recruiters. With RecruitAI, hiring managers can effortlessly find the perfect candidate for any role, from entry-level positions to executive leadership roles. Our solution is designed to be user-friendly, efficient, and cost-effective, helping organizations save time, money, and resources. Whether you're a small startup or a large enterprise, our platform helps you make data-driven decisions that drive business results.\n",
       "\n",
       "**Long Version (500-750 words)**\n",
       "\n",
       "Welcome to RecruitAI, the pioneering AI recruitment technology company dedicated to revolutionizing the way companies find and hire top talent. Our mission is to"
      ],
      "text/plain": [
       "<IPython.core.display.Markdown object>"
      ]
     },
     "metadata": {},
     "output_type": "display_data"
    }
   ],
   "source": [
    "# Try different max_tokens values\n",
    "for value in [50, 150, 300]:\n",
    "    print(f\"\\nmax_tokens = {value}\")\n",
    "    response = query_model('''Generate a company overview of varying lengths for an AI startup specializing in recruitment technology.''', num_predict=value)\n",
    "    display(Markdown(f\"**Response:**\\n{response}\"))"
   ]
  },
  {
   "cell_type": "markdown",
   "id": "c9822717",
   "metadata": {},
   "source": [
    "## Best Practices Summary\n",
    "\n",
    "When working with basic parameters in recruitment:\n",
    "\n",
    "1. Temperature (Creativity vs. Consistency)\n",
    "   - Lower (0.1-0.3): Job requirement lists, skill matching\n",
    "   - Medium (0.4-0.6): Job descriptions, company overviews\n",
    "   - Higher (0.7-0.9): Creative job titles, culture descriptions\n",
    "\n",
    "2. Top-p (Nucleus Sampling)\n",
    "   - Lower (0.1-0.3): Strict skill matching, technical requirements\n",
    "   - Medium (0.4-0.6): General job descriptions\n",
    "   - Higher (0.7-0.9): Diverse candidate suggestions\n",
    "\n",
    "3. Top-k\n",
    "   - Lower (10-20): Specific technical skills\n",
    "   - Medium (30-50): General job requirements\n",
    "   - Higher (50-100): Broad role descriptions\n",
    "\n",
    "4. Max Tokens\n",
    "   - Short (50-100): Job titles, quick summaries\n",
    "   - Medium (150-300): Job descriptions, candidate profiles\n",
    "   - Long (300+): Detailed analysis, full job postings"
   ]
  }
 ],
 "metadata": {
  "kernelspec": {
   "display_name": "base",
   "language": "python",
   "name": "python3"
  },
  "language_info": {
   "codemirror_mode": {
    "name": "ipython",
    "version": 3
   },
   "file_extension": ".py",
   "mimetype": "text/x-python",
   "name": "python",
   "nbconvert_exporter": "python",
   "pygments_lexer": "ipython3",
   "version": "3.9.12"
  }
 },
 "nbformat": 4,
 "nbformat_minor": 5
}
