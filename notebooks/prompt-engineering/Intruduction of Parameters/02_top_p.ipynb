{
 "cells": [
  {
   "cell_type": "markdown",
   "id": "0adf87eb",
   "metadata": {},
   "source": [
    "# Top-p (Nucleus Sampling) Parameter in LLMs\n",
    "\n",
    "## Introduction\n",
    "Top-p, also known as nucleus sampling, is a text generation parameter that helps control the randomness of the model's output by considering only the most likely tokens whose cumulative probability exceeds the specified top-p value.\n",
    "\n",
    "- **Top-p = 0.1**: Very focused, considers only the most probable tokens\n",
    "- **Top-p = 0.5**: Balanced, considers moderately probable tokens\n",
    "- **Top-p = 1.0**: Considers all possible tokens\n",
    "\n",
    "Unlike temperature, which scales probabilities, top-p truncates the probability distribution to only include the most likely tokens up to the cumulative probability threshold."
   ]
  },
  {
   "cell_type": "code",
   "execution_count": 1,
   "id": "82c40a9f",
   "metadata": {},
   "outputs": [],
   "source": [
    "import json\n",
    "from subprocess import Popen, PIPE\n",
    "\n",
    "def query_ollama(prompt, top_p=0.9):\n",
    "    \"\"\"Query Ollama with a specific top_p setting\"\"\"\n",
    "    cmd = [\n",
    "        \"curl\",\n",
    "        \"http://localhost:11434/api/generate\",\n",
    "        \"-d\",\n",
    "        json.dumps({\n",
    "            \"model\": \"llama3\",\n",
    "            \"prompt\": prompt,\n",
    "            \"options\": { \"top_p\": top_p }\n",
    "        })\n",
    "    ]\n",
    "\n",
    "    process = Popen(cmd, stdout=PIPE, stderr=PIPE)\n",
    "    output, _ = process.communicate()\n",
    "\n",
    "    responses = [json.loads(line) for line in output.decode().strip().split(\"\\n\")]\n",
    "    return \"\".join(r.get(\"response\", \"\") for r in responses)"
   ]
  },
  {
   "cell_type": "markdown",
   "id": "f07363f1",
   "metadata": {},
   "source": [
    "## Examples\n",
    "\n",
    "Let's explore how different top-p values affect the model's output. We'll use a creative writing prompt and observe the differences in token selection."
   ]
  },
  {
   "cell_type": "code",
   "execution_count": 2,
   "id": "47be9e18",
   "metadata": {},
   "outputs": [
    {
     "name": "stdout",
     "output_type": "stream",
     "text": [
      "Top-p = 0.1 (Very focused)\n",
      "The mystical allure of a magical crystal ball! Here are three possible uses:\n",
      "\n",
      "1. **Divination and Scrying**: The most obvious use for a magical crystal ball is as a tool for divination and scrying. Gaze into the ball to gain insight into future events, reveal hidden truths, or uncover secrets. With the crystal's guidance, you might receive visions, impressions, or intuitive nudges that help you make informed decisions.\n",
      "2. **Spellcasting Focus**: A magical crystal ball can serve as a powerful focus for spellcasting. By concentrating your intentions and energy into the ball, you can amplify the effects of your spells, channeling your magic more efficiently. The crystal's resonance might also help you connect with other forms of mystical energy, such as ley lines or celestial influences.\n",
      "3. **Portal to Other Realms**: In some traditions, a magical crystal ball is said to be a gateway to other realms, dimensions, or planes of existence. By gazing into the ball and focusing your will, you might be able to access other realities, communicate with beings from those realms, or even travel between them. This use would require great care and respect for the boundaries between worlds.\n",
      "\n",
      "Remember that these are just a few examples of the many possible uses for a magical crystal ball. The true potential of such an artifact is limited only by your imagination and the depths of your own magical understanding.\n",
      "\n",
      "Top-p = 0.5 (Balanced)\n",
      "The mystical allure of a magical crystal ball! Here are three possible uses:\n",
      "\n",
      "1. **Divination and Fortune Telling**: The crystal ball can be used as a tool for predicting the future, revealing hidden truths, or gaining insight into the thoughts and intentions of others. A skilled user can gaze into the ball to see visions of upcoming events, receive guidance on important decisions, or uncover secrets that may be concealed from them.\n",
      "2. **Healing and Energy Work**: The crystal ball can be used as a focal point for channeling and manipulating energy. For example, a healer might use the ball to amplify their own magical abilities, detect imbalances in a patient's energy, or even transmute negative energies into positive ones. The ball could also serve as a conduit for guiding healing energies from other realms or dimensions.\n",
      "3. **Scrying and Portal Travel**: With the right intentions and knowledge, the crystal ball can be used to access other realms, dimensions, or timelines. A skilled user might gaze into the ball to scry out specific locations, people, or events in order to communicate with them or travel to those places. This could involve creating temporary portals or doorways through which the user could pass, allowing them to explore new territories or seek guidance from other realms.\n",
      "\n",
      "These are just a few examples of the many possible uses for a magical crystal ball. The possibilities are limited only by the user's imagination and skill!\n",
      "\n",
      "Top-p = 0.9 (More diverse)\n",
      "The mystical allure of the magical crystal ball! Here are three possible uses for it:\n",
      "\n",
      "1. **Divination and Fortune Telling**: The crystal ball can be used as a tool for gaining insight into the future, revealing hidden truths, or deciphering mysterious circumstances. By gazing into its depths, a seer or mystic could uncover answers to questions, predict outcomes, or gain wisdom about the workings of the universe.\n",
      "2. **Scrying and Investigation**: The crystal ball can serve as a focal point for psychic investigation, allowing the user to tap into their intuition and explore mysteries that might be difficult to uncover through ordinary means. By concentrating on the crystal ball, an investigator could gather information about hidden objects, people, or events, potentially solving crimes or unraveling enigmas.\n",
      "3. **Energy Healing and Channeling**: The magical crystal ball can be used as a conduit for channeling and manipulating various forms of energy. It might amplify the user's intentions, allowing them to focus their willpower and manifest changes in themselves, others, or their surroundings. Alternatively, it could be employed to heal emotional wounds, balance chakras, or even purify and protect against negative energies.\n",
      "\n",
      "These are just a few examples of the many possible uses for a magical crystal ball. The true potential of such an object would depend on the creativity, intent, and abilities of its user.\n"
     ]
    }
   ],
   "source": [
    "creative_prompt = \"List three possible uses for a magical crystal ball.\"\n",
    "\n",
    "print(\"Top-p = 0.1 (Very focused)\")\n",
    "print(query_ollama(creative_prompt, top_p=0.1))\n",
    "print(\"\\nTop-p = 0.5 (Balanced)\")\n",
    "print(query_ollama(creative_prompt, top_p=0.5))\n",
    "print(\"\\nTop-p = 0.9 (More diverse)\")\n",
    "print(query_ollama(creative_prompt, top_p=0.9))"
   ]
  },
  {
   "cell_type": "markdown",
   "id": "2d92f1e4",
   "metadata": {},
   "source": [
    "## Best Practices\n",
    "\n",
    "Choose top-p based on your use case:\n",
    "\n",
    "1. **Low Top-p (0.1 - 0.3)**\n",
    "   - Technical writing\n",
    "   - Factual responses\n",
    "   - When precision is crucial\n",
    "\n",
    "2. **Medium Top-p (0.4 - 0.7)**\n",
    "   - General conversation\n",
    "   - Content generation\n",
    "   - Balanced creativity and coherence\n",
    "\n",
    "3. **High Top-p (0.8 - 1.0)**\n",
    "   - Creative writing\n",
    "   - Brainstorming\n",
    "   - When diversity is important\n",
    "\n",
    "**Tips:**\n",
    "- Top-p can be used alongside temperature for fine-tuned control\n",
    "- Start with top-p = 0.9 for general use cases\n",
    "- Lower values create more predictable but potentially repetitive text\n",
    "- Higher values allow for more creative but potentially less focused outputs"
   ]
  }
 ],
 "metadata": {
  "kernelspec": {
   "display_name": "base",
   "language": "python",
   "name": "python3"
  },
  "language_info": {
   "codemirror_mode": {
    "name": "ipython",
    "version": 3
   },
   "file_extension": ".py",
   "mimetype": "text/x-python",
   "name": "python",
   "nbconvert_exporter": "python",
   "pygments_lexer": "ipython3",
   "version": "3.9.12"
  }
 },
 "nbformat": 4,
 "nbformat_minor": 5
}
