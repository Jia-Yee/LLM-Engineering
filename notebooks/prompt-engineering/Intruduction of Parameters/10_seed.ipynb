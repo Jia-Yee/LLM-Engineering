{
 "cells": [
  {
   "cell_type": "markdown",
   "id": "4e50d8a8",
   "metadata": {},
   "source": [
    "# Seed Parameter in LLMs\n",
    "\n",
    "## Introduction\n",
    "The seed parameter is a crucial tool for achieving reproducibility in LLM outputs. It controls the randomness in the model's generation process, allowing you to get consistent results across multiple runs with the same input.\n",
    "\n",
    "Key aspects:\n",
    "- **Determinism**: Same seed + same prompt = same output\n",
    "- **Testing**: Essential for debugging and validation\n",
    "- **Experimentation**: Enables controlled comparisons\n",
    "- **Quality Assurance**: Helps in maintaining output consistency\n",
    "\n",
    "Understanding seed management is important for:\n",
    "- Debugging model behavior\n",
    "- Scientific experiments\n",
    "- Quality assurance testing\n",
    "- Production deployments requiring consistency"
   ]
  },
  {
   "cell_type": "code",
   "execution_count": null,
   "id": "7e507e6e",
   "metadata": {},
   "outputs": [],
   "source": [
    "import json\n",
    "from subprocess import Popen, PIPE\n",
    "\n",
    "def query_ollama(prompt, seed=None):\n",
    "    \"\"\"Query Ollama with a specific seed\"\"\"\n",
    "    payload = {\n",
    "        \"model\": \"llama3\",\n",
    "        \"prompt\": prompt\n",
    "    }\n",
    "    if seed is not None:\n",
    "        payload[\"seed\"] = seed\n",
    "\n",
    "    cmd = [\n",
    "        \"curl\",\n",
    "        \"http://localhost:11434/api/generate\",\n",
    "        \"-d\",\n",
    "        json.dumps(payload)\n",
    "    ]\n",
    "\n",
    "    process = Popen(cmd, stdout=PIPE, stderr=PIPE)\n",
    "    output, _ = process.communicate()\n",
    "\n",
    "    responses = [json.loads(line) for line in output.decode().strip().split(\"\\n\")]\n",
    "    return \"\".join(r.get(\"response\", \"\") for r in responses)"
   ]
  },
  {
   "cell_type": "markdown",
   "id": "fbf3b402",
   "metadata": {},
   "source": [
    "## Examples\n",
    "\n",
    "Let's explore how seeds affect model outputs by running the same prompt multiple times with different seed configurations."
   ]
  },
  {
   "cell_type": "code",
   "execution_count": null,
   "id": "18b96e53",
   "metadata": {},
   "outputs": [],
   "source": [
    "prompt = \"Write a short story about a robot learning to paint.\"\n",
    "\n",
    "# No seed (random outputs)\n",
    "print(\"Without seed (Run 1):\")\n",
    "print(query_ollama(prompt))\n",
    "print(\"\\nWithout seed (Run 2):\")\n",
    "print(query_ollama(prompt))\n",
    "\n",
    "# Fixed seed (consistent outputs)\n",
    "seed_value = 42\n",
    "print(f\"\\nWith seed {seed_value} (Run 1):\")\n",
    "print(query_ollama(prompt, seed_value))\n",
    "print(f\"\\nWith seed {seed_value} (Run 2):\")\n",
    "print(query_ollama(prompt, seed_value))\n",
    "\n",
    "# Different seed value\n",
    "different_seed = 123\n",
    "print(f\"\\nWith different seed {different_seed}:\")\n",
    "print(query_ollama(prompt, different_seed))"
   ]
  },
  {
   "cell_type": "markdown",
   "id": "74a1f68a",
   "metadata": {},
   "source": [
    "## Testing Reproducibility\n",
    "\n",
    "Let's demonstrate how seeds can be used for testing and debugging by comparing outputs across different prompts and configurations."
   ]
  },
  {
   "cell_type": "code",
   "execution_count": null,
   "id": "ea85bda3",
   "metadata": {},
   "outputs": [],
   "source": [
    "# Test different prompts with same seed\n",
    "test_seed = 42\n",
    "prompts = [\n",
    "    \"Explain quantum computing\",\n",
    "    \"Write a haiku about spring\",\n",
    "    \"Describe a sunset\"\n",
    "]\n",
    "\n",
    "for prompt in prompts:\n",
    "    print(f\"Prompt: {prompt}\")\n",
    "    print(\"First run:\")\n",
    "    print(query_ollama(prompt, test_seed))\n",
    "    print(\"\\nSecond run (should be identical):\")\n",
    "    print(query_ollama(prompt, test_seed))\n",
    "    print(\"\\n\" + \"-\"*50 + \"\\n\")"
   ]
  },
  {
   "cell_type": "markdown",
   "id": "672f1d59",
   "metadata": {},
   "source": [
    "## Best Practices\n",
    "\n",
    "1. **Development and Testing**\n",
    "   - Use fixed seeds during development\n",
    "   - Document seed values in test cases\n",
    "   - Verify reproducibility across environments\n",
    "\n",
    "2. **Production Deployment**\n",
    "   - Consider when to use fixed seeds\n",
    "   - Balance consistency vs. diversity\n",
    "   - Implement seed management strategy\n",
    "\n",
    "3. **Experimentation**\n",
    "   - Use seeds for A/B testing\n",
    "   - Control for randomness in experiments\n",
    "   - Document seed values for reproducibility\n",
    "\n",
    "**Tips:**\n",
    "- Always log seed values used in production\n",
    "- Use different seeds for different use cases\n",
    "- Consider seed ranges for controlled variation\n",
    "- Document seed-dependent behaviors\n",
    "- Test with multiple seed values\n",
    "- Include seed management in monitoring"
   ]
  }
 ],
 "metadata": {
  "language_info": {
   "name": "python"
  }
 },
 "nbformat": 4,
 "nbformat_minor": 5
}
