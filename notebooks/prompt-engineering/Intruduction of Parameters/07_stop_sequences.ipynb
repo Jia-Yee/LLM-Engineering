{
 "cells": [
  {
   "cell_type": "markdown",
   "id": "dba5764a",
   "metadata": {},
   "source": [
    "# Stop Sequences Parameter in LLMs\n",
    "\n",
    "## Introduction\n",
    "Stop sequences are specific strings that tell the model when to stop generating text. They act as termination signals, allowing fine-grained control over where the model's output should end.\n",
    "\n",
    "Key aspects:\n",
    "- **Format**: Can be single characters, words, or phrases\n",
    "- **Multiple stops**: Can specify multiple stop sequences\n",
    "- **Case sensitivity**: Usually case-sensitive\n",
    "- **Whitespace**: Handling depends on implementation\n",
    "\n",
    "Understanding stop sequences is crucial for:\n",
    "- Controlling output boundaries\n",
    "- Maintaining format consistency\n",
    "- Implementing structured outputs"
   ]
  },
  {
   "cell_type": "code",
   "execution_count": 4,
   "id": "ee7848c9",
   "metadata": {},
   "outputs": [],
   "source": [
    "import json\n",
    "from subprocess import Popen, PIPE\n",
    "\n",
    "def query_ollama(prompt, stop=None):\n",
    "    \"\"\"Query Ollama with specific stop sequences\"\"\"\n",
    "    cmd = [\n",
    "        \"curl\",\n",
    "        \"http://localhost:11434/api/generate\",\n",
    "        \"-d\",\n",
    "        json.dumps({\n",
    "            \"model\": \"llama3\",\n",
    "            \"prompt\": prompt,\n",
    "            \"stop\": stop if stop else []\n",
    "        })\n",
    "    ]\n",
    "\n",
    "    process = Popen(cmd, stdout=PIPE, stderr=PIPE)\n",
    "    output, _ = process.communicate()\n",
    "\n",
    "    responses = [json.loads(line) for line in output.decode().strip().split(\"\\n\")]\n",
    "    return \"\".join(r.get(\"response\", \"\") for r in responses)"
   ]
  },
  {
   "cell_type": "markdown",
   "id": "7eee71f5",
   "metadata": {},
   "source": [
    "## Examples\n",
    "\n",
    "Let's explore how different stop sequences affect the model's output. We'll use various prompts and stop sequences to demonstrate their impact."
   ]
  },
  {
   "cell_type": "code",
   "execution_count": 5,
   "id": "aa8e5b00",
   "metadata": {},
   "outputs": [
    {
     "name": "stdout",
     "output_type": "stream",
     "text": [
      "No stop sequence:\n",
      "Sure! Here are the first 5 planets from the Sun, listed in order of their distance from the Sun:\n",
      "\n",
      "1. Mercury\n",
      "2. Venus\n",
      "3. Earth\n",
      "4. Mars\n",
      "5. Jupiter\n",
      "\n",
      "Stop at newline ('\n",
      "'):\n",
      "Sure! Here are the first 5 planets from the Sun, in order:\n",
      "\n",
      "1. Mercury\n",
      "2. Venus\n",
      "3. Earth\n",
      "4. Mars\n",
      "5. Jupiter\n",
      "\n",
      "Stop at number ('4.'):\n",
      "Of course! Here are the first 5 planets from the Sun, listed in order:\n",
      "\n",
      "1. Mercury\n",
      "2. Venus\n",
      "3. Earth\n",
      "4. Mars\n",
      "5. Jupiter\n"
     ]
    }
   ],
   "source": [
    "list_prompt = \"List the first 5 planets from the sun:\\n1. Mercury\\n2. Venus\\n3.\"\n",
    "\n",
    "print(\"No stop sequence:\")\n",
    "print(query_ollama(list_prompt))\n",
    "print(\"\\nStop at newline ('\\n'):\")\n",
    "print(query_ollama(list_prompt, stop=[\"\\n\"]))\n",
    "print(\"\\nStop at number ('4.'):\")\n",
    "print(query_ollama(list_prompt, stop=[\"4.\"]))"
   ]
  },
  {
   "cell_type": "code",
   "execution_count": 3,
   "id": "581c87e9",
   "metadata": {},
   "outputs": [
    {
     "name": "stdout",
     "output_type": "stream",
     "text": [
      "Stop at next question ('Q:'):\n",
      "**Machine Learning (ML) is a subfield of artificial intelligence that involves training algorithms to learn from data and make predictions, decisions, or classifications without being explicitly programmed.**\n",
      "\n",
      "In other words, ML enables computers to improve their performance on a task over time by analyzing data and identifying patterns, relationships, or anomalies. This self-improvement process occurs through iterations of training, validation, and testing, where the algorithm adjusts its parameters to minimize errors and maximize accuracy.\n",
      "\n",
      "Machine learning has many applications across various domains, such as:\n",
      "\n",
      "1. **Computer Vision**: Image recognition, object detection, facial recognition.\n",
      "2. **Natural Language Processing (NLP)**: Text classification, sentiment analysis, language translation.\n",
      "3. **Speech Recognition**: Voice commands, speech-to-text systems.\n",
      "4. **Predictive Modeling**: Forecasting stock prices, predicting customer behavior, optimizing energy consumption.\n",
      "5. **Game Playing**: Playing chess, Go, or video games at a human level.\n",
      "\n",
      "Some key concepts in machine learning include:\n",
      "\n",
      "* **Supervised Learning**: Training an algorithm on labeled data to predict specific outputs.\n",
      "* **Unsupervised Learning**: Finding patterns in unlabeled data to group similar instances together.\n",
      "* **Reinforcement Learning**: Training an algorithm through trial-and-error interactions with an environment.\n",
      "* **Deep Learning**: Using neural networks with multiple layers to analyze complex data.\n",
      "\n",
      "Machine learning has revolutionized many areas of life, from customer service chatbots to self-driving cars. Its potential for innovation and problem-solving is vast!\n",
      "\n",
      "Stop at multiple sequences ('Q:' or '\n",
      "'):\n",
      "**Machine Learning (ML) is a subset of Artificial Intelligence (AI) that involves training algorithms to make predictions, classify data, or make decisions based on patterns in large datasets.**\n",
      "\n",
      "In other words, machine learning enables computers to learn from experience and improve their performance over time without being explicitly programmed for each task.\n",
      "\n",
      "Here's how it works:\n",
      "\n",
      "1. **Training**: You provide a dataset (e.g., images, text, audio) and an algorithm (e.g., neural network, decision tree).\n",
      "2. The algorithm analyzes the data and identifies patterns or relationships.\n",
      "3. Based on these patterns, the algorithm makes predictions or takes actions (e.g., classifying an image as a cat or dog).\n",
      "4. As the algorithm receives feedback (e.g., correct/incorrect), it adjusts its behavior to improve performance.\n",
      "\n",
      "Machine learning has many applications, including:\n",
      "\n",
      "* Image recognition and classification\n",
      "* Natural Language Processing (NLP) for text analysis and sentiment detection\n",
      "* Predictive modeling for forecasting and decision-making\n",
      "* Game playing and strategy development\n",
      "* Autonomous vehicles and robotics\n",
      "\n",
      "By automating the learning process, machine learning enables computers to:\n",
      "\n",
      "1. Improve performance over time\n",
      "2. Adapt to new data and situations\n",
      "3. Make decisions with minimal human intervention\n",
      "\n",
      "In summary, machine learning is a powerful technology that enables computers to learn from experience and make informed decisions, revolutionizing various industries and aspects of our lives!\n"
     ]
    }
   ],
   "source": [
    "qa_prompt = \"Q: What is machine learning?\\nA: \"\n",
    "\n",
    "print(\"Stop at next question ('Q:'):\")\n",
    "print(query_ollama(qa_prompt, stop=[\"Q:\"]))\n",
    "print(\"\\nStop at multiple sequences ('Q:' or '\\n'):\")\n",
    "print(query_ollama(qa_prompt, stop=[\"Q:\", \"\\n\"]))"
   ]
  },
  {
   "cell_type": "markdown",
   "id": "28d654cb",
   "metadata": {},
   "source": [
    "## Best Practices\n",
    "\n",
    "Choose stop sequences based on your use case:\n",
    "\n",
    "1. **Structured Output**\n",
    "   - Use delimiters like `###` or `===`\n",
    "   - Consider using unique tokens\n",
    "   - Match start/end patterns\n",
    "\n",
    "2. **Conversational**\n",
    "   - Use turn indicators (`User:`, `Assistant:`)\n",
    "   - Consider newlines as stops\n",
    "   - Use clear dialogue markers\n",
    "\n",
    "3. **List Generation**\n",
    "   - Use numbering patterns\n",
    "   - Consider item separators\n",
    "   - Use consistent formatting\n",
    "\n",
    "**Tips:**\n",
    "- Keep stop sequences unique and unambiguous\n",
    "- Test stop sequences with sample outputs\n",
    "- Consider case sensitivity\n",
    "- Use multiple stop sequences when needed\n",
    "- Be careful with common words as stops\n",
    "- Document stop sequences for reproducibility"
   ]
  }
 ],
 "metadata": {
  "kernelspec": {
   "display_name": "Python 3",
   "language": "python",
   "name": "python3"
  },
  "language_info": {
   "codemirror_mode": {
    "name": "ipython",
    "version": 3
   },
   "file_extension": ".py",
   "mimetype": "text/x-python",
   "name": "python",
   "nbconvert_exporter": "python",
   "pygments_lexer": "ipython3",
   "version": "3.11.0b3"
  }
 },
 "nbformat": 4,
 "nbformat_minor": 5
}
