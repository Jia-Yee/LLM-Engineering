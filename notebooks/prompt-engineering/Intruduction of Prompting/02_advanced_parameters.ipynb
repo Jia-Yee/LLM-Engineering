{
 "cells": [
  {
   "cell_type": "markdown",
   "id": "c6a4dea3",
   "metadata": {},
   "source": [
    "# Advanced LLM Parameters for Recruitment Tasks\n",
    "\n",
    "This notebook covers advanced parameters for fine-tuning LLM outputs in recruitment:\n",
    "\n",
    "1. Presence Penalty - Controls repetition\n",
    "2. Frequency Penalty - Manages vocabulary diversity\n",
    "3. Stop Sequences - Controls output format\n",
    "4. Context Window - Manages input length\n",
    "5. System Prompt - Sets model behavior\n",
    "6. Seed - Ensures consistency\n",
    "\n",
    "We'll explore how these parameters enhance recruitment tasks including:\n",
    "- Sophisticated job description generation\n",
    "- Detailed resume analysis\n",
    "- Complex company information processing"
   ]
  },
  {
   "cell_type": "code",
   "execution_count": null,
   "id": "73c1dd43",
   "metadata": {},
   "outputs": [],
   "source": [
    "import requests\n",
    "import json\n",
    "from IPython.display import display, Markdown\n",
    "\n",
    "def query_model(prompt, **params):\n",
    "    \"\"\"Query the Ollama API with specified parameters.\"\"\"\n",
    "    response = requests.post(\n",
    "        'http://localhost:11434/api/generate',\n",
    "        json={\n",
    "            'model': 'llama2',\n",
    "            'prompt': prompt,\n",
    "            **params\n",
    "        }\n",
    "    )\n",
    "    return response.json()['response']"
   ]
  },
  {
   "cell_type": "markdown",
   "id": "ceca3bf8",
   "metadata": {},
   "source": [
    "## Presence_Penalty\n",
    "\n",
    "Understanding presence_penalty in recruitment contexts:\n",
    "- Impact on output quality\n",
    "- Best practices for different tasks\n",
    "- Example scenarios and use cases"
   ]
  },
  {
   "cell_type": "markdown",
   "id": "7e07d0f1",
   "metadata": {},
   "source": [
    "### Diverse Requirements\n",
    "\n",
    "Testing presence_penalty with this recruiting scenario:\n",
    "```\n",
    "List 10 different requirements for a Full Stack Developer position.\n",
    "```"
   ]
  },
  {
   "cell_type": "code",
   "execution_count": null,
   "id": "f81db02f",
   "metadata": {},
   "outputs": [],
   "source": [
    "# Try different presence_penalty values\n",
    "for value in [0.0, 0.5, 1.0]:\n",
    "    print(f\"\\npresence_penalty = {value}\")\n",
    "    response = query_model('''List 10 different requirements for a Full Stack Developer position.''', presence_penalty=value)\n",
    "    display(Markdown(f\"**Response:**\\n{response}\"))"
   ]
  },
  {
   "cell_type": "markdown",
   "id": "90709674",
   "metadata": {},
   "source": [
    "### Skill Alternatives\n",
    "\n",
    "Testing presence_penalty with this recruiting scenario:\n",
    "```\n",
    "Suggest alternative skills for a candidate missing: 'AWS, Docker, Kubernetes' experience.\n",
    "```"
   ]
  },
  {
   "cell_type": "code",
   "execution_count": null,
   "id": "9218a274",
   "metadata": {},
   "outputs": [],
   "source": [
    "# Try different presence_penalty values\n",
    "for value in [0.0, 0.5, 1.0]:\n",
    "    print(f\"\\npresence_penalty = {value}\")\n",
    "    response = query_model('''Suggest alternative skills for a candidate missing: 'AWS, Docker, Kubernetes' experience.''', presence_penalty=value)\n",
    "    display(Markdown(f\"**Response:**\\n{response}\"))"
   ]
  },
  {
   "cell_type": "markdown",
   "id": "166a0c77",
   "metadata": {},
   "source": [
    "### Interview Questions\n",
    "\n",
    "Testing presence_penalty with this recruiting scenario:\n",
    "```\n",
    "Generate diverse technical interview questions for a Machine Learning Engineer position.\n",
    "```"
   ]
  },
  {
   "cell_type": "code",
   "execution_count": null,
   "id": "1aafc9c8",
   "metadata": {},
   "outputs": [],
   "source": [
    "# Try different presence_penalty values\n",
    "for value in [0.0, 0.5, 1.0]:\n",
    "    print(f\"\\npresence_penalty = {value}\")\n",
    "    response = query_model('''Generate diverse technical interview questions for a Machine Learning Engineer position.''', presence_penalty=value)\n",
    "    display(Markdown(f\"**Response:**\\n{response}\"))"
   ]
  },
  {
   "cell_type": "markdown",
   "id": "bcf530e8",
   "metadata": {},
   "source": [
    "## Frequency_Penalty\n",
    "\n",
    "Understanding frequency_penalty in recruitment contexts:\n",
    "- Impact on output quality\n",
    "- Best practices for different tasks\n",
    "- Example scenarios and use cases"
   ]
  },
  {
   "cell_type": "markdown",
   "id": "c06ff092",
   "metadata": {},
   "source": [
    "### Job Benefits\n",
    "\n",
    "Testing frequency_penalty with this recruiting scenario:\n",
    "```\n",
    "List various benefits and perks offered by a tech company to attract talent.\n",
    "```"
   ]
  },
  {
   "cell_type": "code",
   "execution_count": null,
   "id": "2c59b02d",
   "metadata": {},
   "outputs": [],
   "source": [
    "# Try different frequency_penalty values\n",
    "for value in [0.0, 0.5, 1.0]:\n",
    "    print(f\"\\nfrequency_penalty = {value}\")\n",
    "    response = query_model('''List various benefits and perks offered by a tech company to attract talent.''', frequency_penalty=value)\n",
    "    display(Markdown(f\"**Response:**\\n{response}\"))"
   ]
  },
  {
   "cell_type": "markdown",
   "id": "238491f6",
   "metadata": {},
   "source": [
    "### Responsibility Description\n",
    "\n",
    "Testing frequency_penalty with this recruiting scenario:\n",
    "```\n",
    "Describe the responsibilities of a Senior Data Scientist role using diverse language.\n",
    "```"
   ]
  },
  {
   "cell_type": "code",
   "execution_count": null,
   "id": "93fdf0ca",
   "metadata": {},
   "outputs": [],
   "source": [
    "# Try different frequency_penalty values\n",
    "for value in [0.0, 0.5, 1.0]:\n",
    "    print(f\"\\nfrequency_penalty = {value}\")\n",
    "    response = query_model('''Describe the responsibilities of a Senior Data Scientist role using diverse language.''', frequency_penalty=value)\n",
    "    display(Markdown(f\"**Response:**\\n{response}\"))"
   ]
  },
  {
   "cell_type": "markdown",
   "id": "5100b9bd",
   "metadata": {},
   "source": [
    "### Achievement Variations\n",
    "\n",
    "Testing frequency_penalty with this recruiting scenario:\n",
    "```\n",
    "Rephrase this achievement: 'Led development of ML-based recruitment platform' in multiple ways.\n",
    "```"
   ]
  },
  {
   "cell_type": "code",
   "execution_count": null,
   "id": "8348ae5a",
   "metadata": {},
   "outputs": [],
   "source": [
    "# Try different frequency_penalty values\n",
    "for value in [0.0, 0.5, 1.0]:\n",
    "    print(f\"\\nfrequency_penalty = {value}\")\n",
    "    response = query_model('''Rephrase this achievement: 'Led development of ML-based recruitment platform' in multiple ways.''', frequency_penalty=value)\n",
    "    display(Markdown(f\"**Response:**\\n{response}\"))"
   ]
  },
  {
   "cell_type": "markdown",
   "id": "1b1b3e54",
   "metadata": {},
   "source": [
    "## Stop_Sequences\n",
    "\n",
    "Understanding stop_sequences in recruitment contexts:\n",
    "- Impact on output quality\n",
    "- Best practices for different tasks\n",
    "- Example scenarios and use cases"
   ]
  },
  {
   "cell_type": "markdown",
   "id": "a386ea21",
   "metadata": {},
   "source": [
    "### Structured Resume\n",
    "\n",
    "Testing stop_sequences with this recruiting scenario:\n",
    "```\n",
    "Parse this resume section by section: 'Experience: ML Engineer at TechCorp...'\n",
    "```"
   ]
  },
  {
   "cell_type": "code",
   "execution_count": null,
   "id": "362afe27",
   "metadata": {},
   "outputs": [],
   "source": [
    "# Example with different stop sequences\n",
    "stop_sequences = ['Skills:', 'Experience:', 'Education:']\n",
    "for stop in stop_sequences:\n",
    "    print(f\"\\nUsing stop sequence: {stop}\")\n",
    "    response = query_model('''Parse this resume section by section: 'Experience: ML Engineer at TechCorp...'''', stop=[stop])\n",
    "    display(Markdown(f\"**Response:**\\n{response}\"))"
   ]
  },
  {
   "cell_type": "markdown",
   "id": "b9fb7e10",
   "metadata": {},
   "source": [
    "### Interview Qa\n",
    "\n",
    "Testing stop_sequences with this recruiting scenario:\n",
    "```\n",
    "Format a technical interview Q&A session for a Software Engineer position.\n",
    "```"
   ]
  },
  {
   "cell_type": "code",
   "execution_count": null,
   "id": "90b589b0",
   "metadata": {},
   "outputs": [],
   "source": [
    "# Example with different stop sequences\n",
    "stop_sequences = ['Skills:', 'Experience:', 'Education:']\n",
    "for stop in stop_sequences:\n",
    "    print(f\"\\nUsing stop sequence: {stop}\")\n",
    "    response = query_model('''Format a technical interview Q&A session for a Software Engineer position.''', stop=[stop])\n",
    "    display(Markdown(f\"**Response:**\\n{response}\"))"
   ]
  },
  {
   "cell_type": "markdown",
   "id": "a3019e01",
   "metadata": {},
   "source": [
    "### Job Listing Parser\n",
    "\n",
    "Testing stop_sequences with this recruiting scenario:\n",
    "```\n",
    "Extract structured information from this job posting: 'Senior ML Engineer...'\n",
    "```"
   ]
  },
  {
   "cell_type": "code",
   "execution_count": null,
   "id": "12c4016e",
   "metadata": {},
   "outputs": [],
   "source": [
    "# Example with different stop sequences\n",
    "stop_sequences = ['Skills:', 'Experience:', 'Education:']\n",
    "for stop in stop_sequences:\n",
    "    print(f\"\\nUsing stop sequence: {stop}\")\n",
    "    response = query_model('''Extract structured information from this job posting: 'Senior ML Engineer...'''', stop=[stop])\n",
    "    display(Markdown(f\"**Response:**\\n{response}\"))"
   ]
  },
  {
   "cell_type": "markdown",
   "id": "1cf31c69",
   "metadata": {},
   "source": [
    "## Context_Window\n",
    "\n",
    "Understanding context_window in recruitment contexts:\n",
    "- Impact on output quality\n",
    "- Best practices for different tasks\n",
    "- Example scenarios and use cases"
   ]
  },
  {
   "cell_type": "markdown",
   "id": "1f3337b0",
   "metadata": {},
   "source": [
    "### Full Resume\n",
    "\n",
    "Testing context_window with this recruiting scenario:\n",
    "```\n",
    "Analyze this complete resume for relevant ML Engineering skills and experience...\n",
    "```"
   ]
  },
  {
   "cell_type": "code",
   "execution_count": null,
   "id": "082fe88c",
   "metadata": {},
   "outputs": [],
   "source": [
    "# Try different context_window values\n",
    "for value in [0.0, 0.5, 1.0]:\n",
    "    print(f\"\\ncontext_window = {value}\")\n",
    "    response = query_model('''Analyze this complete resume for relevant ML Engineering skills and experience...''', context_window=value)\n",
    "    display(Markdown(f\"**Response:**\\n{response}\"))"
   ]
  },
  {
   "cell_type": "markdown",
   "id": "782b0d3b",
   "metadata": {},
   "source": [
    "### Company Background\n",
    "\n",
    "Testing context_window with this recruiting scenario:\n",
    "```\n",
    "Consider this company's full background and history when suggesting suitable candidates...\n",
    "```"
   ]
  },
  {
   "cell_type": "code",
   "execution_count": null,
   "id": "570a1f62",
   "metadata": {},
   "outputs": [],
   "source": [
    "# Try different context_window values\n",
    "for value in [0.0, 0.5, 1.0]:\n",
    "    print(f\"\\ncontext_window = {value}\")\n",
    "    response = query_model('''Consider this company's full background and history when suggesting suitable candidates...''', context_window=value)\n",
    "    display(Markdown(f\"**Response:**\\n{response}\"))"
   ]
  },
  {
   "cell_type": "markdown",
   "id": "cff2f781",
   "metadata": {},
   "source": [
    "### Job Market Analysis\n",
    "\n",
    "Testing context_window with this recruiting scenario:\n",
    "```\n",
    "Analyze current job market trends in AI/ML based on these comprehensive reports...\n",
    "```"
   ]
  },
  {
   "cell_type": "code",
   "execution_count": null,
   "id": "e437fc13",
   "metadata": {},
   "outputs": [],
   "source": [
    "# Try different context_window values\n",
    "for value in [0.0, 0.5, 1.0]:\n",
    "    print(f\"\\ncontext_window = {value}\")\n",
    "    response = query_model('''Analyze current job market trends in AI/ML based on these comprehensive reports...''', context_window=value)\n",
    "    display(Markdown(f\"**Response:**\\n{response}\"))"
   ]
  },
  {
   "cell_type": "markdown",
   "id": "36a4e6f8",
   "metadata": {},
   "source": [
    "## System_Prompt\n",
    "\n",
    "Understanding system_prompt in recruitment contexts:\n",
    "- Impact on output quality\n",
    "- Best practices for different tasks\n",
    "- Example scenarios and use cases"
   ]
  },
  {
   "cell_type": "markdown",
   "id": "69ac30e3",
   "metadata": {},
   "source": [
    "### Recruiter Role\n",
    "\n",
    "Testing system_prompt with this recruiting scenario:\n",
    "```\n",
    "Act as an experienced technical recruiter specializing in ML/AI positions.\n",
    "```"
   ]
  },
  {
   "cell_type": "code",
   "execution_count": null,
   "id": "dd7f7dde",
   "metadata": {},
   "outputs": [],
   "source": [
    "# Try different system_prompt values\n",
    "for value in [0.0, 0.5, 1.0]:\n",
    "    print(f\"\\nsystem_prompt = {value}\")\n",
    "    response = query_model('''Act as an experienced technical recruiter specializing in ML/AI positions.''', system_prompt=value)\n",
    "    display(Markdown(f\"**Response:**\\n{response}\"))"
   ]
  },
  {
   "cell_type": "markdown",
   "id": "27af4cb6",
   "metadata": {},
   "source": [
    "### Candidate Role\n",
    "\n",
    "Testing system_prompt with this recruiting scenario:\n",
    "```\n",
    "Act as a job seeker with 5 years of ML engineering experience.\n",
    "```"
   ]
  },
  {
   "cell_type": "code",
   "execution_count": null,
   "id": "24d31697",
   "metadata": {},
   "outputs": [],
   "source": [
    "# Try different system_prompt values\n",
    "for value in [0.0, 0.5, 1.0]:\n",
    "    print(f\"\\nsystem_prompt = {value}\")\n",
    "    response = query_model('''Act as a job seeker with 5 years of ML engineering experience.''', system_prompt=value)\n",
    "    display(Markdown(f\"**Response:**\\n{response}\"))"
   ]
  },
  {
   "cell_type": "markdown",
   "id": "5a835adb",
   "metadata": {},
   "source": [
    "### Hiring Manager\n",
    "\n",
    "Testing system_prompt with this recruiting scenario:\n",
    "```\n",
    "Act as a hiring manager for an AI startup looking to build a strong technical team.\n",
    "```"
   ]
  },
  {
   "cell_type": "code",
   "execution_count": null,
   "id": "847ff57d",
   "metadata": {},
   "outputs": [],
   "source": [
    "# Try different system_prompt values\n",
    "for value in [0.0, 0.5, 1.0]:\n",
    "    print(f\"\\nsystem_prompt = {value}\")\n",
    "    response = query_model('''Act as a hiring manager for an AI startup looking to build a strong technical team.''', system_prompt=value)\n",
    "    display(Markdown(f\"**Response:**\\n{response}\"))"
   ]
  },
  {
   "cell_type": "markdown",
   "id": "ecabab4f",
   "metadata": {},
   "source": [
    "## Seed\n",
    "\n",
    "Understanding seed in recruitment contexts:\n",
    "- Impact on output quality\n",
    "- Best practices for different tasks\n",
    "- Example scenarios and use cases"
   ]
  },
  {
   "cell_type": "markdown",
   "id": "ce5796a5",
   "metadata": {},
   "source": [
    "### Candidate Ranking\n",
    "\n",
    "Testing seed with this recruiting scenario:\n",
    "```\n",
    "Rank these three ML Engineer candidates based on their experience and skills...\n",
    "```"
   ]
  },
  {
   "cell_type": "code",
   "execution_count": null,
   "id": "41bece5e",
   "metadata": {},
   "outputs": [],
   "source": [
    "# Try different seed values\n",
    "for value in [0.0, 0.5, 1.0]:\n",
    "    print(f\"\\nseed = {value}\")\n",
    "    response = query_model('''Rank these three ML Engineer candidates based on their experience and skills...''', seed=value)\n",
    "    display(Markdown(f\"**Response:**\\n{response}\"))"
   ]
  },
  {
   "cell_type": "markdown",
   "id": "c84db1d1",
   "metadata": {},
   "source": [
    "### Salary Range\n",
    "\n",
    "Testing seed with this recruiting scenario:\n",
    "```\n",
    "Suggest a salary range for a Senior ML Engineer position based on market data...\n",
    "```"
   ]
  },
  {
   "cell_type": "code",
   "execution_count": null,
   "id": "0a97f0d8",
   "metadata": {},
   "outputs": [],
   "source": [
    "# Try different seed values\n",
    "for value in [0.0, 0.5, 1.0]:\n",
    "    print(f\"\\nseed = {value}\")\n",
    "    response = query_model('''Suggest a salary range for a Senior ML Engineer position based on market data...''', seed=value)\n",
    "    display(Markdown(f\"**Response:**\\n{response}\"))"
   ]
  },
  {
   "cell_type": "markdown",
   "id": "df757099",
   "metadata": {},
   "source": [
    "### Skill Assessment\n",
    "\n",
    "Testing seed with this recruiting scenario:\n",
    "```\n",
    "Evaluate the technical skills required for this ML Engineering position...\n",
    "```"
   ]
  },
  {
   "cell_type": "code",
   "execution_count": null,
   "id": "a50021c3",
   "metadata": {},
   "outputs": [],
   "source": [
    "# Try different seed values\n",
    "for value in [0.0, 0.5, 1.0]:\n",
    "    print(f\"\\nseed = {value}\")\n",
    "    response = query_model('''Evaluate the technical skills required for this ML Engineering position...''', seed=value)\n",
    "    display(Markdown(f\"**Response:**\\n{response}\"))"
   ]
  },
  {
   "cell_type": "markdown",
   "id": "a43e7bfb",
   "metadata": {},
   "source": [
    "## Advanced Parameters Best Practices\n",
    "\n",
    "1. Presence & Frequency Penalties\n",
    "   - Use for diverse job descriptions\n",
    "   - Balance repetition in skill requirements\n",
    "   - Maintain natural language flow\n",
    "\n",
    "2. Stop Sequences\n",
    "   - Structure resume parsing\n",
    "   - Format job posting sections\n",
    "   - Control response boundaries\n",
    "\n",
    "3. Context Window\n",
    "   - Handle full resume analysis\n",
    "   - Process complete job descriptions\n",
    "   - Maintain context across sections\n",
    "\n",
    "4. System Prompt\n",
    "   - Define recruiter persona\n",
    "   - Set evaluation criteria\n",
    "   - Maintain consistent tone\n",
    "\n",
    "5. Seed\n",
    "   - Ensure consistent evaluations\n",
    "   - Reproduce results\n",
    "   - Maintain fairness in assessment"
   ]
  }
 ],
 "metadata": {},
 "nbformat": 4,
 "nbformat_minor": 5
}
