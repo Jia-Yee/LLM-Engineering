{
 "cells": [
  {
   "cell_type": "markdown",
   "id": "b290ed74",
   "metadata": {},
   "source": [
    "# Basic LLM Parameters for Recruitment Tasks\n",
    "\n",
    "This notebook covers the fundamental parameters for controlling LLM outputs in recruitment contexts:\n",
    "\n",
    "1. Temperature - Controls randomness and creativity\n",
    "2. Top-p (Nucleus Sampling) - Controls diversity of token selection\n",
    "3. Top-k - Limits the number of tokens considered\n",
    "4. Max Tokens - Controls response length\n",
    "\n",
    "We'll explore how these parameters affect different recruitment tasks including:\n",
    "- Job description generation and analysis\n",
    "- Resume parsing and evaluation\n",
    "- Company information processing"
   ]
  },
  {
   "cell_type": "code",
   "execution_count": 1,
   "id": "fc1a1576",
   "metadata": {},
   "outputs": [],
   "source": [
    "import json\n",
    "from subprocess import Popen, PIPE\n",
    "from IPython.display import display, Markdown\n",
    "\n",
    "def query_model(prompt, **params):\n",
    "    \"\"\"Query Ollama with a specific presence_penalty setting\"\"\"\n",
    "    cmd = [\n",
    "        \"curl\",\n",
    "        \"http://localhost:11434/api/generate\",\n",
    "        \"-d\",\n",
    "        json.dumps({\n",
    "            \"model\": \"llama3\",\n",
    "            \"prompt\": prompt,\n",
    "            \"options\": { **params }\n",
    "        })\n",
    "    ]\n",
    "\n",
    "    process = Popen(cmd, stdout=PIPE, stderr=PIPE)\n",
    "    output, _ = process.communicate()\n",
    "\n",
    "    responses = [json.loads(line) for line in output.decode().strip().split(\"\\n\")]\n",
    "    return \"\".join(r.get(\"response\", \"\") for r in responses)"
   ]
  },
  {
   "cell_type": "markdown",
   "id": "58485ed1",
   "metadata": {},
   "source": [
    "## Temperature\n",
    "\n",
    "Understanding temperature in recruitment contexts:\n",
    "- How it affects output quality\n",
    "- Best practices for different tasks\n",
    "- Example scenarios and use cases"
   ]
  },
  {
   "cell_type": "markdown",
   "id": "9a49f0fa",
   "metadata": {},
   "source": [
    "### Job Description\n",
    "\n",
    "Testing temperature with this recruiting scenario:\n",
    "```\n",
    "Write a job description for a Senior Software Engineer position focusing on AI/ML development.\n",
    "```"
   ]
  },
  {
   "cell_type": "code",
   "execution_count": 2,
   "id": "4e86b544",
   "metadata": {},
   "outputs": [
    {
     "name": "stdout",
     "output_type": "stream",
     "text": [
      "\n",
      "temperature = 0.1\n"
     ]
    },
    {
     "data": {
      "text/markdown": [
       "**Response:**\n",
       "**Job Title:** Senior Software Engineer - Artificial Intelligence/Machine Learning (AI/ML)\n",
       "\n",
       "**Company:** [Insert Company Name], a leading innovator in the field of AI and machine learning.\n",
       "\n",
       "**Location:** [Insert Location]\n",
       "\n",
       "**Job Type:** Full-time\n",
       "\n",
       "**About Us:**\n",
       "\n",
       "We are seeking an experienced and talented Senior Software Engineer to join our AI/ML team. As a leader in the development of AI-powered solutions, we are committed to pushing the boundaries of what is possible with machine learning. Our team is responsible for designing, developing, and deploying cutting-edge AI models that drive business value and improve customer experiences.\n",
       "\n",
       "**Job Summary:**\n",
       "\n",
       "We are looking for a highly skilled Senior Software Engineer with expertise in AI/ML development to join our team. As a senior member of the team, you will be responsible for leading the design, development, testing, and deployment of AI-powered solutions using various machine learning frameworks (e.g., TensorFlow, PyTorch). You will work closely with cross-functional teams, including data scientists, product managers, and engineers to develop innovative AI/ML models that meet business requirements.\n",
       "\n",
       "**Responsibilities:**\n",
       "\n",
       "* Design, develop, test, and deploy AI-powered solutions using machine learning frameworks such as TensorFlow or PyTorch\n",
       "* Collaborate with data scientists to develop and integrate AI models into larger software systems\n",
       "* Work closely with product managers to understand business requirements and develop AI/ML solutions that meet those needs\n",
       "* Lead the design and development of AI-powered features, including natural language processing (NLP), computer vision, and predictive analytics\n",
       "* Develop and maintain high-quality, scalable, and efficient AI/ML models using cloud-based infrastructure (e.g., AWS, Google Cloud)\n",
       "* Participate in code reviews and ensure that all code is well-documented, tested, and meets company standards\n",
       "* Stay up-to-date with the latest advancements in AI/ML research and apply this knowledge to improve our solutions\n",
       "* Mentor junior engineers and provide guidance on AI/ML development best practices\n",
       "\n",
       "**Requirements:**\n",
       "\n",
       "* Bachelor's or Master's degree in Computer Science, Electrical Engineering, or a related field\n",
       "* 5+ years of experience in AI/ML development using machine learning frameworks such as TensorFlow or PyTorch\n",
       "* Strong programming skills in languages such as Python, Java, or C++\n",
       "* Experience with cloud-based infrastructure (e.g., AWS, Google Cloud) and containerization (e.g., Docker)\n",
       "* Knowledge of data structures, algorithms, and software design patterns\n",
       "* Excellent problem-solving skills and attention to detail\n",
       "* Strong communication and collaboration skills\n",
       "\n",
       "**Nice to Have:**\n",
       "\n",
       "* Ph.D. in Computer Science or a related field\n",
       "* Experience with deep learning frameworks such as Keras or Caffe\n",
       "* Familiarity with big data technologies such as Hadoop, Spark, or NoSQL databases\n",
       "* Knowledge of DevOps practices and tools (e.g., Jenkins, GitLab CI/CD)\n",
       "* Experience with agile development methodologies\n",
       "\n",
       "**What We Offer:**\n",
       "\n",
       "* Competitive salary and benefits package\n",
       "* Opportunities for professional growth and development in a cutting-edge field\n",
       "* Collaborative and dynamic work environment\n",
       "* Flexible working hours and remote work options\n",
       "* Access to the latest AI/ML tools and technologies\n",
       "* Recognition and rewards for outstanding performance\n",
       "\n",
       "If you are a motivated and talented Senior Software Engineer looking to make a meaningful impact in the field of AI/ML, we encourage you to apply."
      ],
      "text/plain": [
       "<IPython.core.display.Markdown object>"
      ]
     },
     "metadata": {},
     "output_type": "display_data"
    },
    {
     "name": "stdout",
     "output_type": "stream",
     "text": [
      "\n",
      "temperature = 0.5\n"
     ]
    },
    {
     "data": {
      "text/markdown": [
       "**Response:**\n",
       "**Job Title:** Senior Software Engineer - Artificial Intelligence/Machine Learning (AI/ML)\n",
       "\n",
       "**Company:** [Insert Company Name], a leading innovator in [insert industry/field]\n",
       "\n",
       "**Location:** [Insert Location]\n",
       "\n",
       "**Job Type:** Full-time\n",
       "\n",
       "**About Us:**\n",
       "\n",
       "We're a cutting-edge technology company that's revolutionizing the way we approach [insert area of focus]. Our team is passionate about harnessing the power of Artificial Intelligence and Machine Learning to drive innovation and solve complex problems. We're looking for an experienced Senior Software Engineer to join our AI/ML development team and help us take our solutions to the next level.\n",
       "\n",
       "**Job Summary:**\n",
       "\n",
       "As a Senior Software Engineer, you will be responsible for designing, developing, and maintaining high-quality AI/ML models and software applications that drive business value. You will work closely with cross-functional teams to integrate AI/ML capabilities into our products and services, ensuring seamless integration and optimal performance. Your expertise will help us stay ahead of the curve in this rapidly evolving field.\n",
       "\n",
       "**Responsibilities:**\n",
       "\n",
       "* Design and develop AI/ML models using deep learning frameworks such as TensorFlow, PyTorch, or Keras\n",
       "* Collaborate with data scientists to integrate ML models into software applications\n",
       "* Develop and maintain large-scale AI/ML systems that can handle high volumes of data and complex computations\n",
       "* Work with the development team to integrate AI/ML capabilities into existing products and services\n",
       "* Conduct thorough testing and validation of AI/ML models to ensure accuracy, reliability, and performance\n",
       "* Participate in code reviews and contribute to the improvement of the overall software development process\n",
       "* Stay up-to-date with industry trends, research, and advancements in AI/ML and apply this knowledge to improve our solutions\n",
       "* Mentor junior engineers and provide guidance on AI/ML best practices\n",
       "* Collaborate with product managers to define AI/ML requirements and develop prototypes\n",
       "\n",
       "**Requirements:**\n",
       "\n",
       "* Bachelor's or Master's degree in Computer Science, Electrical Engineering, or a related field\n",
       "* Minimum 5 years of experience in AI/ML development, with a focus on software engineering\n",
       "* Strong programming skills in languages such as Python, Java, C++, or MATLAB\n",
       "* Experience with deep learning frameworks such as TensorFlow, PyTorch, or Keras\n",
       "* Familiarity with data structures, algorithms, and software design patterns\n",
       "* Excellent problem-solving skills and attention to detail\n",
       "* Strong communication and collaboration skills\n",
       "* Experience working in an Agile environment and participating in code reviews\n",
       "\n",
       "**Nice to Have:**\n",
       "\n",
       "* Ph.D. in AI/ML-related field or equivalent experience\n",
       "* Experience with cloud-based services such as AWS, Google Cloud, or Azure\n",
       "* Knowledge of data preprocessing techniques and data visualization tools\n",
       "* Familiarity with DevOps practices and containerization (e.g., Docker)\n",
       "* Certification in AI/ML-related fields (e.g., Certified Data Scientist)\n",
       "\n",
       "**What We Offer:**\n",
       "\n",
       "* Competitive salary and benefits package\n",
       "* Opportunity to work on cutting-edge AI/ML projects that drive business value\n",
       "* Collaborative and dynamic work environment with a team of experts\n",
       "* Professional development opportunities, including training and mentorship programs\n",
       "* Flexible working hours and remote work options\n",
       "\n",
       "If you're passionate about AI/ML and want to join a forward-thinking company, we'd love to hear from you! Please submit your resume and a cover letter explaining why you're the perfect fit for this role."
      ],
      "text/plain": [
       "<IPython.core.display.Markdown object>"
      ]
     },
     "metadata": {},
     "output_type": "display_data"
    },
    {
     "name": "stdout",
     "output_type": "stream",
     "text": [
      "\n",
      "temperature = 0.9\n"
     ]
    },
    {
     "data": {
      "text/markdown": [
       "**Response:**\n",
       "Here is a job description for a Senior Software Engineer position focusing on AI/ML development:\n",
       "\n",
       "**Job Title:** Senior Software Engineer - Artificial Intelligence/Machine Learning\n",
       "\n",
       "**Job Summary:**\n",
       "\n",
       "We are seeking an experienced and talented Senior Software Engineer to join our AI/ML team, responsible for developing innovative AI and Machine Learning solutions that drive business value. The ideal candidate will have a strong background in AI/ML, a passion for software development, and the ability to work effectively with cross-functional teams.\n",
       "\n",
       "**Responsibilities:**\n",
       "\n",
       "* Design, develop, test, and maintain complex AI and ML models, including natural language processing (NLP), computer vision, and predictive analytics\n",
       "* Collaborate with data scientists and other engineers to integrate AI/ML models into our software applications\n",
       "* Develop and implement data pipelines to collect, process, and store large datasets for AI/ML model training and testing\n",
       "* Work with the architecture team to design scalable and efficient architectures for AI/ML-based systems\n",
       "* Participate in code reviews, ensure high-quality code, and maintain a clean and well-organized codebase\n",
       "* Troubleshoot complex technical issues related to AI/ML models and algorithms\n",
       "* Stay up-to-date with the latest advancements in AI/ML research and technologies, and apply this knowledge to improve our solutions\n",
       "\n",
       "**Requirements:**\n",
       "\n",
       "* Bachelor's or Master's degree in Computer Science, Electrical Engineering, or a related field\n",
       "* At least 5 years of experience in software development, with a focus on AI/ML technologies (TensorFlow, PyTorch, Scikit-Learn, etc.)\n",
       "* Strong programming skills in Python, Java, C++, or other languages relevant to the position\n",
       "* Experience working with large datasets and data pipelines\n",
       "* Understanding of machine learning algorithms, including supervised and unsupervised learning methods\n",
       "* Familiarity with cloud-based platforms (AWS, Azure, GCP) and containerization technologies (Docker)\n",
       "* Strong problem-solving skills and attention to detail\n",
       "* Excellent communication and teamwork skills\n",
       "\n",
       "**Nice to Have:**\n",
       "\n",
       "* Experience with deep learning frameworks such as TensorFlow or PyTorch\n",
       "* Knowledge of reinforcement learning, generative adversarial networks (GANs), or other advanced AI/ML concepts\n",
       "* Familiarity with Kubernetes or other orchestration technologies\n",
       "* Experience working in an agile development environment with version control systems like Git\n",
       "\n",
       "**What We Offer:**\n",
       "\n",
       "* Competitive salary and benefits package\n",
       "* Opportunities for professional growth and career advancement\n",
       "* Collaborative and innovative work environment\n",
       "* Access to cutting-edge AI/ML research and tools\n",
       "* Flexible work arrangements (remote work options)\n",
       "\n",
       "If you are a motivated and experienced software engineer with a passion for AI/ML, we encourage you to apply!"
      ],
      "text/plain": [
       "<IPython.core.display.Markdown object>"
      ]
     },
     "metadata": {},
     "output_type": "display_data"
    }
   ],
   "source": [
    "# Try different temperature values\n",
    "for value in [0.1, 0.5, 0.9]:\n",
    "    print(f\"\\ntemperature = {value}\")\n",
    "    response = query_model('''Write a job description for a Senior Software Engineer position focusing on AI/ML development.''', temperature=value)\n",
    "    display(Markdown(f\"**Response:**\\n{response}\"))"
   ]
  },
  {
   "cell_type": "markdown",
   "id": "4ca3bc7b",
   "metadata": {},
   "source": [
    "### Resume Summary\n",
    "\n",
    "Testing temperature with this recruiting scenario:\n",
    "```\n",
    "Summarize a resume that highlights 5 years of Python development, ML model deployment, and team leadership.\n",
    "```"
   ]
  },
  {
   "cell_type": "code",
   "execution_count": 3,
   "id": "f22e1a96",
   "metadata": {},
   "outputs": [
    {
     "name": "stdout",
     "output_type": "stream",
     "text": [
      "\n",
      "temperature = 0.1\n"
     ]
    },
    {
     "data": {
      "text/markdown": [
       "**Response:**\n",
       "Here's a summary of a resume that highlights 5 years of Python development, ML model deployment, and team leadership:\n",
       "\n",
       "**Summary:**\n",
       "\n",
       "Highly motivated and experienced Python developer with 5 years of experience in building scalable and efficient machine learning models. Proven track record of successfully deploying models to production environments and leading cross-functional teams to achieve project goals. Skilled in a range of technologies including Python, TensorFlow, Keras, scikit-learn, and Pandas.\n",
       "\n",
       "**Technical Skills:**\n",
       "\n",
       "* Programming languages: Python\n",
       "* Machine Learning frameworks: TensorFlow, Keras, scikit-learn\n",
       "* Data manipulation and analysis: Pandas, NumPy\n",
       "* Operating Systems: Windows, Linux\n",
       "\n",
       "**Professional Experience:**\n",
       "\n",
       "**Senior Python Developer**, ABC Company (2018-Present)\n",
       "\n",
       "* Led a team of 3 developers to build and deploy multiple machine learning models for predictive maintenance and quality control\n",
       "* Designed and implemented data pipelines using Apache Beam and AWS Glue to process large datasets\n",
       "* Collaborated with data scientists to develop and train ML models, and deployed them to production environments using Docker and Kubernetes\n",
       "* Mentored junior developers and provided code reviews to ensure high-quality code\n",
       "\n",
       "**Python Developer**, DEF Company (2015-2018)\n",
       "\n",
       "* Built and deployed multiple machine learning models for customer segmentation and churn prediction\n",
       "* Worked with data scientists to develop and train ML models, and integrated them into production applications using Flask and Django\n",
       "* Developed and maintained a suite of Python scripts for data processing and analysis using Pandas and NumPy\n",
       "\n",
       "**Education:**\n",
       "\n",
       "* Bachelor's/Master's degree in Computer Science or related field (2010-2015)\n",
       "\n",
       "This summary highlights the candidate's:\n",
       "\n",
       "1. 5 years of experience in Python development, with a focus on machine learning and deployment.\n",
       "2. Leadership skills, having led a team to achieve project goals.\n",
       "3. Technical skills in a range of technologies, including Python, TensorFlow, Keras, scikit-learn, and Pandas.\n",
       "4. Experience working with data scientists and deploying models to production environments.\n",
       "\n",
       "Note that this is just an example summary, and you should customize your own resume to fit your specific experience and qualifications."
      ],
      "text/plain": [
       "<IPython.core.display.Markdown object>"
      ]
     },
     "metadata": {},
     "output_type": "display_data"
    },
    {
     "name": "stdout",
     "output_type": "stream",
     "text": [
      "\n",
      "temperature = 0.5\n"
     ]
    },
    {
     "data": {
      "text/markdown": [
       "**Response:**\n",
       "Here's a summary of a resume that highlights 5 years of Python development, ML model deployment, and team leadership:\n",
       "\n",
       "**Summary:**\n",
       "\n",
       "Highly motivated and experienced software engineer with 5+ years of expertise in Python development, machine learning (ML) model deployment, and team leadership. Proven track record of delivering high-quality solutions, leading cross-functional teams, and driving business growth through innovative technology.\n",
       "\n",
       "**Technical Skills:**\n",
       "\n",
       "* Programming languages: Python (3.x), Java\n",
       "* Data Science: NumPy, Pandas, scikit-learn, TensorFlow, Keras\n",
       "* Machine Learning: Model deployment using Flask/Django, API design, data preprocessing, feature engineering\n",
       "* Agile methodologies: Scrum, Kanban\n",
       "* Version control: Git\n",
       "\n",
       "**Professional Experience:**\n",
       "\n",
       "1. **Senior Software Engineer**, ABC Company (2020-Present)\n",
       "\t* Led a team of 5 developers to deliver a cloud-based predictive maintenance platform using Python and TensorFlow\n",
       "\t* Designed and deployed multiple ML models for equipment failure prediction, achieving an accuracy rate of 95%\n",
       "\t* Collaborated with data scientists to integrate new features and improve model performance\n",
       "2. **Software Engineer**, DEF Startups (2018-2020)\n",
       "\t* Developed a natural language processing (NLP) framework using Python and NLTK\n",
       "\t* Deployed the NLP framework as a RESTful API, integrating it with a web application built using Flask\n",
       "\t* Worked closely with the data science team to integrate ML models for sentiment analysis and text classification\n",
       "\n",
       "**Leadership Experience:**\n",
       "\n",
       "1. **Team Lead**, ABC Company (2020-Present)\n",
       "\t* Led a team of 5 developers to deliver a cloud-based predictive maintenance platform\n",
       "\t* Coordinated daily stand-ups, sprint planning, and retrospectives to ensure efficient project delivery\n",
       "2. **Mentor**, DEF Startups (2019-2020)\n",
       "\t* Mentored junior engineers on Python development, ML model deployment, and Agile methodologies\n",
       "\t* Conducted code reviews and provided feedback to improve coding standards and best practices\n",
       "\n",
       "**Education:**\n",
       "\n",
       "1. Bachelor's/Master's Degree in Computer Science or related field\n",
       "\n",
       "**Certifications:**\n",
       "\n",
       "1. Certified Scrum Master (CSM)\n",
       "2. Certified Data Scientist (CDS)\n",
       "\n",
       "This summary highlights the candidate's technical skills, professional experience, leadership abilities, and education/certifications. It showcases their expertise in Python development, ML model deployment, and team leadership, making them a strong contender for roles requiring these skills."
      ],
      "text/plain": [
       "<IPython.core.display.Markdown object>"
      ]
     },
     "metadata": {},
     "output_type": "display_data"
    },
    {
     "name": "stdout",
     "output_type": "stream",
     "text": [
      "\n",
      "temperature = 0.9\n"
     ]
    },
    {
     "data": {
      "text/markdown": [
       "**Response:**\n",
       "Here's a summary of a resume that highlights 5 years of Python development, ML model deployment, and team leadership:\n",
       "\n",
       "**Summary:**\n",
       "\n",
       "Highly skilled Python developer with 5 years of experience in developing machine learning models and deploying them to production environments. Proven track record of successfully leading cross-functional teams to deliver high-quality projects on time and within budget. Strong foundation in data structures, algorithms, and software design patterns. Proficient in popular Python libraries such as NumPy, Pandas, scikit-learn, TensorFlow, and Keras.\n",
       "\n",
       "**Technical Skills:**\n",
       "\n",
       "* Programming languages: Python\n",
       "* Development frameworks: Flask, Django\n",
       "* Machine learning libraries: scikit-learn, TensorFlow, Keras\n",
       "* Data manipulation and analysis: NumPy, Pandas\n",
       "* Operating Systems: Windows, Linux\n",
       "\n",
       "**Professional Experience:**\n",
       "\n",
       "**Senior Software Engineer**, ABC Corporation (2018-Present)\n",
       "\n",
       "* Led a team of 5 engineers to develop and deploy machine learning models for customer churn prediction, resulting in a 25% increase in model accuracy and a 30% reduction in customer attrition\n",
       "* Designed and implemented multiple ML pipelines using TensorFlow and Keras, integrating with Apache Spark and Hadoop for large-scale data processing\n",
       "* Collaborated with product managers to define project requirements, prioritize features, and deliver high-quality products on time\n",
       "\n",
       "**Software Engineer**, DEF Startups (2015-2018)\n",
       "\n",
       "* Developed and deployed multiple ML models for image classification, natural language processing, and recommendation systems using Python, TensorFlow, and Keras\n",
       "* Worked closely with data scientists to design and implement data pipelines, feature engineering, and model evaluation techniques\n",
       "* Contributed to the development of a real-time recommender system that increased user engagement by 15%\n",
       "\n",
       "**Education:**\n",
       "\n",
       "* Bachelor's/Master's degree in Computer Science or related field\n",
       "\n",
       "**Certifications/Awards:**\n",
       "\n",
       "* Certified Python Developer (CPD)\n",
       "* Winner of the ABC Corporation Hackathon Competition (2019)\n",
       "\n",
       "This summary highlights the candidate's technical skills, experience in machine learning and team leadership, and achievements in their previous roles."
      ],
      "text/plain": [
       "<IPython.core.display.Markdown object>"
      ]
     },
     "metadata": {},
     "output_type": "display_data"
    }
   ],
   "source": [
    "# Try different temperature values\n",
    "for value in [0.1, 0.5, 0.9]:\n",
    "    print(f\"\\ntemperature = {value}\")\n",
    "    response = query_model('''Summarize a resume that highlights 5 years of Python development, ML model deployment, and team leadership.''', temperature=value)\n",
    "    display(Markdown(f\"**Response:**\\n{response}\"))"
   ]
  },
  {
   "cell_type": "markdown",
   "id": "89005d4b",
   "metadata": {},
   "source": [
    "### Company Culture\n",
    "\n",
    "Testing temperature with this recruiting scenario:\n",
    "```\n",
    "Describe the company culture of a fast-growing AI startup.\n",
    "```"
   ]
  },
  {
   "cell_type": "code",
   "execution_count": 4,
   "id": "d7a6cbb0",
   "metadata": {},
   "outputs": [
    {
     "name": "stdout",
     "output_type": "stream",
     "text": [
      "\n",
      "temperature = 0.1\n"
     ]
    },
    {
     "data": {
      "text/markdown": [
       "**Response:**\n",
       "The company culture of a fast-growing AI startup is often characterized by a unique blend of innovation, collaboration, and adaptability. Here are some key aspects that define the culture:\n",
       "\n",
       "1. **Innovative Spirit**: The company encourages experimentation, risk-taking, and creative problem-solving. Employees are empowered to think outside the box and develop innovative solutions to complex problems.\n",
       "2. **Collaboration**: AI startups often require a high degree of collaboration between teams, including data scientists, engineers, product managers, and designers. This fosters a culture of open communication, active listening, and mutual respect.\n",
       "3. **Fast-Paced Environment**: With rapid growth comes the need for speed and agility. The company culture values quick decision-making, adaptability, and a willingness to pivot when necessary.\n",
       "4. **Data-Driven Decision Making**: AI startups rely heavily on data to inform their decisions. This leads to a culture that emphasizes data analysis, experimentation, and continuous learning.\n",
       "5. **Autonomy and Ownership**: As the company grows, employees are given more autonomy to make decisions and take ownership of their projects. This encourages accountability, motivation, and a sense of pride in one's work.\n",
       "6. **Continuous Learning**: The AI industry is constantly evolving, and the company culture reflects this by prioritizing ongoing learning and professional development. Employees are encouraged to stay up-to-date with the latest advancements and best practices.\n",
       "7. **Diverse and Inclusive Culture**: AI startups often attract a diverse group of individuals from various backgrounds. The company culture values diversity, equity, and inclusion, recognizing that these traits are essential for driving innovation and creativity.\n",
       "8. **Feedback-Driven**: With rapid growth comes the need for effective feedback mechanisms. The company culture emphasizes regular feedback, both positive and constructive, to help employees grow and improve.\n",
       "9. **Wellness and Work-Life Balance**: AI startups often require long hours and intense focus. To mitigate this, the company culture prioritizes employee wellness, providing resources and support for mental health, physical well-being, and work-life balance.\n",
       "10. **Recognition and Rewards**: The company culture recognizes and rewards employees' achievements, whether through public recognition, bonuses, or other incentives. This motivates employees to strive for excellence and contributes to a positive, productive work environment.\n",
       "\n",
       "Some specific practices that may be part of the company culture include:\n",
       "\n",
       "* Regular hackathons or innovation days\n",
       "* Cross-functional teams working on projects together\n",
       "* Mentorship programs pairing experienced team members with newer hires\n",
       "* Quarterly or annual \"AI-themed\" events, such as AI conferences or meetups\n",
       "* A strong focus on community engagement and social responsibility\n",
       "\n",
       "Overall, the company culture of a fast-growing AI startup is characterized by a dynamic, innovative, and collaborative environment that values learning, growth, and recognition."
      ],
      "text/plain": [
       "<IPython.core.display.Markdown object>"
      ]
     },
     "metadata": {},
     "output_type": "display_data"
    },
    {
     "name": "stdout",
     "output_type": "stream",
     "text": [
      "\n",
      "temperature = 0.5\n"
     ]
    },
    {
     "data": {
      "text/markdown": [
       "**Response:**\n",
       "The thrill of working for a fast-growing AI startup! Here's a glimpse into the company culture:\n",
       "\n",
       "**Collaborative and Innovative**\n",
       "\n",
       "* The team is encouraged to collaborate, share ideas, and learn from each other. Open communication channels ensure that everyone stays informed about project progress, challenges, and successes.\n",
       "* A culture of innovation thrives, with a focus on experimentation, prototyping, and rapid iteration. Employees are empowered to explore new technologies, techniques, and methodologies.\n",
       "\n",
       "**Fast-Paced and Adaptable**\n",
       "\n",
       "* The pace is fast, with tight deadlines and a constant stream of new projects. Team members must be flexible and able to pivot quickly in response to changing priorities or unexpected challenges.\n",
       "* A growth mindset is essential; employees are expected to adapt to new situations, learn from failures, and continuously improve processes.\n",
       "\n",
       "**Data-Driven Decision Making**\n",
       "\n",
       "* Data analysis and visualization are integral parts of the company culture. Teams rely on data-driven insights to inform their decisions, measure progress, and optimize results.\n",
       "* Employees are encouraged to ask questions, seek answers in data, and use evidence-based reasoning to drive their work.\n",
       "\n",
       "**Autonomy and Accountability**\n",
       "\n",
       "* Team members have a high degree of autonomy to design, develop, and execute projects. This autonomy fosters ownership, motivation, and a sense of responsibility for delivering high-quality results.\n",
       "* Accountability is key; employees are expected to take ownership of their tasks, track progress, and report regularly on their achievements.\n",
       "\n",
       "**Continuous Learning**\n",
       "\n",
       "* A culture of continuous learning thrives, with a focus on upskilling, reskilling, and staying current with the latest AI advancements.\n",
       "* Employees are encouraged to pursue certifications, attend conferences, participate in online courses, and engage in peer-to-peer knowledge sharing.\n",
       "\n",
       "**Diversity, Equity, and Inclusion**\n",
       "\n",
       "* The company values diversity, equity, and inclusion (DEI) as essential components of its culture. A welcoming environment is fostered, where everyone feels valued, respected, and empowered to contribute.\n",
       "* DEI initiatives are integrated into daily operations, including unconscious bias training, inclusive hiring practices, and employee resource groups.\n",
       "\n",
       "**Wellness and Work-Life Balance**\n",
       "\n",
       "* The fast-paced nature of the startup means that work-life balance can be challenging. However, the company prioritizes employee wellness by offering flexible working hours, mental health support, and regular breaks.\n",
       "* Wellness initiatives, such as meditation sessions, fitness classes, or on-site yoga, help employees recharge and maintain a healthy balance between work and personal life.\n",
       "\n",
       "**Recognition and Rewards**\n",
       "\n",
       "* The company recognizes and rewards outstanding performance, innovation, and teamwork. This can take the form of bonuses, stock options, or public recognition.\n",
       "* Employees are celebrated for their achievements, and their contributions are acknowledged and valued by the organization.\n",
       "\n",
       "In summary, the company culture of a fast-growing AI startup is characterized by:\n",
       "\n",
       "1. Collaboration and innovation\n",
       "2. Fast-paced and adaptable environment\n",
       "3. Data-driven decision making\n",
       "4. Autonomy and accountability\n",
       "5. Continuous learning\n",
       "6. Diversity, equity, and inclusion\n",
       "7. Wellness and work-life balance\n",
       "8. Recognition and rewards\n",
       "\n",
       "This culture fosters a dynamic, high-energy environment where employees can thrive, grow professionally, and contribute to the company's rapid growth and success."
      ],
      "text/plain": [
       "<IPython.core.display.Markdown object>"
      ]
     },
     "metadata": {},
     "output_type": "display_data"
    },
    {
     "name": "stdout",
     "output_type": "stream",
     "text": [
      "\n",
      "temperature = 0.9\n"
     ]
    },
    {
     "data": {
      "text/markdown": [
       "**Response:**\n",
       "The thrill of working for a fast-growing AI startup! Here's what you might experience:\n",
       "\n",
       "**Collaborative Environment**: With a rapid pace of innovation, the company culture is built around collaboration and open communication. Team members from different departments regularly meet to discuss ongoing projects, share insights, and brainstorm new ideas. This fosters a sense of unity and encourages knowledge sharing.\n",
       "\n",
       "**Innovative Spirit**: The startup's DNA is rooted in innovation, experimentation, and calculated risk-taking. Employees are encouraged to think outside the box, challenge assumptions, and explore novel solutions. Failure is not seen as an end, but rather as a stepping stone for growth and learning.\n",
       "\n",
       "**Fast-Paced and Adaptable**: With new developments emerging daily, the company culture adapts quickly to changing circumstances. This means being prepared to pivot or adjust strategies as needed. Team members must be comfortable with ambiguity and willing to navigate uncharted territory.\n",
       "\n",
       "**Mentorship and Growth Opportunities**: A fast-growing AI startup needs talented individuals who are eager to learn and grow. The company invests in its people, providing opportunities for professional development, training, and mentorship. This creates a culture of continuous learning, where employees can advance their skills and take on more responsibility.\n",
       "\n",
       "**Agile Methodologies**: To keep up with the rapid pace, the startup employs agile methodologies, such as Scrum or Kanban, to manage projects and prioritize tasks. This ensures that everyone is aligned, efficient, and focused on delivering high-quality results.\n",
       "\n",
       "**Recognition and Rewards**: The company acknowledges and rewards outstanding contributions from team members. This might include bonuses, stock options, or special perks. Recognition motivates employees to push boundaries and strive for excellence.\n",
       "\n",
       "**Diversity, Equity, and Inclusion**: With a global pool of talented individuals, the startup prioritizes diversity, equity, and inclusion (DEI). The company actively promotes a culture where everyone feels valued, respected, and empowered to succeed.\n",
       "\n",
       "**Wellness and Work-Life Balance**: As AI development can be intense and demanding, the company recognizes the importance of wellness and work-life balance. Employees are encouraged to take breaks, prioritize self-care, and maintain a healthy work-life balance to avoid burnout.\n",
       "\n",
       "**Fun and Social Events**: After all that hard work, it's essential to have some fun! The startup organizes regular social events, team-building activities, and celebrations to foster camaraderie and boost morale. Think hackathons, game nights, or outings with friends and family.\n",
       "\n",
       "**Transparency and Accountability**: With rapid growth comes the need for transparency and accountability. The company emphasizes open communication, setting clear goals and expectations while ensuring everyone understands their role in achieving them. This builds trust among team members and keeps everyone aligned towards common objectives.\n",
       "\n",
       "In summary, a fast-growing AI startup's culture is characterized by collaboration, innovation, adaptability, mentorship, agility, recognition, diversity, wellness, fun, and transparency. These elements combine to create an environment where talented individuals can thrive, grow, and make meaningful contributions to the company's success."
      ],
      "text/plain": [
       "<IPython.core.display.Markdown object>"
      ]
     },
     "metadata": {},
     "output_type": "display_data"
    }
   ],
   "source": [
    "# Try different temperature values\n",
    "for value in [0.1, 0.5, 0.9]:\n",
    "    print(f\"\\ntemperature = {value}\")\n",
    "    response = query_model('''Describe the company culture of a fast-growing AI startup.''', temperature=value)\n",
    "    display(Markdown(f\"**Response:**\\n{response}\"))"
   ]
  },
  {
   "cell_type": "markdown",
   "id": "f1e90784",
   "metadata": {},
   "source": [
    "## Top_P\n",
    "\n",
    "Understanding top_p in recruitment contexts:\n",
    "- How it affects output quality\n",
    "- Best practices for different tasks\n",
    "- Example scenarios and use cases"
   ]
  },
  {
   "cell_type": "markdown",
   "id": "8086ae27",
   "metadata": {},
   "source": [
    "### Skill Matching\n",
    "\n",
    "Testing top_p with this recruiting scenario:\n",
    "```\n",
    "Given a job requirement for 'Python, TensorFlow, and AWS experience', analyze if a candidate with 'extensive Python, PyTorch background, and GCP expertise' is a good match.\n",
    "```"
   ]
  },
  {
   "cell_type": "code",
   "execution_count": 5,
   "id": "e2be8466",
   "metadata": {},
   "outputs": [
    {
     "name": "stdout",
     "output_type": "stream",
     "text": [
      "\n",
      "top_p = 10\n"
     ]
    },
    {
     "data": {
      "text/markdown": [
       "**Response:**\n",
       "Based on the provided information, let's analyze whether the candidate is a good match for the given job requirement:\n",
       "\n",
       "**Job Requirement:** \"Python, TensorFlow, and AWS experience\"\n",
       "\n",
       "**Candidate Profile:**\n",
       "\n",
       "* \"Extensive Python\" (check)\n",
       "* \"PyTorch background\" ( PyTorch is a deep learning framework in Python, check)\n",
       "* \"GCP expertise\" (Google Cloud Platform, not Amazon Web Services (AWS), mismatch with job requirement)\n",
       "\n",
       "Now, let's evaluate the candidate's profile against the job requirements:\n",
       "\n",
       "1. **Python experience**: The candidate has extensive Python experience, which matches the requirement.\n",
       "2. **TensorFlow experience**: Although PyTorch is mentioned as a background, TensorFlow was specifically mentioned in the job requirement. Unfortunately, there's no direct evidence of the candidate having TensorFlow experience. ( partial match)\n",
       "3. **AWS experience**: This is where the mismatch occurs. The candidate has expertise in Google Cloud Platform (GCP), not Amazon Web Services (AWS).\n",
       "\n",
       "Considering these points, it appears that the candidate has a strong Python background and some deep learning experience with PyTorch. However, they lack direct experience with TensorFlow, which might be a concern for this specific job requirement.\n",
       "\n",
       "Moreover, the mismatch in cloud platform expertise (GCP instead of AWS) makes it less likely that the candidate is a good match for the job requirement.\n",
       "\n",
       "To determine whether the candidate is still a good fit, you may want to ask additional questions during the interview process, such as:\n",
       "\n",
       "* How familiar are you with TensorFlow, and have you worked on any projects involving this framework?\n",
       "* What experience do you have working with AWS, or are you interested in learning more about it?\n",
       "\n",
       "Based on these answers, you can assess whether the candidate is willing to learn TensorFlow and adapt to the AWS environment. If they demonstrate a willingness to learn and grow with the company, their overall qualifications might still justify an interview."
      ],
      "text/plain": [
       "<IPython.core.display.Markdown object>"
      ]
     },
     "metadata": {},
     "output_type": "display_data"
    },
    {
     "name": "stdout",
     "output_type": "stream",
     "text": [
      "\n",
      "top_p = 40\n"
     ]
    },
    {
     "data": {
      "text/markdown": [
       "**Response:**\n",
       "A great question!\n",
       "\n",
       "Initially, it seems like there's a mismatch between the required skills (Python, TensorFlow, and AWS) and the candidate's profile (Python, PyTorch, and GCP). However, let's dig deeper to analyze if this candidate can still be a good match:\n",
       "\n",
       "1. **Python**: The candidate has extensive Python experience, which is a must-have for the job requirement.\n",
       "2. **TensorFlow vs. PyTorch**: While TensorFlow was specifically mentioned in the job requirement, having experience with PyTorch is not necessarily a deal-breaker. Both are popular deep learning frameworks, and skills can be transferable between them. In fact, many machine learning engineers have experience with both.\n",
       "3. **AWS vs. GCP**: Here's where things get interesting. The candidate has expertise in Google Cloud Platform (GCP), while the job requirement asks for Amazon Web Services (AWS) experience. However, knowledge of cloud computing platforms is transferable to some extent. A candidate with GCP experience can still learn AWS and adapt to its ecosystem.\n",
       "\n",
       "To mitigate potential concerns:\n",
       "\n",
       "* **Highlight transferable skills**: Emphasize the candidate's Python background and machine learning expertise in their cover letter or resume.\n",
       "* **Showcase ability to learn**: Highlight any experience the candidate has with other cloud platforms, such as AWS, or a willingness to learn and adapt to new technologies.\n",
       "* **Be prepared to address specific questions**: In an interview, be prepared to answer questions about how you would approach learning AWS and TensorFlow (if you haven't worked with them before).\n",
       "\n",
       "Conclusion:\n",
       "While there might be some differences between the candidate's profile and the job requirement, a strong Python background, deep learning expertise, and willingness to learn can still make this candidate a good match. It's essential for the candidate to highlight transferable skills, showcase their ability to learn, and demonstrate enthusiasm for adapting to new technologies."
      ],
      "text/plain": [
       "<IPython.core.display.Markdown object>"
      ]
     },
     "metadata": {},
     "output_type": "display_data"
    },
    {
     "name": "stdout",
     "output_type": "stream",
     "text": [
      "\n",
      "top_p = 100\n"
     ]
    },
    {
     "data": {
      "text/markdown": [
       "**Response:**\n",
       "What a delightful question!\n",
       "\n",
       "Let's break down the requirements:\n",
       "\n",
       "**Job requirement:**\n",
       "\n",
       "* Python\n",
       "* TensorFlow (specifically mentioned)\n",
       "* AWS experience\n",
       "\n",
       "**Candidate profile:**\n",
       "\n",
       "* Extensive Python background\n",
       "* PyTorch background (not TensorFlow, which might be a concern)\n",
       "* GCP (Google Cloud Platform) expertise (not AWS, which might also be a concern)\n",
       "\n",
       "Now, let's analyze the match:\n",
       "\n",
       "1. **Python**: The candidate has an extensive Python background, which meets the requirement.\n",
       "2. **TensorFlow**: Here's where things get interesting. While the candidate is experienced with PyTorch, they don't have explicit experience with TensorFlow, which is specifically mentioned in the job requirement. This might be a concern for the hiring manager, as it's unclear how well the candidate can adapt to TensorFlow or whether their PyTorch expertise translates seamlessly.\n",
       "3. **AWS**: The candidate has no AWS experience, while the job requirement specifies that they need someone with AWS experience. This is a significant mismatch.\n",
       "\n",
       "So, what do we have?\n",
       "\n",
       "* Strong Python skills (check!)\n",
       "* Concern about TensorFlow expertise (minor concern)\n",
       "* Significant mismatch in cloud platform expertise (major concern)\n",
       "\n",
       "Based on this analysis, I would say that the candidate is not an ideal match for the job requirement. While they may possess some relevant skills and experience, their lack of AWS expertise and unfamiliarity with TensorFlow (specifically) might make it challenging for them to excel in the role.\n",
       "\n",
       "However, don't dismiss the candidate entirely! If the hiring manager is open to considering candidates who need additional training or onboarding, this individual might still be a strong contender."
      ],
      "text/plain": [
       "<IPython.core.display.Markdown object>"
      ]
     },
     "metadata": {},
     "output_type": "display_data"
    }
   ],
   "source": [
    "# Try different top_p values\n",
    "for value in [10, 40, 100]:\n",
    "    print(f\"\\ntop_p = {value}\")\n",
    "    response = query_model('''Given a job requirement for 'Python, TensorFlow, and AWS experience', analyze if a candidate with 'extensive Python, PyTorch background, and GCP expertise' is a good match.''', top_p=value)\n",
    "    display(Markdown(f\"**Response:**\\n{response}\"))"
   ]
  },
  {
   "cell_type": "markdown",
   "id": "4af62a93",
   "metadata": {},
   "source": [
    "### Candidate Evaluation\n",
    "\n",
    "Testing top_p with this recruiting scenario:\n",
    "```\n",
    "Evaluate a software engineer candidate based on: 5 years Python, 3 years ML deployment, team lead experience.\n",
    "```"
   ]
  },
  {
   "cell_type": "code",
   "execution_count": 6,
   "id": "00ea2b77",
   "metadata": {},
   "outputs": [
    {
     "name": "stdout",
     "output_type": "stream",
     "text": [
      "\n",
      "top_p = 10\n"
     ]
    },
    {
     "data": {
      "text/markdown": [
       "**Response:**\n",
       "Based on the candidate's background and experience, here's an evaluation of their strengths and weaknesses as a software engineer:\n",
       "\n",
       "**Technical Skills:**\n",
       "\n",
       "* **Python:** With 5 years of experience in Python, the candidate has a strong foundation in programming language fundamentals. They likely have hands-on experience with popular libraries like NumPy, pandas, scikit-learn, and TensorFlow.\n",
       "* **ML Deployment:** The candidate's 3-year experience in ML deployment suggests they have a solid understanding of machine learning concepts and their application to real-world problems. They may be familiar with frameworks like Scikit-Learn, TensorFlow, or PyTorch.\n",
       "\n",
       "**Leadership Experience:**\n",
       "\n",
       "* **Team Lead:** As a team lead, the candidate has likely developed skills in:\n",
       "\t+ Mentoring and guiding junior engineers\n",
       "\t+ Prioritizing tasks and managing multiple projects simultaneously\n",
       "\t+ Effective communication and collaboration with cross-functional teams\n",
       "\n",
       "**Strengths:**\n",
       "\n",
       "1. **Technical expertise**: The candidate's 5 years of Python experience and 3 years of ML deployment demonstrate a strong foundation in both programming language and machine learning.\n",
       "2. **Leadership potential**: Having been a team lead, the candidate has likely developed leadership skills that can be valuable in a software engineering role.\n",
       "3. **Real-world experience**: The candidate's experience in deploying machine learning models suggests they have hands-on experience with real-world problems and have worked on projects that required collaboration with non-technical stakeholders.\n",
       "\n",
       "**Weaknesses:**\n",
       "\n",
       "1. **Limited breadth of expertise**: While the candidate has strong technical skills, their focus on ML deployment and Python might mean they don't have as much experience in other areas like front-end development, database management, or cloud computing.\n",
       "2. **Possibly too specialized**: The candidate's deep dive into ML deployment might make them less versatile than engineers with a broader range of experiences.\n",
       "\n",
       "**Interview Questions:**\n",
       "\n",
       "1. Can you walk me through your experience with machine learning deployments? How have you approached this task in the past?\n",
       "2. How do you prioritize tasks and manage multiple projects simultaneously as a team lead?\n",
       "3. Tell me about a particularly challenging ML deployment project you worked on. How did you overcome any obstacles that arose during development?\n",
       "\n",
       "**Assessment:**\n",
       "\n",
       "The candidate is likely a strong technical professional with a deep understanding of Python, machine learning, and deployment. Their leadership experience suggests they are capable of mentoring others and managing projects effectively.\n",
       "\n",
       "To further evaluate the candidate's fit for the role, consider asking follow-up questions to drill down on their specific experiences and skill sets. You may also want to ask behavioral questions to assess their problem-solving skills, ability to work under pressure, and capacity to learn from failures."
      ],
      "text/plain": [
       "<IPython.core.display.Markdown object>"
      ]
     },
     "metadata": {},
     "output_type": "display_data"
    },
    {
     "name": "stdout",
     "output_type": "stream",
     "text": [
      "\n",
      "top_p = 40\n"
     ]
    },
    {
     "data": {
      "text/markdown": [
       "**Response:**\n",
       "Based on the candidate's experience and qualifications, here's an evaluation of their strengths and areas for improvement:\n",
       "\n",
       "**Strengths:**\n",
       "\n",
       "1. **Python expertise**: With 5 years of experience in Python, the candidate has a strong foundation in programming languages, data structures, and algorithms. This is essential for any software engineer role.\n",
       "2. **Machine Learning (ML) deployment experience**: The candidate's 3-year experience in ML deployment is impressive, considering most ML models require significant expertise to deploy successfully. This demonstrates their ability to apply ML concepts to real-world problems and collaborate with stakeholders on model implementation.\n",
       "3. **Team lead experience**: As a team lead, the candidate has likely developed strong leadership, communication, and project management skills. These are valuable assets for any software engineer role, particularly in an Agile environment.\n",
       "\n",
       "**Areas for Improvement:**\n",
       "\n",
       "1. **Depth of knowledge in ML**: While 3 years of ML deployment experience is impressive, it's essential to understand the underlying concepts and algorithms involved. The candidate may benefit from exploring advanced topics like Bayesian methods, reinforcement learning, or transfer learning.\n",
       "2. **Data engineering skills**: As a software engineer, data engineering is an crucial aspect of working with ML models. The candidate should demonstrate proficiency in handling large datasets, data processing pipelines, and data warehousing concepts.\n",
       "3. **Cloud computing experience**: Many modern applications involve cloud-based infrastructure. If the candidate doesn't have hands-on experience with cloud services like AWS, Azure, or Google Cloud, they should be willing to learn and adapt.\n",
       "\n",
       "**Interview Questions:**\n",
       "\n",
       "1. Can you walk us through your experience in deploying ML models? How did you ensure model accuracy and handle potential biases?\n",
       "2. How do you approach data preprocessing and feature engineering when working with large datasets?\n",
       "3. Describe a project where you led a team to develop an ML-based solution. What were some of the challenges, and how did you overcome them?\n",
       "4. Can you explain your understanding of [specific ML algorithm or concept]? How have you applied it in previous projects?\n",
       "5. How do you stay up-to-date with advancements in the field? Can you give us an example of a recent paper or article that caught your attention?\n",
       "\n",
       "**Next Steps:**\n",
       "\n",
       "1. Conduct a technical interview to assess their problem-solving skills, coding abilities, and understanding of ML concepts.\n",
       "2. Ask for specific examples of projects they've worked on, including challenges overcome and lessons learned.\n",
       "3. Evaluate their teamwork and leadership experiences by asking about collaboration methods, conflict resolution strategies, and mentorship approaches.\n",
       "4. Provide a take-home assignment or case study to test their skills in Python, data engineering, and ML deployment.\n",
       "\n",
       "**Hiring Decision:**\n",
       "\n",
       "If the candidate demonstrates strong technical skills, excellent problem-solving abilities, and effective communication, they would be a top contender for the software engineer role. Their team lead experience and ML deployment expertise will also serve them well in this position."
      ],
      "text/plain": [
       "<IPython.core.display.Markdown object>"
      ]
     },
     "metadata": {},
     "output_type": "display_data"
    },
    {
     "name": "stdout",
     "output_type": "stream",
     "text": [
      "\n",
      "top_p = 100\n"
     ]
    },
    {
     "data": {
      "text/markdown": [
       "**Response:**\n",
       "Here's an evaluation of the software engineer candidate based on their 5 years of Python experience, 3 years of machine learning (ML) deployment experience, and team lead experience:\n",
       "\n",
       "**Python Experience (5 years)**\n",
       "\n",
       "* Strong foundation in Python programming language\n",
       "* Understands best practices for coding style, testing, and debugging\n",
       "* Familiar with popular Python libraries and frameworks (e.g., NumPy, pandas, scikit-learn, Flask/Django)\n",
       "* Has a good grasp of data structures, algorithms, and software design principles\n",
       "\n",
       "**Machine Learning Deployment Experience (3 years)**\n",
       "\n",
       "* Hands-on experience in deploying ML models in production environments\n",
       "* Understands the importance of data preprocessing, feature engineering, model training, and evaluation\n",
       "* Familiar with popular ML deployment platforms and tools (e.g., TensorFlow, PyTorch, scikit-learn, AWS SageMaker)\n",
       "* Can design and implement model serving architectures, including API design and containerization\n",
       "\n",
       "**Team Lead Experience**\n",
       "\n",
       "* Has managed a team or contributed to collaborative projects in the past\n",
       "* Understands the importance of effective communication, delegation, and leadership\n",
       "* Can prioritize tasks, manage competing demands, and meet project deadlines\n",
       "* Familiar with agile development methodologies (e.g., Scrum, Kanban)\n",
       "\n",
       "**Overall Evaluation**\n",
       "\n",
       "Based on this candidate's experience, they demonstrate a strong foundation in Python programming and machine learning. Their 3 years of ML deployment experience shows they can successfully deploy models in production environments.\n",
       "\n",
       "As a team lead, the candidate has demonstrated leadership skills, which is crucial for managing complex projects and teams. Their ability to prioritize tasks, manage competing demands, and meet project deadlines suggests they are well-organized and proactive.\n",
       "\n",
       "**Potential Strengths**\n",
       "\n",
       "* Strong technical foundation in Python and ML\n",
       "* Proven experience in deploying ML models in production environments\n",
       "* Leadership skills and ability to manage teams\n",
       "\n",
       "**Potential Weaknesses**\n",
       "\n",
       "* Limited breadth of experience: While the candidate has significant experience in ML deployment, their experience is concentrated in this area. It's unclear how well they would adapt to other areas of software engineering.\n",
       "* No explicit evidence of learning new technologies or adapting to changing project requirements.\n",
       "\n",
       "**Recommendations**\n",
       "\n",
       "1. **Technical Interview**: Conduct a technical interview to assess the candidate's problem-solving skills, coding abilities, and understanding of ML concepts.\n",
       "2. **Behavioral Questions**: Ask behavioral questions to gauge their leadership experience, teamwork skills, and adaptability in the face of change.\n",
       "3. **Project Evaluation**: Evaluate the candidate's previous projects or contributions to understand their ability to design, develop, and deploy software systems.\n",
       "\n",
       "**Conclusion**\n",
       "\n",
       "This candidate demonstrates a strong technical foundation and significant experience in ML deployment. Their team lead experience suggests they have the leadership skills necessary to manage complex projects. While there are no explicit weaknesses, it's essential to assess their adaptability to new technologies and project requirements during the interview process."
      ],
      "text/plain": [
       "<IPython.core.display.Markdown object>"
      ]
     },
     "metadata": {},
     "output_type": "display_data"
    }
   ],
   "source": [
    "# Try different top_p values\n",
    "for value in [10, 40, 100]:\n",
    "    print(f\"\\ntop_p = {value}\")\n",
    "    response = query_model('''Evaluate a software engineer candidate based on: 5 years Python, 3 years ML deployment, team lead experience.''', top_p=value)\n",
    "    display(Markdown(f\"**Response:**\\n{response}\"))"
   ]
  },
  {
   "cell_type": "markdown",
   "id": "c8114baa",
   "metadata": {},
   "source": [
    "### Role Requirements\n",
    "\n",
    "Testing top_p with this recruiting scenario:\n",
    "```\n",
    "List the key requirements for a Machine Learning Engineer position.\n",
    "```"
   ]
  },
  {
   "cell_type": "code",
   "execution_count": 7,
   "id": "6917f810",
   "metadata": {},
   "outputs": [
    {
     "name": "stdout",
     "output_type": "stream",
     "text": [
      "\n",
      "top_p = 10\n"
     ]
    },
    {
     "data": {
      "text/markdown": [
       "**Response:**\n",
       "Here are the key requirements for a Machine Learning Engineer (MLE) position:\n",
       "\n",
       "**Technical Skills:**\n",
       "\n",
       "1. **Programming skills:** Proficiency in one or more programming languages, such as Python, R, Java, C++, or MATLAB.\n",
       "2. **Machine learning frameworks:** Familiarity with popular machine learning frameworks like TensorFlow, PyTorch, Scikit-learn, Keras, or OpenCV.\n",
       "3. **Deep learning:** Knowledge of deep learning techniques, including neural networks, convolutional neural networks (CNNs), recurrent neural networks (RNNs), and long short-term memory (LSTM) networks.\n",
       "4. **Data preprocessing:** Ability to clean, preprocess, and visualize data for machine learning models.\n",
       "5. **Model evaluation:** Understanding of metrics used to evaluate machine learning model performance, such as accuracy, precision, recall, F1-score, and loss functions.\n",
       "6. **Cloud computing:** Familiarity with cloud-based platforms like AWS, Google Cloud, or Azure, including their machine learning services (e.g., SageMaker, AutoML).\n",
       "7. **Data visualization:** Ability to create meaningful visualizations of data and models using tools like Matplotlib, Seaborn, Plotly, or Tableau.\n",
       "8. **SQL:** Knowledge of SQL and ability to interact with relational databases.\n",
       "\n",
       "**Mathematical Skills:**\n",
       "\n",
       "1. **Linear algebra:** Understanding of linear algebra concepts, such as vector spaces, matrix operations, and eigendecomposition.\n",
       "2. **Calculus:** Familiarity with differential calculus, including optimization techniques like gradient descent.\n",
       "3. **Statistics:** Knowledge of statistical inference, hypothesis testing, and confidence intervals.\n",
       "\n",
       "**Software Development Skills:**\n",
       "\n",
       "1. **Version control:** Proficiency with version control systems like Git or SVN.\n",
       "2. **Development frameworks:** Understanding of software development frameworks, such as Flask or Django (for Python) or Spring Boot (for Java).\n",
       "3. **Testing:** Familiarity with testing frameworks and methodologies, including unit testing, integration testing, and continuous integration.\n",
       "\n",
       "**Soft Skills:**\n",
       "\n",
       "1. **Communication:** Ability to effectively communicate complex technical concepts to both technical and non-technical stakeholders.\n",
       "2. **Collaboration:** Willingness to work collaboratively with cross-functional teams, including data scientists, product managers, and software engineers.\n",
       "3. **Problem-solving:** Strong problem-solving skills and ability to debug and troubleshoot machine learning models.\n",
       "4. **Adaptability:** Ability to adapt to new technologies, frameworks, and tools quickly.\n",
       "\n",
       "**Education:**\n",
       "\n",
       "1. **Bachelor's or Master's degree:** A bachelor's or master's degree in Computer Science, Mathematics, Statistics, Engineering, or a related field.\n",
       "2. **Research experience:** Research experience in machine learning or a related field is often preferred.\n",
       "\n",
       "Keep in mind that specific requirements may vary depending on the company, industry, and specific job description."
      ],
      "text/plain": [
       "<IPython.core.display.Markdown object>"
      ]
     },
     "metadata": {},
     "output_type": "display_data"
    },
    {
     "name": "stdout",
     "output_type": "stream",
     "text": [
      "\n",
      "top_p = 40\n"
     ]
    },
    {
     "data": {
      "text/markdown": [
       "**Response:**\n",
       "Here are the common key requirements for a Machine Learning Engineer (MLE) position:\n",
       "\n",
       "**Education:**\n",
       "\n",
       "1. Bachelor's or Master's degree in Computer Science, Electrical Engineering, Mathematics, Statistics, or a related field.\n",
       "2. Strong foundations in computer science, mathematics, and statistics.\n",
       "\n",
       "**Technical Skills:**\n",
       "\n",
       "1. Programming skills in languages such as Python, Java, C++, or R.\n",
       "2. Experience with machine learning frameworks such as TensorFlow, PyTorch, Scikit-learn, or Keras.\n",
       "3. Familiarity with deep learning concepts, including neural networks, convolutional networks, and recurrent networks.\n",
       "4. Knowledge of linear algebra, calculus, probability, and statistics.\n",
       "5. Understanding of data structures, algorithms, and software design patterns.\n",
       "6. Experience with big data technologies such as Hadoop, Spark, or NoSQL databases.\n",
       "\n",
       "**Machine Learning Skills:**\n",
       "\n",
       "1. Hands-on experience with supervised and unsupervised machine learning techniques (e.g., regression, classification, clustering, dimensionality reduction).\n",
       "2. Familiarity with popular ML libraries and tools (e.g., scikit-learn, TensorFlow, PyTorch).\n",
       "3. Understanding of model evaluation metrics (e.g., accuracy, precision, recall, F1-score, AUC-ROC).\n",
       "4. Ability to design, train, and deploy machine learning models using a variety of algorithms.\n",
       "\n",
       "**Data Analysis and Visualization:**\n",
       "\n",
       "1. Experience with data preprocessing, feature engineering, and visualization techniques.\n",
       "2. Familiarity with data analysis tools such as pandas, NumPy, or Matplotlib.\n",
       "3. Understanding of data quality control and normalization processes.\n",
       "\n",
       "**Software Engineering Skills:**\n",
       "\n",
       "1. Proficiency in software development life cycles (e.g., Agile, Waterfall).\n",
       "2. Experience with version control systems such as Git.\n",
       "3. Knowledge of DevOps practices and cloud computing platforms (e.g., AWS, Azure, Google Cloud).\n",
       "\n",
       "**Collaboration and Communication:**\n",
       "\n",
       "1. Strong written and verbal communication skills to effectively collaborate with cross-functional teams.\n",
       "2. Ability to explain complex technical concepts to non-technical stakeholders.\n",
       "\n",
       "**Other Requirements:**\n",
       "\n",
       "1. Strong problem-solving skills and ability to debug issues.\n",
       "2. Experience working with large datasets and high-performance computing environments.\n",
       "3. Familiarity with data governance and compliance regulations (e.g., GDPR, HIPAA).\n",
       "4. Willingness to continuously learn and stay up-to-date with the latest advancements in machine learning.\n",
       "\n",
       "Keep in mind that specific requirements may vary depending on the company, industry, or job description."
      ],
      "text/plain": [
       "<IPython.core.display.Markdown object>"
      ]
     },
     "metadata": {},
     "output_type": "display_data"
    },
    {
     "name": "stdout",
     "output_type": "stream",
     "text": [
      "\n",
      "top_p = 100\n"
     ]
    },
    {
     "data": {
      "text/markdown": [
       "**Response:**\n",
       "Here are the key requirements for a Machine Learning Engineer position:\n",
       "\n",
       "**Education**\n",
       "\n",
       "* Bachelor's or Master's degree in Computer Science, Electrical Engineering, Mathematics, Statistics, or related fields.\n",
       "* Strong foundation in machine learning algorithms and statistical modeling.\n",
       "\n",
       "**Technical Skills**\n",
       "\n",
       "1. **Programming skills**: Proficiency in one or more programming languages such as Python, Java, C++, R, or MATLAB.\n",
       "2. **Machine Learning frameworks**: Familiarity with popular machine learning frameworks such as TensorFlow, PyTorch, Scikit-learn, Keras, etc.\n",
       "3. **Data structures and algorithms**: Knowledge of data structures (e.g., arrays, linked lists, trees) and algorithms (e.g., sorting, searching, clustering).\n",
       "4. **Mathematics**: Strong understanding of linear algebra, calculus, probability, and statistics.\n",
       "5. **Deep learning**: Familiarity with deep learning concepts such as neural networks, convolutional networks, recurrent networks, and autoencoders.\n",
       "6. ** Big Data processing**: Knowledge of big data processing frameworks such as Apache Spark, Hadoop, or AWS Glue.\n",
       "\n",
       "**Soft Skills**\n",
       "\n",
       "1. **Communication skills**: Ability to clearly explain complex technical concepts to both technical and non-technical stakeholders.\n",
       "2. **Collaboration skills**: Experience working in teams and collaborating with other engineers, data scientists, and stakeholders.\n",
       "3. **Problem-solving skills**: Strong analytical and problem-solving skills to design and develop effective machine learning solutions.\n",
       "4. **Adaptability**: Willingness to learn new technologies, frameworks, and tools as needed.\n",
       "\n",
       "**Experience**\n",
       "\n",
       "* Typically 2-5 years of experience in machine learning or a related field (e.g., data science, artificial intelligence).\n",
       "* Experience with specific industry domains such as computer vision, natural language processing, recommender systems, etc.\n",
       "* Familiarity with cloud platforms such as AWS, Azure, Google Cloud, or IBM Cloud.\n",
       "\n",
       "**Certifications**\n",
       "\n",
       "While not always required, certifications in machine learning or related fields (e.g., Certified Data Scientist by Data Science Council of America) can be beneficial for career advancement.\n",
       "\n",
       "Please note that these requirements may vary depending on the company, role, and industry."
      ],
      "text/plain": [
       "<IPython.core.display.Markdown object>"
      ]
     },
     "metadata": {},
     "output_type": "display_data"
    }
   ],
   "source": [
    "# Try different top_p values\n",
    "for value in [10, 40, 100]:\n",
    "    print(f\"\\ntop_p = {value}\")\n",
    "    response = query_model('''List the key requirements for a Machine Learning Engineer position.''', top_p=value)\n",
    "    display(Markdown(f\"**Response:**\\n{response}\"))"
   ]
  },
  {
   "cell_type": "markdown",
   "id": "aa024a94",
   "metadata": {},
   "source": [
    "## Top_K\n",
    "\n",
    "Understanding top_k in recruitment contexts:\n",
    "- How it affects output quality\n",
    "- Best practices for different tasks\n",
    "- Example scenarios and use cases"
   ]
  },
  {
   "cell_type": "markdown",
   "id": "9e8c64b4",
   "metadata": {},
   "source": [
    "### Technical Skills\n",
    "\n",
    "Testing top_k with this recruiting scenario:\n",
    "```\n",
    "Extract and categorize technical skills from this resume snippet: 'Developed ML models using TensorFlow, deployed on AWS, managed team of 5 engineers'.\n",
    "```"
   ]
  },
  {
   "cell_type": "code",
   "execution_count": 8,
   "id": "5073eaf0",
   "metadata": {},
   "outputs": [
    {
     "name": "stdout",
     "output_type": "stream",
     "text": [
      "\n",
      "top_k = 10\n"
     ]
    },
    {
     "data": {
      "text/markdown": [
       "**Response:**\n",
       "Here are the technical skills extracted from the resume snippet:\n",
       "\n",
       "**Machine Learning (ML)**\n",
       "\n",
       "* Model development\n",
       "* Framework: TensorFlow\n",
       "\n",
       "**Cloud Computing**\n",
       "\n",
       "* Platform: Amazon Web Services (AWS)\n",
       "* Deployment of ML models\n",
       "\n",
       "**Team Management**\n",
       "\n",
       "* Leadership: Managed a team of 5 engineers\n",
       "* Engineering team management experience\n",
       "\n",
       "These technical skills can be categorized into three groups:\n",
       "\n",
       "1. **Machine Learning**: This skill is related to the development and deployment of machine learning models.\n",
       "2. **Cloud Computing**: This skill is related to the use of cloud platforms, specifically AWS, for deploying ML models.\n",
       "3. **Team Management**: This skill is related to leading and managing a team of engineers.\n",
       "\n",
       "These categories can help highlight the candidate's expertise in specific areas and demonstrate their ability to lead projects and teams."
      ],
      "text/plain": [
       "<IPython.core.display.Markdown object>"
      ]
     },
     "metadata": {},
     "output_type": "display_data"
    },
    {
     "name": "stdout",
     "output_type": "stream",
     "text": [
      "\n",
      "top_k = 40\n"
     ]
    },
    {
     "data": {
      "text/markdown": [
       "**Response:**\n",
       "Here are the technical skills extracted from the resume snippet:\n",
       "\n",
       "**Machine Learning (ML) Skills**\n",
       "\n",
       "* Developed ML models\n",
       "* Used TensorFlow for ML model development\n",
       "\n",
       "**Cloud Computing Skills**\n",
       "\n",
       "* Deployed ML models on Amazon Web Services (AWS)\n",
       "\n",
       "**Team Management Skills**\n",
       "\n",
       "* Managed a team of 5 engineers\n",
       "\n",
       "**Other Technical Skills**\n",
       "\n",
       "* None explicitly mentioned, but it's implied that the candidate has experience working with software engineering teams and deploying models to production environments.\n",
       "\n",
       "Let me know if you'd like me to categorize these skills further or extract any other technical skills from the snippet!"
      ],
      "text/plain": [
       "<IPython.core.display.Markdown object>"
      ]
     },
     "metadata": {},
     "output_type": "display_data"
    },
    {
     "name": "stdout",
     "output_type": "stream",
     "text": [
      "\n",
      "top_k = 100\n"
     ]
    },
    {
     "data": {
      "text/markdown": [
       "**Response:**\n",
       "Here are the technical skills extracted from the resume snippet:\n",
       "\n",
       "**Machine Learning (ML) Skills**\n",
       "\n",
       "1. Model development\n",
       "2. TensorFlow (specifically mentioned)\n",
       "\n",
       "**Cloud Computing Skills**\n",
       "\n",
       "1. Deployment on Amazon Web Services (AWS)\n",
       "\n",
       "**Leadership and Management Skills**\n",
       "\n",
       "1. Team management\n",
       "2. Leadership\n",
       "\n",
       "**Software Development Skills**\n",
       "\n",
       "1. Engineering (not specific to a particular programming language or technology, but implies proficiency in writing code)\n",
       "\n",
       "These technical skills can be categorized into three main areas:\n",
       "\n",
       "1. **Machine Learning and Data Science**: TensorFlow model development\n",
       "2. **Cloud Computing**: Deployment on AWS\n",
       "3. **Leadership and Software Development**: Team management, engineering (writing code)"
      ],
      "text/plain": [
       "<IPython.core.display.Markdown object>"
      ]
     },
     "metadata": {},
     "output_type": "display_data"
    }
   ],
   "source": [
    "# Try different top_k values\n",
    "for value in [10, 40, 100]:\n",
    "    print(f\"\\ntop_k = {value}\")\n",
    "    response = query_model('''Extract and categorize technical skills from this resume snippet: 'Developed ML models using TensorFlow, deployed on AWS, managed team of 5 engineers'.''', top_k=value)\n",
    "    display(Markdown(f\"**Response:**\\n{response}\"))"
   ]
  },
  {
   "cell_type": "markdown",
   "id": "4b30a97f",
   "metadata": {},
   "source": [
    "### Job Categories\n",
    "\n",
    "Testing top_k with this recruiting scenario:\n",
    "```\n",
    "Classify this job posting into relevant categories: 'Senior ML Engineer with focus on NLP and large language models'.\n",
    "```"
   ]
  },
  {
   "cell_type": "code",
   "execution_count": 9,
   "id": "9dc8b119",
   "metadata": {},
   "outputs": [
    {
     "name": "stdout",
     "output_type": "stream",
     "text": [
      "\n",
      "top_k = 10\n"
     ]
    },
    {
     "data": {
      "text/markdown": [
       "**Response:**\n",
       "Here are the relevant categories for this job posting:\n",
       "\n",
       "1. **Job Title:** Senior Machine Learning (ML) Engineer\n",
       "2. **Industry:** Technology, AI/Artificial Intelligence\n",
       "3. **Specialization:** Natural Language Processing (NLP), Large Language Models\n",
       "4. **Level:** Senior (experience and expertise expected)\n",
       "5. **Skills:**\n",
       "\t* Machine Learning (ML)\n",
       "\t* Natural Language Processing (NLP)\n",
       "\t* Large Language Models\n",
       "6. **Function:** Engineering, Research and Development\n",
       "\n",
       "These categories should help recruiters, job boards, or anyone searching for relevant job postings to quickly identify the type of position being advertised."
      ],
      "text/plain": [
       "<IPython.core.display.Markdown object>"
      ]
     },
     "metadata": {},
     "output_type": "display_data"
    },
    {
     "name": "stdout",
     "output_type": "stream",
     "text": [
      "\n",
      "top_k = 40\n"
     ]
    },
    {
     "data": {
      "text/markdown": [
       "**Response:**\n",
       "Here are the relevant categories for this job posting:\n",
       "\n",
       "**Job Title:** Senior ML Engineer\n",
       "**Focus Areas:**\n",
       "\t+ Natural Language Processing (NLP)\n",
       "\t+ Large Language Models\n",
       "\n",
       "**Categories:**\n",
       "\n",
       "1. **Job Function:** Engineering, Technical\n",
       "2. **Industry/Domain:** Technology, Data Science, Artificial Intelligence\n",
       "3. **Specialization:** Machine Learning, NLP, Language Modeling\n",
       "4. **Level:** Senior, Experienced\n",
       "\n",
       "These categories help to quickly identify the job posting's relevance to certain fields or areas of expertise."
      ],
      "text/plain": [
       "<IPython.core.display.Markdown object>"
      ]
     },
     "metadata": {},
     "output_type": "display_data"
    },
    {
     "name": "stdout",
     "output_type": "stream",
     "text": [
      "\n",
      "top_k = 100\n"
     ]
    },
    {
     "data": {
      "text/markdown": [
       "**Response:**\n",
       "Here are the relevant categories for this job posting:\n",
       "\n",
       "1. **Job Title**: Senior Machine Learning Engineer\n",
       "2. **Industry/Field**: Artificial Intelligence (AI), Natural Language Processing (NLP)\n",
       "3. **Technology**: Machine Learning, Large Language Models\n",
       "4. **Skills Required**:\n",
       "\t* NLP\n",
       "\t* Large language models\n",
       "\t* Machine learning engineering\n",
       "5. **Level**: Senior (experienced professional with a high level of expertise)\n",
       "6. **Function**: Engineering/Development\n",
       "\n",
       "These categories help identify the job posting as a senior-level position in AI/NLP, requiring expertise in machine learning and large language models, with a focus on NLP applications."
      ],
      "text/plain": [
       "<IPython.core.display.Markdown object>"
      ]
     },
     "metadata": {},
     "output_type": "display_data"
    }
   ],
   "source": [
    "# Try different top_k values\n",
    "for value in [10, 40, 100]:\n",
    "    print(f\"\\ntop_k = {value}\")\n",
    "    response = query_model('''Classify this job posting into relevant categories: 'Senior ML Engineer with focus on NLP and large language models'.''', top_k=value)\n",
    "    display(Markdown(f\"**Response:**\\n{response}\"))"
   ]
  },
  {
   "cell_type": "markdown",
   "id": "c84dafdd",
   "metadata": {},
   "source": [
    "### Experience Level\n",
    "\n",
    "Testing top_k with this recruiting scenario:\n",
    "```\n",
    "Determine the experience level from: '7 years building production ML systems, leading teams of 3-8 engineers'.\n",
    "```"
   ]
  },
  {
   "cell_type": "code",
   "execution_count": 10,
   "id": "a326e0d1",
   "metadata": {},
   "outputs": [
    {
     "name": "stdout",
     "output_type": "stream",
     "text": [
      "\n",
      "top_k = 10\n"
     ]
    },
    {
     "data": {
      "text/markdown": [
       "**Response:**\n",
       "Based on the information provided, I would estimate the experience level as follows:\n",
       "\n",
       "* Years of experience: 7\n",
       "* Type of experience: Building production ML systems and leading teams of 3-8 engineers\n",
       "* Level of expertise: Senior or Principal-level (depending on the industry and company)\n",
       "\n",
       "Here's a breakdown of my reasoning:\n",
       "\n",
       "* \"Building production ML systems\" suggests that the individual has hands-on experience with designing, developing, testing, and deploying machine learning models in real-world scenarios. This implies a high level of technical expertise.\n",
       "* \"Leading teams of 3-8 engineers\" indicates that the individual has management or leadership responsibilities, which typically requires strong communication, organizational, and decision-making skills. This suggests a higher level of experience and maturity.\n",
       "\n",
       "In general, someone with this level of experience would likely be considered a Senior ML Engineer or a Principal Engineer in most companies. However, it's worth noting that experience levels can vary depending on the company, industry, and specific job roles."
      ],
      "text/plain": [
       "<IPython.core.display.Markdown object>"
      ]
     },
     "metadata": {},
     "output_type": "display_data"
    },
    {
     "name": "stdout",
     "output_type": "stream",
     "text": [
      "\n",
      "top_k = 40\n"
     ]
    },
    {
     "data": {
      "text/markdown": [
       "**Response:**\n",
       "Based on the information provided, I would determine the experience level to be:\n",
       "\n",
       "**Senior**\n",
       "\n",
       "Here's why:\n",
       "\n",
       "* The person has been building production ML systems for 7 years, which suggests a significant amount of hands-on experience with designing, developing, and deploying machine learning models.\n",
       "* They have led teams of 3-8 engineers, which implies that they have strong leadership skills and the ability to manage and guide other engineers. This level of team management is typically associated with more senior roles.\n",
       "* The fact that they have been leading teams for several years suggests a high level of technical maturity and expertise, as well as an understanding of how to effectively manage and motivate others.\n",
       "\n",
       "Overall, while the person may not have decades of experience in the field, their combination of hands-on experience building production ML systems and leadership responsibilities suggest a senior-level individual with a strong background in machine learning."
      ],
      "text/plain": [
       "<IPython.core.display.Markdown object>"
      ]
     },
     "metadata": {},
     "output_type": "display_data"
    },
    {
     "name": "stdout",
     "output_type": "stream",
     "text": [
      "\n",
      "top_k = 100\n"
     ]
    },
    {
     "data": {
      "text/markdown": [
       "**Response:**\n",
       "Based on the text, I would determine the experience level as:\n",
       "\n",
       "**Senior/Mature Professional**\n",
       "\n",
       "Reasoning:\n",
       "\n",
       "* The phrase \"leading teams\" implies that the person has significant leadership experience and is likely responsible for managing others.\n",
       "* The fact that they're leading teams of 3-8 engineers suggests that they have managed larger teams in the past, which indicates a higher level of seniority.\n",
       "* The mention of building production ML systems implies a high level of technical expertise and proficiency in applying machine learning techniques to real-world problems.\n",
       "* The duration of \"7 years\" building these systems is also significant, as it shows a long-term commitment to developing their skills and experience.\n",
       "\n",
       "Overall, I would categorize this individual as a senior/mature professional with extensive leadership and technical experience."
      ],
      "text/plain": [
       "<IPython.core.display.Markdown object>"
      ]
     },
     "metadata": {},
     "output_type": "display_data"
    }
   ],
   "source": [
    "# Try different top_k values\n",
    "for value in [10, 40, 100]:\n",
    "    print(f\"\\ntop_k = {value}\")\n",
    "    response = query_model('''Determine the experience level from: '7 years building production ML systems, leading teams of 3-8 engineers'.''', top_k=value)\n",
    "    display(Markdown(f\"**Response:**\\n{response}\"))"
   ]
  },
  {
   "cell_type": "markdown",
   "id": "a29e5e0c",
   "metadata": {},
   "source": [
    "## Max_Tokens\n",
    "\n",
    "Understanding max_tokens in recruitment contexts:\n",
    "- How it affects output quality\n",
    "- Best practices for different tasks\n",
    "- Example scenarios and use cases"
   ]
  },
  {
   "cell_type": "markdown",
   "id": "ef509928",
   "metadata": {},
   "source": [
    "### Short Summary\n",
    "\n",
    "Testing max_tokens with this recruiting scenario:\n",
    "```\n",
    "Create a one-sentence summary of this job posting: 'We're seeking a Senior ML Engineer to lead our NLP team, focusing on large language model development and deployment. The ideal candidate has 5+ years of experience in Python, deep learning frameworks, and production ML systems.'\n",
    "```"
   ]
  },
  {
   "cell_type": "code",
   "execution_count": 11,
   "id": "80f97358",
   "metadata": {},
   "outputs": [
    {
     "name": "stdout",
     "output_type": "stream",
     "text": [
      "\n",
      "max_tokens = 50\n"
     ]
    },
    {
     "data": {
      "text/markdown": [
       "**Response:**\n",
       "Here is a one-sentence summary of the job posting:\n",
       "\n",
       "The company is looking for a Senior Machine Learning Engineer with at least 5 years of experience to lead their NLP team and develop and deploy large language models using Python and deep learning frameworks."
      ],
      "text/plain": [
       "<IPython.core.display.Markdown object>"
      ]
     },
     "metadata": {},
     "output_type": "display_data"
    },
    {
     "name": "stdout",
     "output_type": "stream",
     "text": [
      "\n",
      "max_tokens = 150\n"
     ]
    },
    {
     "data": {
      "text/markdown": [
       "**Response:**\n",
       "Here is a one-sentence summary of the job posting:\n",
       "\n",
       "The company is looking for a Senior Machine Learning Engineer with 5+ years of experience to lead their NLP team and develop large language models for deployment."
      ],
      "text/plain": [
       "<IPython.core.display.Markdown object>"
      ]
     },
     "metadata": {},
     "output_type": "display_data"
    },
    {
     "name": "stdout",
     "output_type": "stream",
     "text": [
      "\n",
      "max_tokens = 300\n"
     ]
    },
    {
     "data": {
      "text/markdown": [
       "**Response:**\n",
       "Here is a one-sentence summary of the job posting:\n",
       "\n",
       "The company seeks a Senior Machine Learning (ML) Engineer to lead their NLP team and develop and deploy large language models using Python, deep learning frameworks, and production ML systems."
      ],
      "text/plain": [
       "<IPython.core.display.Markdown object>"
      ]
     },
     "metadata": {},
     "output_type": "display_data"
    }
   ],
   "source": [
    "# Try different max_tokens values\n",
    "for value in [50, 150, 300]:\n",
    "    print(f\"\\nmax_tokens = {value}\")\n",
    "    response = query_model('''Create a one-sentence summary of this job posting: 'We're seeking a Senior ML Engineer to lead our NLP team, focusing on large language model development and deployment. The ideal candidate has 5+ years of experience in Python, deep learning frameworks, and production ML systems.''', max_tokens=value)\n",
    "    display(Markdown(f\"**Response:**\\n{response}\"))"
   ]
  },
  {
   "cell_type": "markdown",
   "id": "f22ff62c",
   "metadata": {},
   "source": [
    "### Detailed Analysis\n",
    "\n",
    "Testing max_tokens with this recruiting scenario:\n",
    "```\n",
    "Provide a detailed analysis of this candidate's qualifications: 'ML Engineer with 6 years experience in Python, TensorFlow, and AWS. Led team of 5 engineers, deployed 10+ ML models to production. PhD in Computer Science with focus on NLP.'\n",
    "```"
   ]
  },
  {
   "cell_type": "code",
   "execution_count": 13,
   "id": "e92358b5",
   "metadata": {},
   "outputs": [
    {
     "name": "stdout",
     "output_type": "stream",
     "text": [
      "\n",
      "max_tokens = 50\n"
     ]
    },
    {
     "data": {
      "text/markdown": [
       "**Response:**\n",
       "Here is a detailed analysis of the candidate's qualifications:\n",
       "\n",
       "**Education**\n",
       "\n",
       "* **PhD in Computer Science**: This is an impressive academic credential that demonstrates the candidate's depth of knowledge in computer science and machine learning. The fact that their PhD focused on"
      ],
      "text/plain": [
       "<IPython.core.display.Markdown object>"
      ]
     },
     "metadata": {},
     "output_type": "display_data"
    },
    {
     "name": "stdout",
     "output_type": "stream",
     "text": [
      "\n",
      "max_tokens = 150\n"
     ]
    },
    {
     "data": {
      "text/markdown": [
       "**Response:**\n",
       "What a stellar candidate! Let's dive into the details:\n",
       "\n",
       "**Experience (6 years)**:\n",
       "A significant amount of time spent honing skills in Python, TensorFlow, and AWS is impressive. This indicates a deep understanding of these technologies and the ability to adapt to new tools and frameworks.\n",
       "\n",
       "**Team Leadership (5 engineers)**:\n",
       "The candidate has demonstrated leadership skills by leading a team of 5 engineers. This experience will be valuable in managing a team, prioritizing tasks, and ensuring project success.\n",
       "\n",
       "**Deployments (10+ ML models to production)**:\n",
       "This is an impressive statistic! It shows that the candidate has successfully deployed multiple machine learning models into production environments, likely with varying levels of complexity. This expertise will be essential for developing and maintaining large"
      ],
      "text/plain": [
       "<IPython.core.display.Markdown object>"
      ]
     },
     "metadata": {},
     "output_type": "display_data"
    },
    {
     "name": "stdout",
     "output_type": "stream",
     "text": [
      "\n",
      "max_tokens = 300\n"
     ]
    },
    {
     "data": {
      "text/markdown": [
       "**Response:**\n",
       "What a impressive set of qualifications! Let's dive into the details:\n",
       "\n",
       "**Education:**\n",
       "\n",
       "* **PhD in Computer Science with focus on NLP**: This is an outstanding foundation for any machine learning (ML) role. The fact that it's focused on Natural Language Processing (NLP) suggests that this candidate has a deep understanding of the theoretical aspects of ML, particularly when it comes to processing and analyzing text data.\n",
       "\n",
       "**Professional Experience:**\n",
       "\n",
       "* **6 years experience in Python, TensorFlow, and AWS**: This candidate has substantial hands-on experience with some of the most popular tools in the ML community. The fact that they've spent 6 years honing their skills in these areas speaks volumes about their ability to learn, adapt, and apply what they know.\n",
       "\n",
       "**Leadership Experience:**\n",
       "\n",
       "* **Led team of 5 engineers**: This is an impressive achievement, especially considering the candidate's relatively young age (assuming they completed their PhD in their mid-to-late 20s). Leading a team implies strong organizational, communication, and project management skills. The fact that this candidate was able to lead a team of experienced engineers suggests they have excellent leadership abilities.\n",
       "\n",
       "**Technical Achievements:**\n",
       "\n",
       "* **Deployed 10+ ML models to production**: This is an impressive technical achievement, demonstrating the candidate's ability to design, develop, test, and deploy complex ML models in a production environment. The fact that they've deployed over 10 models suggests a high level of efficiency and effectiveness in"
      ],
      "text/plain": [
       "<IPython.core.display.Markdown object>"
      ]
     },
     "metadata": {},
     "output_type": "display_data"
    }
   ],
   "source": [
    "# Try different max_tokens values\n",
    "for value in [50, 150, 300]:\n",
    "    print(f\"\\nmax_tokens = {value}\")\n",
    "    response = query_model('''Provide a detailed analysis of this candidate's qualifications: 'ML Engineer with 6 years experience in Python, TensorFlow, and AWS. Led team of 5 engineers, deployed 10+ ML models to production. PhD in Computer Science with focus on NLP.''', num_predict=value)\n",
    "    display(Markdown(f\"**Response:**\\n{response}\"))"
   ]
  },
  {
   "cell_type": "markdown",
   "id": "c59b0cd4",
   "metadata": {},
   "source": [
    "### Company Overview\n",
    "\n",
    "Testing max_tokens with this recruiting scenario:\n",
    "```\n",
    "Generate a company overview of varying lengths for an AI startup specializing in recruitment technology.\n",
    "```"
   ]
  },
  {
   "cell_type": "code",
   "execution_count": 14,
   "id": "27de7788",
   "metadata": {},
   "outputs": [
    {
     "name": "stdout",
     "output_type": "stream",
     "text": [
      "\n",
      "max_tokens = 50\n"
     ]
    },
    {
     "data": {
      "text/markdown": [
       "**Response:**\n",
       "Here are three different company overviews for an AI-powered recruitment technology startup:\n",
       "\n",
       "**Short and Sweet (approx. 50 words)**\n",
       "\n",
       "Introducing [Company Name], the AI-driven recruitment platform revolutionizing the way companies find top talent. Our cutting-edge"
      ],
      "text/plain": [
       "<IPython.core.display.Markdown object>"
      ]
     },
     "metadata": {},
     "output_type": "display_data"
    },
    {
     "name": "stdout",
     "output_type": "stream",
     "text": [
      "\n",
      "max_tokens = 150\n"
     ]
    },
    {
     "data": {
      "text/markdown": [
       "**Response:**\n",
       "Here are three company overviews of varying lengths for an AI-powered recruitment technology startup:\n",
       "\n",
       "**Short Version (150 words)**\n",
       "\n",
       "Introducing [Company Name], the innovative recruitment technology firm revolutionizing the way companies find and hire top talent. Our cutting-edge AI-powered platform uses machine learning algorithms to analyze vast amounts of job market data, candidate profiles, and company requirements. This enables us to provide highly accurate matches between job openings and ideal candidates, streamlining the recruitment process for our clients.\n",
       "\n",
       "With [Company Name], you can say goodbye to tedious job boards and hello to a more efficient, data-driven approach to hiring. Our platform not only reduces time-to-hire but also helps companies make better-informed decisions about their recruitment strategies. Join the future of"
      ],
      "text/plain": [
       "<IPython.core.display.Markdown object>"
      ]
     },
     "metadata": {},
     "output_type": "display_data"
    },
    {
     "name": "stdout",
     "output_type": "stream",
     "text": [
      "\n",
      "max_tokens = 300\n"
     ]
    },
    {
     "data": {
      "text/markdown": [
       "**Response:**\n",
       "Here are three different company overviews for an AI startup specializing in recruitment technology:\n",
       "\n",
       "**Short Version (100-150 words)**\n",
       "\n",
       "Introducing RecruitAI, the innovative recruitment technology startup revolutionizing the way companies find and hire top talent. Our AI-powered platform uses machine learning algorithms to analyze job requirements, candidate profiles, and market trends to identify the best fit for any role. With RecruitAI, recruiters can streamline their process, reduce costs, and make more informed hiring decisions. Our solution is designed to integrate seamlessly with existing HR systems and provides real-time analytics to optimize recruitment strategies. Join us in shaping the future of talent acquisition!\n",
       "\n",
       "**Medium Version (250-350 words)**\n",
       "\n",
       "At RecruitAI, we're passionate about using artificial intelligence to transform the recruitment industry. Our cutting-edge platform leverages machine learning to analyze vast amounts of job posting data, candidate profiles, and market trends, providing unparalleled insights for recruiters. With RecruitAI, hiring managers can effortlessly find the perfect candidate for any role, from entry-level positions to executive leadership roles. Our solution is designed to be user-friendly, efficient, and cost-effective, helping organizations save time, money, and resources. Whether you're a small startup or a large enterprise, our platform helps you make data-driven decisions that drive business results.\n",
       "\n",
       "**Long Version (500-750 words)**\n",
       "\n",
       "Welcome to RecruitAI, the pioneering AI recruitment technology company dedicated to revolutionizing the way companies find and hire top talent. Our mission is to"
      ],
      "text/plain": [
       "<IPython.core.display.Markdown object>"
      ]
     },
     "metadata": {},
     "output_type": "display_data"
    }
   ],
   "source": [
    "# Try different max_tokens values\n",
    "for value in [50, 150, 300]:\n",
    "    print(f\"\\nmax_tokens = {value}\")\n",
    "    response = query_model('''Generate a company overview of varying lengths for an AI startup specializing in recruitment technology.''', num_predict=value)\n",
    "    display(Markdown(f\"**Response:**\\n{response}\"))"
   ]
  },
  {
   "cell_type": "markdown",
   "id": "c9822717",
   "metadata": {},
   "source": [
    "## Best Practices Summary\n",
    "\n",
    "When working with basic parameters in recruitment:\n",
    "\n",
    "1. Temperature (Creativity vs. Consistency)\n",
    "   - Lower (0.1-0.3): Job requirement lists, skill matching\n",
    "   - Medium (0.4-0.6): Job descriptions, company overviews\n",
    "   - Higher (0.7-0.9): Creative job titles, culture descriptions\n",
    "\n",
    "2. Top-p (Nucleus Sampling)\n",
    "   - Lower (0.1-0.3): Strict skill matching, technical requirements\n",
    "   - Medium (0.4-0.6): General job descriptions\n",
    "   - Higher (0.7-0.9): Diverse candidate suggestions\n",
    "\n",
    "3. Top-k\n",
    "   - Lower (10-20): Specific technical skills\n",
    "   - Medium (30-50): General job requirements\n",
    "   - Higher (50-100): Broad role descriptions\n",
    "\n",
    "4. Max Tokens\n",
    "   - Short (50-100): Job titles, quick summaries\n",
    "   - Medium (150-300): Job descriptions, candidate profiles\n",
    "   - Long (300+): Detailed analysis, full job postings"
   ]
  }
 ],
 "metadata": {
  "kernelspec": {
   "display_name": "base",
   "language": "python",
   "name": "python3"
  },
  "language_info": {
   "codemirror_mode": {
    "name": "ipython",
    "version": 3
   },
   "file_extension": ".py",
   "mimetype": "text/x-python",
   "name": "python",
   "nbconvert_exporter": "python",
   "pygments_lexer": "ipython3",
   "version": "3.9.12"
  }
 },
 "nbformat": 4,
 "nbformat_minor": 5
}
