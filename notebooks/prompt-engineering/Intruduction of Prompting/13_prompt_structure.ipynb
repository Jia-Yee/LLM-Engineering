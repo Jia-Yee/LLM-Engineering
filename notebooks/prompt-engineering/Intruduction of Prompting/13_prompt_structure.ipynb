{
 "cells": [
  {
   "cell_type": "markdown",
   "id": "6ddaf5e7",
   "metadata": {},
   "source": [
    "# Prompt Engineering: Structure and Elements\n",
    "\n",
    "This notebook explores the fundamental structures and elements of prompts when working with Large Language Models (LLMs), with a focus on recruiting scenarios."
   ]
  },
  {
   "cell_type": "code",
   "execution_count": 3,
   "id": "d3b58141",
   "metadata": {},
   "outputs": [],
   "source": [
    "import json\n",
    "from subprocess import Popen, PIPE\n",
    "from IPython.display import Markdown, display\n",
    "\n",
    "def query_model(prompt, system_prompt=None, **kwargs):\n",
    "    \"\"\"Query Ollama with a specific presence_penalty setting\"\"\"\n",
    "    data = {\n",
    "        \"model\": \"llama3\",\n",
    "        \"prompt\": prompt,\n",
    "        \"options\": { **kwargs }\n",
    "    }\n",
    "\n",
    "    if system_prompt:\n",
    "        data[\"system\"] = system_prompt\n",
    "\n",
    "    cmd = [\n",
    "        \"curl\",\n",
    "        \"http://localhost:11434/api/generate\",\n",
    "        \"-d\",\n",
    "        json.dumps(data)\n",
    "    ]\n",
    "\n",
    "    process = Popen(cmd, stdout=PIPE, stderr=PIPE)\n",
    "    output, _ = process.communicate()\n",
    "\n",
    "    responses = [json.loads(line) for line in output.decode().strip().split(\"\\n\")]\n",
    "    return \"\".join(r.get(\"response\", \"\") for r in responses)\n",
    "\n",
    "def display_example(title, prompt, system_prompt=None):\n",
    "    \"\"\"Display an example prompt and its response\"\"\"\n",
    "    display(Markdown(f\"### {title}\"))\n",
    "    display(Markdown(f\"**Prompt:**\\n{prompt}\"))\n",
    "    if system_prompt:\n",
    "        display(Markdown(f\"**System Prompt:**\\n{system_prompt}\"))\n",
    "    response = query_model(prompt, system_prompt)\n",
    "    display(Markdown(f\"**Response:**\\n{response}\"))"
   ]
  },
  {
   "cell_type": "markdown",
   "id": "83460b5f",
   "metadata": {},
   "source": [
    "## 1. Core Elements of Prompts\n",
    "\n",
    "A well-structured prompt typically consists of several key elements:\n",
    "\n",
    "1. **Task Description**\n",
    "   - Clear statement of what you want the model to do\n",
    "   - Specific instructions about the desired output format\n",
    "   - Example: \"Analyze this resume and extract key skills\"\n",
    "\n",
    "2. **Context**\n",
    "   - Background information needed for the task\n",
    "   - Relevant constraints or requirements\n",
    "   - Example: \"You are an experienced technical recruiter reviewing candidates for a senior software engineer position\"\n",
    "\n",
    "3. **Input Data**\n",
    "   - The specific content to be processed\n",
    "   - Can be text, structured data, or examples\n",
    "   - Example: A job description or resume text\n",
    "\n",
    "4. **Output Format**\n",
    "   - Desired structure of the response\n",
    "   - Can be JSON, bullet points, paragraphs, etc.\n",
    "   - Example: \"Return the analysis in JSON format with skills, experience, and education sections\"\n",
    "\n",
    "5. **Examples (Few-shot Learning)**\n",
    "   - Sample inputs and desired outputs\n",
    "   - Helps model understand the expected format\n",
    "   - Example: Showing a sample resume analysis before processing a new one\n",
    "\n",
    "6. **Constraints and Guidelines**\n",
    "   - Specific limitations or requirements\n",
    "   - Style preferences or tone\n",
    "   - Example: \"Keep the response concise and professional\"\n",
    "\n",
    "7. **Chain of Thought**\n",
    "   - Breaking down complex tasks into steps\n",
    "   - Explaining reasoning process\n",
    "   - Example: \"First analyze technical skills, then assess experience level, finally evaluate culture fit\"\n"
   ]
  },
  {
   "cell_type": "markdown",
   "id": "4552795d",
   "metadata": {},
   "source": [
    "## 2. Basic Prompt Structure Example\n",
    "\n",
    "Let's start with a basic prompt structure for job description analysis:"
   ]
  },
  {
   "cell_type": "code",
   "execution_count": 4,
   "id": "17548776",
   "metadata": {},
   "outputs": [
    {
     "data": {
      "text/markdown": [
       "### Basic Job Description Analysis"
      ],
      "text/plain": [
       "<IPython.core.display.Markdown object>"
      ]
     },
     "metadata": {},
     "output_type": "display_data"
    },
    {
     "data": {
      "text/markdown": [
       "**Prompt:**\n",
       "Task: Analyze this job description and identify key requirements.\n",
       "Input: \n",
       "Senior Software Engineer\n",
       "Company: TechCorp\n",
       "Location: Remote\n",
       "\n",
       "We are seeking a Senior Software Engineer with strong experience in cloud technologies and distributed systems.\n",
       "\n",
       "Requirements:\n",
       "- 5+ years of experience in software development\n",
       "- Expertise in Python and JavaScript\n",
       "- Experience with AWS or Azure\n",
       "- Strong understanding of microservices architecture\n",
       "\n",
       "Output Format: Please provide a structured list of:\n",
       "1. Required years of experience\n",
       "2. Technical skills required\n",
       "3. Type of role (remote/onsite)\n"
      ],
      "text/plain": [
       "<IPython.core.display.Markdown object>"
      ]
     },
     "metadata": {},
     "output_type": "display_data"
    },
    {
     "data": {
      "text/markdown": [
       "**Response:**\n",
       "Here is the analysis of the job description:\n",
       "\n",
       "**Required years of experience:** 5+ years of experience in software development\n",
       "\n",
       "**Technical skills required:**\n",
       "\n",
       "* Expertise in Python and JavaScript\n",
       "* Experience with AWS or Azure\n",
       "* Strong understanding of microservices architecture\n",
       "\n",
       "**Type of role:** Remote"
      ],
      "text/plain": [
       "<IPython.core.display.Markdown object>"
      ]
     },
     "metadata": {},
     "output_type": "display_data"
    }
   ],
   "source": [
    "# Basic prompt structure example\n",
    "job_description = '''\n",
    "Senior Software Engineer\n",
    "Company: TechCorp\n",
    "Location: Remote\n",
    "\n",
    "We are seeking a Senior Software Engineer with strong experience in cloud technologies and distributed systems.\n",
    "\n",
    "Requirements:\n",
    "- 5+ years of experience in software development\n",
    "- Expertise in Python and JavaScript\n",
    "- Experience with AWS or Azure\n",
    "- Strong understanding of microservices architecture\n",
    "'''\n",
    "\n",
    "basic_prompt = f'''Task: Analyze this job description and identify key requirements.\n",
    "Input: {job_description}\n",
    "Output Format: Please provide a structured list of:\n",
    "1. Required years of experience\n",
    "2. Technical skills required\n",
    "3. Type of role (remote/onsite)\n",
    "'''\n",
    "\n",
    "display_example(\"Basic Job Description Analysis\", basic_prompt)"
   ]
  },
  {
   "cell_type": "markdown",
   "id": "862ee768",
   "metadata": {},
   "source": [
    "## 3. Context-Enhanced Prompts\n",
    "\n",
    "Adding context helps the model understand the perspective and requirements better:"
   ]
  },
  {
   "cell_type": "code",
   "execution_count": 5,
   "id": "8a2a3e99",
   "metadata": {},
   "outputs": [
    {
     "data": {
      "text/markdown": [
       "### Context-Enhanced Job Analysis"
      ],
      "text/plain": [
       "<IPython.core.display.Markdown object>"
      ]
     },
     "metadata": {},
     "output_type": "display_data"
    },
    {
     "data": {
      "text/markdown": [
       "**Prompt:**\n",
       "Context: You are helping a fast-growing startup evaluate job requirements for a senior engineering role.\n",
       "They want to ensure the requirements are competitive but not overly restrictive.\n",
       "\n",
       "Task: Analyze this job description and provide recommendations for improvement.\n",
       "Input: \n",
       "Senior Software Engineer\n",
       "Company: TechCorp\n",
       "Location: Remote\n",
       "\n",
       "We are seeking a Senior Software Engineer with strong experience in cloud technologies and distributed systems.\n",
       "\n",
       "Requirements:\n",
       "- 5+ years of experience in software development\n",
       "- Expertise in Python and JavaScript\n",
       "- Experience with AWS or Azure\n",
       "- Strong understanding of microservices architecture\n",
       "\n",
       "\n",
       "Please provide:\n",
       "1. Analysis of current requirements\n",
       "2. Suggestions for additional important requirements\n",
       "3. Recommendations for making the job description more attractive\n",
       "4. Potential red flags or overly restrictive requirements"
      ],
      "text/plain": [
       "<IPython.core.display.Markdown object>"
      ]
     },
     "metadata": {},
     "output_type": "display_data"
    },
    {
     "data": {
      "text/markdown": [
       "**System Prompt:**\n",
       "You are an experienced technical recruiter with expertise in:\n",
       "- Software engineering roles\n",
       "- Technical skill evaluation\n",
       "- Industry standards and market trends\n",
       "Your goal is to provide detailed, actionable insights for hiring managers."
      ],
      "text/plain": [
       "<IPython.core.display.Markdown object>"
      ]
     },
     "metadata": {},
     "output_type": "display_data"
    },
    {
     "data": {
      "text/markdown": [
       "**Response:**\n",
       "Analysis:\n",
       "\n",
       "The current job description is straightforward and clearly defines the required skills and experience for a Senior Software Engineer role. However, there are some areas that could be improved to make it more competitive and inclusive.\n",
       "\n",
       "Suggestions for additional important requirements:\n",
       "\n",
       "1. Add \"Strong understanding of containerization (e.g., Docker)\" as this is an essential skill in modern software development.\n",
       "2. Consider adding \"Experience with CI/CD pipelines\" as this ensures the candidate has hands-on experience with automating testing, building, and deployment processes.\n",
       "3. Include \"Knowledge of DevOps practices and tools\" to ensure the candidate is familiar with collaboration, version control, and continuous improvement.\n",
       "\n",
       "Recommendations for making the job description more attractive:\n",
       "\n",
       "1. Emphasize the company culture: Highlight TechCorp's values, mission, and unique aspects that would appeal to top talent.\n",
       "2. Add a section on growth opportunities: Mention training programs, mentorship, or career development initiatives to show your commitment to employee growth.\n",
       "3. Showcase the project scope: Provide an overview of the team's current projects, technologies used, and future directions to give candidates a sense of what they'll be working on.\n",
       "\n",
       "Potential red flags or overly restrictive requirements:\n",
       "\n",
       "1. The requirement for \"5+ years of experience\" might be too narrow; consider adjusting it to \"3-5 years of experience with a strong portfolio\" to attract more diverse candidates.\n",
       "2. The emphasis on AWS and Azure might be too specific; consider adding \"Cloud-agnostic mindset\" or \"Experience with cloud computing (AWS, Azure, GCP, etc.)\" to show flexibility in the team's stack choices.\n",
       "\n",
       "Revised job description:\n",
       "\n",
       "Senior Software Engineer\n",
       "Company: TechCorp\n",
       "Location: Remote\n",
       "\n",
       "We are seeking a Senior Software Engineer with strong experience in cloud technologies and distributed systems. As part of our innovative team, you'll have the opportunity to work on cutting-edge projects that drive business growth.\n",
       "\n",
       "Requirements:\n",
       "\n",
       "* 3-5 years of experience in software development with a strong portfolio\n",
       "* Expertise in Python and JavaScript\n",
       "* Experience with AWS, Azure, or Google Cloud Platform\n",
       "* Strong understanding of microservices architecture\n",
       "* Knowledge of containerization (e.g., Docker)\n",
       "* Familiarity with CI/CD pipelines and DevOps practices\n",
       "\n",
       "Additional highlights:\n",
       "\n",
       "* Emphasis on collaboration, innovation, and continuous learning\n",
       "* Opportunities for mentorship, training, and career growth\n",
       "* Exposure to a wide range of technologies and projects\n",
       "* Flexible work arrangements and remote-friendly culture\n",
       "\n",
       "By incorporating these recommendations, you'll create a job description that showcases your company's unique value proposition while being competitive in the market."
      ],
      "text/plain": [
       "<IPython.core.display.Markdown object>"
      ]
     },
     "metadata": {},
     "output_type": "display_data"
    }
   ],
   "source": [
    "# Context-enhanced prompt example\n",
    "system_prompt = '''You are an experienced technical recruiter with expertise in:\n",
    "- Software engineering roles\n",
    "- Technical skill evaluation\n",
    "- Industry standards and market trends\n",
    "Your goal is to provide detailed, actionable insights for hiring managers.'''\n",
    "\n",
    "context_prompt = f'''Context: You are helping a fast-growing startup evaluate job requirements for a senior engineering role.\n",
    "They want to ensure the requirements are competitive but not overly restrictive.\n",
    "\n",
    "Task: Analyze this job description and provide recommendations for improvement.\n",
    "Input: {job_description}\n",
    "\n",
    "Please provide:\n",
    "1. Analysis of current requirements\n",
    "2. Suggestions for additional important requirements\n",
    "3. Recommendations for making the job description more attractive\n",
    "4. Potential red flags or overly restrictive requirements'''\n",
    "\n",
    "display_example(\"Context-Enhanced Job Analysis\", context_prompt, system_prompt)"
   ]
  },
  {
   "cell_type": "markdown",
   "id": "a8e1e7bf",
   "metadata": {},
   "source": [
    "## 4. Few-Shot Learning with Examples\n",
    "\n",
    "Providing examples helps the model understand the expected format and style:"
   ]
  },
  {
   "cell_type": "code",
   "execution_count": 13,
   "id": "6fcf5175",
   "metadata": {},
   "outputs": [
    {
     "data": {
      "text/markdown": [
       "### Few-Shot Resume Analysis"
      ],
      "text/plain": [
       "<IPython.core.display.Markdown object>"
      ]
     },
     "metadata": {},
     "output_type": "display_data"
    },
    {
     "data": {
      "text/markdown": [
       "**Prompt:**\n",
       "Here's how to analyze a resume:\n",
       "\n",
       "Example Resume:\n",
       "---\n",
       "Jane Smith\n",
       "Full-Stack Developer\n",
       "\n",
       "Experience:\n",
       "Senior Engineer, WebCo (2018-2020)\n",
       "- Built scalable web applications\n",
       "- Led team of 3 developers\n",
       "\n",
       "Education:\n",
       "MS Computer Science, State University\n",
       "---\n",
       "\n",
       "Example Analysis:\n",
       "{\n",
       "  \"years_experience\": 2,\n",
       "  \"role_level\": \"Senior\",\n",
       "  \"key_skills\": [\"Web Development\", \"Team Leadership\"],\n",
       "  \"education_level\": \"Masters\"\n",
       "}\n",
       "\n",
       "Now analyze this resume:\n",
       "\n",
       "JOHN DOE\n",
       "Software Engineer\n",
       "\n",
       "EXPERIENCE\n",
       "Senior Developer, TechCorp (2019-Present)\n",
       "- Led development of cloud-native applications using Python and AWS\n",
       "- Managed team of 5 developers for microservices migration\n",
       "\n",
       "Software Engineer, StartupX (2017-2019)\n",
       "- Developed full-stack applications using React and Node.js\n",
       "- Implemented CI/CD pipelines using Jenkins\n",
       "\n",
       "EDUCATION\n",
       "BS Computer Science, Tech University (2017)\n",
       "\n",
       "\n",
       "Provide the analysis in the same JSON format."
      ],
      "text/plain": [
       "<IPython.core.display.Markdown object>"
      ]
     },
     "metadata": {},
     "output_type": "display_data"
    },
    {
     "data": {
      "text/markdown": [
       "**Response:**\n",
       "Here's the analysis of John Doe's resume:\n",
       "\n",
       "{\n",
       "  \"years_experience\": 4,\n",
       "  \"role_level\": \"Senior\",\n",
       "  \"key_skills\": [\"Cloud-Native Development\", \"Team Leadership\", \"Python\", \"AWS\", \"Full-Stack Development\", \"React\", \"Node.js\", \"CI/CD Pipelines\"],\n",
       "  \"education_level\": \"Bachelors\"\n",
       "}\n",
       "\n",
       "Note that I've extracted the following information:\n",
       "\n",
       "* Years of experience: John has been in the industry for 4 years, with 2 years as a senior developer.\n",
       "* Role level: As mentioned earlier, he's a senior developer.\n",
       "* Key skills: I've listed all the technologies and skills mentioned in his work experience, including cloud-native development, team leadership, and specific programming languages and tools.\n",
       "* Education level: John holds a Bachelor's degree in Computer Science."
      ],
      "text/plain": [
       "<IPython.core.display.Markdown object>"
      ]
     },
     "metadata": {},
     "output_type": "display_data"
    }
   ],
   "source": [
    "# Few-shot learning example\n",
    "resume_text = '''\n",
    "JOHN DOE\n",
    "Software Engineer\n",
    "\n",
    "EXPERIENCE\n",
    "Senior Developer, TechCorp (2019-Present)\n",
    "- Led development of cloud-native applications using Python and AWS\n",
    "- Managed team of 5 developers for microservices migration\n",
    "\n",
    "Software Engineer, StartupX (2017-2019)\n",
    "- Developed full-stack applications using React and Node.js\n",
    "- Implemented CI/CD pipelines using Jenkins\n",
    "\n",
    "EDUCATION\n",
    "BS Computer Science, Tech University (2017)\n",
    "'''\n",
    "\n",
    "few_shot_prompt = '''Here's how to analyze a resume:\n",
    "\n",
    "Example Resume:\n",
    "---\n",
    "Jane Smith\n",
    "Full-Stack Developer\n",
    "\n",
    "Experience:\n",
    "Senior Engineer, WebCo (2018-2020)\n",
    "- Built scalable web applications\n",
    "- Led team of 3 developers\n",
    "\n",
    "Education:\n",
    "MS Computer Science, State University\n",
    "---\n",
    "\n",
    "Example Analysis:\n",
    "{{\n",
    "  \"years_experience\": 2,\n",
    "  \"role_level\": \"Senior\",\n",
    "  \"key_skills\": [\"Web Development\", \"Team Leadership\"],\n",
    "  \"education_level\": \"Masters\"\n",
    "}}\n",
    "\n",
    "Now analyze this resume:\n",
    "{resume}\n",
    "\n",
    "Provide the analysis in the same JSON format.'''.format(resume=resume_text)\n",
    "\n",
    "display_example(\"Few-Shot Resume Analysis\", few_shot_prompt)"
   ]
  },
  {
   "cell_type": "markdown",
   "id": "f54308a3",
   "metadata": {},
   "source": [
    "## 5. Chain of Thought Prompts\n",
    "\n",
    "Breaking down complex tasks into steps helps achieve better results:"
   ]
  },
  {
   "cell_type": "code",
   "execution_count": 14,
   "id": "b859a69e",
   "metadata": {},
   "outputs": [
    {
     "data": {
      "text/markdown": [
       "### Chain of Thought Company Analysis"
      ],
      "text/plain": [
       "<IPython.core.display.Markdown object>"
      ]
     },
     "metadata": {},
     "output_type": "display_data"
    },
    {
     "data": {
      "text/markdown": [
       "**Prompt:**\n",
       "Let's analyze this company's hiring needs step by step.\n",
       "\n",
       "Input Company Information:\n",
       "\n",
       "TechCorp\n",
       "Industry: Enterprise Software\n",
       "Size: 500+ employees\n",
       "Culture: Fast-paced, innovative, remote-first\n",
       "Benefits: Competitive salary, equity, unlimited PTO\n",
       "Current Challenges: Scaling engineering team, improving product deployment speed\n",
       "\n",
       "\n",
       "Please follow these steps:\n",
       "1. First, analyze the company size and industry to understand the context\n",
       "2. Then, evaluate the company culture and what it means for hiring\n",
       "3. Next, consider the benefits package and its competitiveness\n",
       "4. After that, examine the current challenges\n",
       "5. Finally, provide specific recommendations for:\n",
       "   a) Type of candidates to target\n",
       "   b) Key skills to prioritize\n",
       "   c) Cultural attributes to look for\n",
       "   d) Suggested improvements to benefits package\n",
       "\n",
       "For each step, explain your reasoning before moving to the next step."
      ],
      "text/plain": [
       "<IPython.core.display.Markdown object>"
      ]
     },
     "metadata": {},
     "output_type": "display_data"
    },
    {
     "data": {
      "text/markdown": [
       "**Response:**\n",
       "Let's analyze TechCorp's hiring needs step by step.\n",
       "\n",
       "**Step 1: Analyze company size and industry**\n",
       "\n",
       "TechCorp has over 500 employees, which indicates a mid-to-large-sized organization. This suggests that they may have established processes and systems in place, but also may require more complex organizational structures to manage their growth. Additionally, being an Enterprise Software company means that they likely deal with large-scale projects and require specialized skills.\n",
       "\n",
       "Reasoning: Understanding the company size gives us insight into their current capacity for growth and the complexity of their operations. Knowing the industry provides context for the types of skills and expertise required in their engineering team.\n",
       "\n",
       "**Next step: Evaluate company culture**\n",
       "\n",
       "Please let me know when you're ready to proceed!"
      ],
      "text/plain": [
       "<IPython.core.display.Markdown object>"
      ]
     },
     "metadata": {},
     "output_type": "display_data"
    }
   ],
   "source": [
    "# Chain of thought example\n",
    "company_info = '''\n",
    "TechCorp\n",
    "Industry: Enterprise Software\n",
    "Size: 500+ employees\n",
    "Culture: Fast-paced, innovative, remote-first\n",
    "Benefits: Competitive salary, equity, unlimited PTO\n",
    "Current Challenges: Scaling engineering team, improving product deployment speed\n",
    "'''\n",
    "\n",
    "cot_prompt = f'''Let's analyze this company's hiring needs step by step.\n",
    "\n",
    "Input Company Information:\n",
    "{company_info}\n",
    "\n",
    "Please follow these steps:\n",
    "1. First, analyze the company size and industry to understand the context\n",
    "2. Then, evaluate the company culture and what it means for hiring\n",
    "3. Next, consider the benefits package and its competitiveness\n",
    "4. After that, examine the current challenges\n",
    "5. Finally, provide specific recommendations for:\n",
    "   a) Type of candidates to target\n",
    "   b) Key skills to prioritize\n",
    "   c) Cultural attributes to look for\n",
    "   d) Suggested improvements to benefits package\n",
    "\n",
    "For each step, explain your reasoning before moving to the next step.'''\n",
    "\n",
    "display_example(\"Chain of Thought Company Analysis\", cot_prompt)"
   ]
  },
  {
   "cell_type": "markdown",
   "id": "ef959624",
   "metadata": {},
   "source": [
    "## 6. Constrained Output Format\n",
    "\n",
    "Specifying exact output formats helps get consistent, structured responses:"
   ]
  },
  {
   "cell_type": "code",
   "execution_count": 15,
   "id": "a6aa54a4",
   "metadata": {},
   "outputs": [
    {
     "data": {
      "text/markdown": [
       "### Structured Job Requirements Analysis"
      ],
      "text/plain": [
       "<IPython.core.display.Markdown object>"
      ]
     },
     "metadata": {},
     "output_type": "display_data"
    },
    {
     "data": {
      "text/markdown": [
       "**Prompt:**\n",
       "Analyze this job requirement and return a JSON object with the following structure:\n",
       "{\n",
       "  \"role_name\": \"string\",\n",
       "  \"required_skills\": [\"string\"],\n",
       "  \"minimum_years\": \"number\",\n",
       "  \"nice_to_have\": [\"string\"],\n",
       "  \"level\": \"string\",\n",
       "  \"suggested_interview_questions\": [\"string\"]\n",
       "}\n",
       "\n",
       "Input:\n",
       "\n",
       "Full-Stack Developer\n",
       "Required Skills:\n",
       "- React, Node.js, MongoDB\n",
       "- 3+ years experience\n",
       "- Agile development\n",
       "Nice to Have:\n",
       "- AWS experience\n",
       "- TypeScript\n",
       "- Team leadership\n",
       "\n",
       "\n",
       "Ensure the response is valid JSON and includes exactly these fields."
      ],
      "text/plain": [
       "<IPython.core.display.Markdown object>"
      ]
     },
     "metadata": {},
     "output_type": "display_data"
    },
    {
     "data": {
      "text/markdown": [
       "**Response:**\n",
       "Here's the JSON object:\n",
       "\n",
       "```\n",
       "{\n",
       "  \"role_name\": \"Full-Stack Developer\",\n",
       "  \"required_skills\": [\"React\", \"Node.js\", \"MongoDB\"],\n",
       "  \"minimum_years\": 3,\n",
       "  \"nice_to_have\": [\"AWS experience\", \"TypeScript\", \"Team leadership\"],\n",
       "  \"level\": \"\",\n",
       "  \"suggested_interview_questions\": []\n",
       "}\n",
       "```\n",
       "\n",
       "Let me know if this meets your expectations!"
      ],
      "text/plain": [
       "<IPython.core.display.Markdown object>"
      ]
     },
     "metadata": {},
     "output_type": "display_data"
    }
   ],
   "source": [
    "# Constrained output format example\n",
    "job_req = '''\n",
    "Full-Stack Developer\n",
    "Required Skills:\n",
    "- React, Node.js, MongoDB\n",
    "- 3+ years experience\n",
    "- Agile development\n",
    "Nice to Have:\n",
    "- AWS experience\n",
    "- TypeScript\n",
    "- Team leadership\n",
    "'''\n",
    "\n",
    "structured_prompt = f'''Analyze this job requirement and return a JSON object with the following structure:\n",
    "{{\n",
    "  \"role_name\": \"string\",\n",
    "  \"required_skills\": [\"string\"],\n",
    "  \"minimum_years\": \"number\",\n",
    "  \"nice_to_have\": [\"string\"],\n",
    "  \"level\": \"string\",\n",
    "  \"suggested_interview_questions\": [\"string\"]\n",
    "}}\n",
    "\n",
    "Input:\n",
    "{job_req}\n",
    "\n",
    "Ensure the response is valid JSON and includes exactly these fields.'''\n",
    "\n",
    "display_example(\"Structured Job Requirements Analysis\", structured_prompt)"
   ]
  },
  {
   "cell_type": "markdown",
   "id": "1b88e2ac",
   "metadata": {},
   "source": [
    "## 7. Best Practices for Prompt Engineering\n",
    "\n",
    "1. **Be Specific and Clear**\n",
    "   - Use precise language\n",
    "   - Break down complex tasks\n",
    "   - Specify output format\n",
    "\n",
    "2. **Provide Context**\n",
    "   - Include relevant background information\n",
    "   - Specify the role or perspective\n",
    "   - Mention important constraints\n",
    "\n",
    "3. **Use Examples Effectively**\n",
    "   - Provide clear input/output examples\n",
    "   - Use few-shot learning for complex tasks\n",
    "   - Show edge cases when relevant\n",
    "\n",
    "4. **Structure Your Prompts**\n",
    "   - Start with clear task description\n",
    "   - Include all necessary elements\n",
    "   - Use consistent formatting\n",
    "\n",
    "5. **Iterate and Refine**\n",
    "   - Test with different inputs\n",
    "   - Adjust based on results\n",
    "   - Keep track of successful patterns\n",
    "\n",
    "6. **Consider the Model's Limitations**\n",
    "   - Stay within context window\n",
    "   - Break up large tasks\n",
    "   - Verify critical information"
   ]
  }
 ],
 "metadata": {
  "kernelspec": {
   "display_name": "base",
   "language": "python",
   "name": "python3"
  },
  "language_info": {
   "codemirror_mode": {
    "name": "ipython",
    "version": 3
   },
   "file_extension": ".py",
   "mimetype": "text/x-python",
   "name": "python",
   "nbconvert_exporter": "python",
   "pygments_lexer": "ipython3",
   "version": "3.9.12"
  }
 },
 "nbformat": 4,
 "nbformat_minor": 5
}
