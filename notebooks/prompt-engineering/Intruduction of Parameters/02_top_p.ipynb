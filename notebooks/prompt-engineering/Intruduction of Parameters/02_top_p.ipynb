{
 "cells": [
  {
   "cell_type": "markdown",
   "id": "0adf87eb",
   "metadata": {},
   "source": [
    "# Top-p (Nucleus Sampling) Parameter in LLMs\n",
    "\n",
    "## Introduction\n",
    "Top-p, also known as nucleus sampling, is a text generation parameter that helps control the randomness of the model's output by considering only the most likely tokens whose cumulative probability exceeds the specified top-p value.\n",
    "\n",
    "- **Top-p = 0.1**: Very focused, considers only the most probable tokens\n",
    "- **Top-p = 0.5**: Balanced, considers moderately probable tokens\n",
    "- **Top-p = 1.0**: Considers all possible tokens\n",
    "\n",
    "Unlike temperature, which scales probabilities, top-p truncates the probability distribution to only include the most likely tokens up to the cumulative probability threshold."
   ]
  },
  {
   "cell_type": "code",
   "execution_count": 1,
   "id": "82c40a9f",
   "metadata": {},
   "outputs": [],
   "source": [
    "import json\n",
    "from subprocess import Popen, PIPE\n",
    "\n",
    "def query_ollama(prompt, top_p=0.9):\n",
    "    \"\"\"Query Ollama with a specific top_p setting\"\"\"\n",
    "    cmd = [\n",
    "        \"curl\",\n",
    "        \"http://localhost:11434/api/generate\",\n",
    "        \"-d\",\n",
    "        json.dumps({\n",
    "            \"model\": \"llama2\",\n",
    "            \"prompt\": prompt,\n",
    "            \"top_p\": top_p\n",
    "        })\n",
    "    ]\n",
    "\n",
    "    process = Popen(cmd, stdout=PIPE, stderr=PIPE)\n",
    "    output, _ = process.communicate()\n",
    "\n",
    "    responses = [json.loads(line) for line in output.decode().strip().split(\"\\n\")]\n",
    "    return \"\".join(r.get(\"response\", \"\") for r in responses)"
   ]
  },
  {
   "cell_type": "markdown",
   "id": "f07363f1",
   "metadata": {},
   "source": [
    "## Examples\n",
    "\n",
    "Let's explore how different top-p values affect the model's output. We'll use a creative writing prompt and observe the differences in token selection."
   ]
  },
  {
   "cell_type": "code",
   "execution_count": 2,
   "id": "47be9e18",
   "metadata": {},
   "outputs": [
    {
     "name": "stdout",
     "output_type": "stream",
     "text": [
      "Top-p = 0.1 (Very focused)\n",
      "\n",
      " Sure, here are three possible uses for a magical crystal ball:\n",
      "\n",
      "1. Divination: A magical crystal ball could be used for divination, allowing the user to see glimpses of the future or gain insights into hidden truths. The ball could reveal answers to questions, show potential outcomes of decisions, or uncover hidden secrets and mysteries.\n",
      "2. Time Travel: A magical crystal ball could potentially allow the user to travel through time, visiting different eras and events in the past or future. The ball could grant the user the ability to witness historical events firsthand, meet famous figures from history, or even change the course of events in the past.\n",
      "3. Mind Reading: A magical crystal ball could also have the power to read minds, allowing the user to gain insight into the thoughts and intentions of others. The ball could reveal the deepest desires and fears of those around them, granting the user an unfair advantage in social situations or even allowing them to manipulate the thoughts and actions of others.\n",
      "\n",
      "Top-p = 0.5 (Balanced)\n",
      "\n",
      " Sure! Here are three possible uses for a magical crystal ball:\n",
      "\n",
      "1. Divination: The crystal ball could be used for divination, allowing the user to see glimpses of the future or gain insights into hidden truths. The ball might show images or visions that reveal information about upcoming events, potential outcomes, or the thoughts and intentions of others.\n",
      "2. Communication with spirits: In some magical systems, the crystal ball could be used as a means of communication with spirits or other supernatural entities. The user might be able to summon the spirits of ancestors, nature deities, or other beings to receive guidance or advice through the crystal ball.\n",
      "3. Time travel: Depending on the magical properties of the crystal ball, it could potentially be used for time travel. The user might be able to gaze into the ball and see glimpses of the past or future, or even interact with people or events from different time periods. However, this would likely require a great deal of magic and knowledge to execute successfully.\n",
      "\n",
      "Top-p = 0.9 (More diverse)\n",
      "\n",
      "Certainly! Here are three possible uses for a magical crystal ball:\n",
      "\n",
      "1. Divination: The crystal ball could be used to see glimpses of the future or to gain insight into hidden truths. With a simple gaze, the ball could reveal information about a person's past, present, or future, allowing for accurate predictions and decision-making.\n",
      "2. Time Travel: The crystal ball could potentially be used as a portal to other times and places. By focusing one's thoughts on a specific time or location and gazing into the ball, a person could find themselves transported to that time and place. This could be useful for both personal exploration and historical research.\n",
      "3. Mind Reading: The crystal ball could also be used as a tool for telepathy, allowing the user to read the thoughts of others. By concentrating on a particular person's mind and gazing into the ball, the user could gain insight into their deepest desires, fears, and motivations. This could be useful in a variety of situations, from business negotiations to personal relationships.\n"
     ]
    }
   ],
   "source": [
    "creative_prompt = \"List three possible uses for a magical crystal ball.\"\n",
    "\n",
    "print(\"Top-p = 0.1 (Very focused)\")\n",
    "print(query_ollama(creative_prompt, top_p=0.1))\n",
    "print(\"\\nTop-p = 0.5 (Balanced)\")\n",
    "print(query_ollama(creative_prompt, top_p=0.5))\n",
    "print(\"\\nTop-p = 0.9 (More diverse)\")\n",
    "print(query_ollama(creative_prompt, top_p=0.9))"
   ]
  },
  {
   "cell_type": "markdown",
   "id": "2d92f1e4",
   "metadata": {},
   "source": [
    "## Best Practices\n",
    "\n",
    "Choose top-p based on your use case:\n",
    "\n",
    "1. **Low Top-p (0.1 - 0.3)**\n",
    "   - Technical writing\n",
    "   - Factual responses\n",
    "   - When precision is crucial\n",
    "\n",
    "2. **Medium Top-p (0.4 - 0.7)**\n",
    "   - General conversation\n",
    "   - Content generation\n",
    "   - Balanced creativity and coherence\n",
    "\n",
    "3. **High Top-p (0.8 - 1.0)**\n",
    "   - Creative writing\n",
    "   - Brainstorming\n",
    "   - When diversity is important\n",
    "\n",
    "**Tips:**\n",
    "- Top-p can be used alongside temperature for fine-tuned control\n",
    "- Start with top-p = 0.9 for general use cases\n",
    "- Lower values create more predictable but potentially repetitive text\n",
    "- Higher values allow for more creative but potentially less focused outputs"
   ]
  }
 ],
 "metadata": {
  "kernelspec": {
   "display_name": "base",
   "language": "python",
   "name": "python3"
  },
  "language_info": {
   "codemirror_mode": {
    "name": "ipython",
    "version": 3
   },
   "file_extension": ".py",
   "mimetype": "text/x-python",
   "name": "python",
   "nbconvert_exporter": "python",
   "pygments_lexer": "ipython3",
   "version": "3.9.12"
  }
 },
 "nbformat": 4,
 "nbformat_minor": 5
}
