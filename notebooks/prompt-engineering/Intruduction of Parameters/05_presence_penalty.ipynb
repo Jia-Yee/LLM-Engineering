{
 "cells": [
  {
   "cell_type": "markdown",
   "id": "ef8c6b96",
   "metadata": {},
   "source": [
    "# Presence Penalty Parameter in LLMs\n",
    "\n",
    "## Introduction\n",
    "The presence_penalty parameter helps control repetition in model outputs by penalizing tokens that have already appeared in the text. This encourages the model to explore new topics and avoid getting stuck in repetitive patterns.\n",
    "\n",
    "Key aspects:\n",
    "- **Range**: Usually -2.0 to 2.0\n",
    "- **Positive values**: Encourage the model to talk about new topics\n",
    "- **Negative values**: Allow more repetition\n",
    "- **Zero**: No penalty applied\n",
    "\n",
    "Understanding presence_penalty is crucial for:\n",
    "- Reducing redundant information\n",
    "- Encouraging topic exploration\n",
    "- Maintaining natural conversation flow"
   ]
  },
  {
   "cell_type": "code",
   "execution_count": 1,
   "id": "4fbcebf8",
   "metadata": {},
   "outputs": [],
   "source": [
    "import json\n",
    "from subprocess import Popen, PIPE\n",
    "\n",
    "def query_ollama(prompt, presence_penalty=0.0):\n",
    "    \"\"\"Query Ollama with a specific presence_penalty setting\"\"\"\n",
    "    cmd = [\n",
    "        \"curl\",\n",
    "        \"http://localhost:11434/api/generate\",\n",
    "        \"-d\",\n",
    "        json.dumps({\n",
    "            \"model\": \"llama3\",\n",
    "            \"prompt\": prompt,\n",
    "            \"presence_penalty\": presence_penalty\n",
    "        })\n",
    "    ]\n",
    "\n",
    "    process = Popen(cmd, stdout=PIPE, stderr=PIPE)\n",
    "    output, _ = process.communicate()\n",
    "\n",
    "    responses = [json.loads(line) for line in output.decode().strip().split(\"\\n\")]\n",
    "    return \"\".join(r.get(\"response\", \"\") for r in responses)"
   ]
  },
  {
   "cell_type": "markdown",
   "id": "25cbf5bd",
   "metadata": {},
   "source": [
    "## Examples\n",
    "\n",
    "Let's explore how different presence_penalty values affect the model's tendency to repeat information. We'll use a prompt that naturally invites repetition to demonstrate the impact."
   ]
  },
  {
   "cell_type": "code",
   "execution_count": 2,
   "id": "e2dfdd57",
   "metadata": {},
   "outputs": [
    {
     "name": "stdout",
     "output_type": "stream",
     "text": [
      "Presence Penalty = -1.0 (More repetition allowed)\n",
      "\n",
      "Benefit #1: Improved Physical Health\n",
      "Exercise is essential for maintaining good physical health. Regular exercise can help prevent or manage various diseases and conditions, such as heart disease, diabetes, obesity, and some types of cancer. Exercise can also improve muscle strength and endurance, flexibility, and balance and coordination. For example, aerobic exercises like running, cycling, or swimming can help lower blood pressure and improve cardiovascular function, while resistance training like weightlifting or bodyweight exercises can help build stronger muscles and bones.\n",
      "\n",
      "Benefit #2: Mental Health Improvement\n",
      "Exercise has been shown to have a positive impact on mental health by reducing symptoms of anxiety and depression, improving mood, and enhancing cognitive function. Exercise can stimulate the production of endorphins, which are natural mood-boosters that can help alleviate stress and promote relaxation. Additionally, exercise can improve sleep quality, which is essential for good mental health. For example, a study published in the Journal of Psychiatry found that a 12-week exercise program significantly reduced symptoms of depression in patients with major depressive disorder.\n",
      "\n",
      "Benefit #3: Weight Management\n",
      "Regular exercise can help manage weight and maintain weight loss over time. Exercise can increase metabolism, burn calories, and build muscle mass, all of which can contribute to weight loss. Additionally, exercise can improve insulin sensitivity and glucose metabolism, which can help prevent or manage type 2 diabetes. For example, a study published in the Journal of Obesity found that a 12-month exercise program resulted in significant weight loss and improvements in body composition in adults with overweight or obesity.\n",
      "\n",
      "Benefit #4: Improved Bone Density\n",
      "Exercise is essential for maintaining strong bones throughout life. Weight-bearing exercises, such as running, jumping, or weightlifting, can help build and maintain bone density, particularly in older adults. This can reduce the risk of osteoporosis and fractures. Exercise can also stimulate the production of bone-forming cells, called osteoblasts, which can help build new bone tissue. For example, a study published in the Journal of Bone and Mineral Research found that a 12-month exercise program resulted in significant improvements in bone density in postmenopausal women.\n",
      "\n",
      "Benefit #5: Enhanced Brain Function\n",
      "Exercise has been shown to have a positive impact on brain function, including improved cognitive function, memory, and concentration. Exercise can stimulate the growth of new brain cells, called neuroblasts, and promote the formation of new neural connections, called synapses. Additionally, exercise can reduce inflammation in the brain, which can improve cognitive function. For example, a study published in the Journal of Aging and Physical Activity found that a 12-month exercise program resulted in significant improvements in cognitive function in older adults with mild cognitive impairment.\n",
      "\n",
      "In conclusion, regular exercise provides numerous benefits for physical and mental health, weight management, bone density, and brain function. By incorporating a variety of exercises into your routine, such as aerobic, resistance, and flexibility training, you can enjoy these benefits and improve your overall quality of life.\n",
      "\n",
      "Presence Penalty = 0.0 (Neutral)\n",
      "\n",
      "Exercise is an essential component of a healthy lifestyle, and it offers numerous benefits for the body and mind. Here are five benefits of exercise, along with detailed explanations:\n",
      "\n",
      "1. Improves Cardiovascular Health: Exercise helps strengthen the heart and lungs, which can lead to improved cardiovascular health. Regular physical activity can lower blood pressure, increase blood flow, and reduce the risk of heart disease. For example, aerobic exercises like running, cycling, or swimming can improve cardiac function by increasing oxygen delivery to the body's tissues.\n",
      "2. Builds Stronger Bones: Exercise, particularly weight-bearing activities such as running, jumping, and resistance training, can help build stronger bones. When the body is subjected to mechanical stress, it responds by increasing bone density, which can reduce the risk of osteoporosis and fractures later in life. For example, studies have shown that women who engage in regular exercise during their childbearing years have higher bone density than those who are sedentary.\n",
      "3. Enhances Cognitive Function: Exercise has been shown to improve cognitive function and reduce the risk of neurodegenerative diseases such as Alzheimer's and Parkinson's. Physical activity stimulates blood flow to the brain, which can enhance neuroplasticity and promote new neuron growth. For example, a study found that older adults who engaged in regular aerobic exercise experienced improvements in memory and cognitive function.\n",
      "4. Supports Weight Management: Exercise is an effective tool for managing body weight and composition. Regular physical activity can increase metabolism, burn calories, and promote fat loss. For example, a study found that individuals who engaged in regular aerobic exercise had lower body weights and body mass indexes compared to those who were sedentary.\n",
      "5. Reduces Inflammation: Exercise has anti-inflammatory effects, which can reduce the risk of chronic diseases such as arthritis, diabetes, and cancer. Physical activity stimulates the production of anti-inflammatory cytokines and reduces inflammation in the body. For example, a study found that individuals who engaged in regular exercise experienced reduced levels of C-reactive protein (CRP), a marker of inflammation, compared to those who were sedentary.\n",
      "\n",
      "In conclusion, exercise offers numerous benefits for both physical and mental health. Regular physical activity can improve cardiovascular health, build stronger bones, enhance cognitive function, support weight management, and reduce inflammation. These benefits can lead to a better overall quality of life and improved longevity.\n",
      "\n",
      "Presence Penalty = 1.0 (Less repetition)\n",
      "\n",
      "Exercise is an essential component of a healthy lifestyle, and it has numerous benefits for the body and mind. Here are five benefits of exercise, along with detailed explanations:\n",
      "\n",
      "Benefit 1: Improves Cardiovascular Health\n",
      "\n",
      "Exercise can significantly improve cardiovascular health by increasing heart rate and blood flow. Regular physical activity can help lower blood pressure, reduce the risk of heart disease, and even prevent heart attacks. Exercise also improves the body's ability to transport oxygen and nutrients to the muscles, which can lead to increased endurance and stamina.\n",
      "\n",
      "Benefit 2: Builds Stronger Bones and Muscles\n",
      "\n",
      "Exercise can help build stronger bones and muscles by stimulating bone growth and muscle mass. Resistance training, such as weightlifting or bodyweight exercises, can increase muscle strength and size, while aerobic exercise like running or cycling can improve bone density. The more intense and regular the exercise, the greater the benefits for bone and muscle health.\n",
      "\n",
      "Benefit 3: Enhances Brain Function\n",
      "\n",
      "Exercise has been shown to enhance brain function by improving cognitive function, memory, and mood. Aerobic exercise in particular can increase blood flow to the brain, which can lead to improved brain health and function. Exercise has also been linked to reduced risk of dementia and Alzheimer's disease.\n",
      "\n",
      "Benefit 4: Supports Weight Management\n",
      "\n",
      "Regular exercise can help support weight management by burning calories and building muscle mass. The more intense and longer the exercise, the more calories burned. Additionally, exercise can improve metabolism and increase the body's ability to burn fat for energy, which can lead to weight loss and maintenance.\n",
      "\n",
      "Benefit 5: Reduces Risk of Chronic Diseases\n",
      "\n",
      "Exercise has been shown to reduce the risk of chronic diseases such as type 2 diabetes, certain types of cancer, and osteoporosis. Regular physical activity can also improve insulin sensitivity, which can help prevent or manage blood sugar disorders. Exercise has also been linked to reduced risk of depression and anxiety.\n",
      "\n",
      "In conclusion, exercise offers numerous benefits for the body and mind. From improving cardiovascular health and building stronger bones and muscles, to enhancing brain function and reducing the risk of chronic diseases, regular physical activity is essential for overall health and well-being.\n"
     ]
    }
   ],
   "source": [
    "repetitive_prompt = \"List 5 benefits of exercise. For each benefit, provide a detailed explanation.\"\n",
    "\n",
    "print(\"Presence Penalty = -1.0 (More repetition allowed)\")\n",
    "print(query_ollama(repetitive_prompt, presence_penalty=-1.0))\n",
    "print(\"\\nPresence Penalty = 0.0 (Neutral)\")\n",
    "print(query_ollama(repetitive_prompt, presence_penalty=0.0))\n",
    "print(\"\\nPresence Penalty = 1.0 (Less repetition)\")\n",
    "print(query_ollama(repetitive_prompt, presence_penalty=1.0))"
   ]
  },
  {
   "cell_type": "markdown",
   "id": "5537219b",
   "metadata": {},
   "source": [
    "## Best Practices\n",
    "\n",
    "Choose presence_penalty based on your use case:\n",
    "\n",
    "1. **High Penalty (0.7 to 2.0)**\n",
    "   - Creative writing\n",
    "   - Brainstorming sessions\n",
    "   - Exploring diverse topics\n",
    "\n",
    "2. **Medium Penalty (0.3 to 0.7)**\n",
    "   - General conversation\n",
    "   - Content generation\n",
    "   - Explanations\n",
    "\n",
    "3. **Low or Negative Penalty (-2.0 to 0.3)**\n",
    "   - Technical documentation\n",
    "   - When consistency is important\n",
    "   - Formal writing\n",
    "\n",
    "**Tips:**\n",
    "- Start with presence_penalty = 0.0 and adjust based on needs\n",
    "- Higher values can make outputs more diverse but potentially less focused\n",
    "- Lower values maintain consistency but might lead to repetition\n",
    "- Consider combining with frequency_penalty for fine-tuned control\n",
    "- Monitor output quality when using extreme values"
   ]
  }
 ],
 "metadata": {
  "kernelspec": {
   "display_name": "base",
   "language": "python",
   "name": "python3"
  },
  "language_info": {
   "codemirror_mode": {
    "name": "ipython",
    "version": 3
   },
   "file_extension": ".py",
   "mimetype": "text/x-python",
   "name": "python",
   "nbconvert_exporter": "python",
   "pygments_lexer": "ipython3",
   "version": "3.9.12"
  }
 },
 "nbformat": 4,
 "nbformat_minor": 5
}
